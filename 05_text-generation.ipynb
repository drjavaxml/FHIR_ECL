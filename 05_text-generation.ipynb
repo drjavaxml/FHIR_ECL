{
  "cells": [
    {
      "cell_type": "code",
      "execution_count": 1,
      "metadata": {
        "id": "LGh7n-rafE2C",
        "outputId": "87667d3c-c88a-4b6f-e13d-df08c4c0844a",
        "colab": {
          "base_uri": "https://localhost:8080/"
        }
      },
      "outputs": [
        {
          "output_type": "stream",
          "name": "stdout",
          "text": [
            "Cloning into 'notebooks'...\n",
            "remote: Enumerating objects: 526, done.\u001b[K\n",
            "remote: Counting objects: 100% (173/173), done.\u001b[K\n",
            "remote: Compressing objects: 100% (47/47), done.\u001b[K\n",
            "remote: Total 526 (delta 143), reused 135 (delta 126), pack-reused 353\u001b[K\n",
            "Receiving objects: 100% (526/526), 28.62 MiB | 31.65 MiB/s, done.\n",
            "Resolving deltas: 100% (250/250), done.\n",
            "/content/notebooks\n",
            "⏳ Installing base requirements ...\n",
            "✅ Base requirements installed!\n",
            "⏳ Installing Git LFS ...\n",
            "✅ Git LFS installed!\n"
          ]
        }
      ],
      "source": [
        "# Uncomment and run this cell if you're on Colab or Kaggle\n",
        "!git clone https://github.com/nlp-with-transformers/notebooks.git\n",
        "%cd notebooks\n",
        "from install import *\n",
        "install_requirements()"
      ]
    },
    {
      "cell_type": "code",
      "execution_count": 2,
      "metadata": {
        "id": "WArbWLYTfE2G",
        "outputId": "efab09ea-191e-4883-91c7-ef55359ebd5c",
        "colab": {
          "base_uri": "https://localhost:8080/"
        }
      },
      "outputs": [
        {
          "output_type": "stream",
          "name": "stdout",
          "text": [
            "No GPU was detected! This notebook can be *very* slow without a GPU 🐢\n",
            "Go to Runtime > Change runtime type and select a GPU hardware accelerator.\n",
            "Using transformers v4.16.2\n",
            "Using datasets v1.16.1\n"
          ]
        }
      ],
      "source": [
        "# hide\n",
        "from utils import *\n",
        "setup_chapter()"
      ]
    },
    {
      "cell_type": "markdown",
      "metadata": {
        "id": "eXdcsEKIfE2H"
      },
      "source": [
        "# Text Generation"
      ]
    },
    {
      "cell_type": "markdown",
      "metadata": {
        "id": "mLqEkszufE2H"
      },
      "source": [
        "<img alt=\"LM Meta Learning\" width=\"800\" caption=\"During pretraining, language models are exposed to sequences of tasks that can be adapted during inference (courtesy of Tom B. Brown)\" src=\"https://github.com/nlp-with-transformers/notebooks/blob/main/images/chapter05_lm-meta-learning.png?raw=1\" id=\"lm-meta-learning\"/>"
      ]
    },
    {
      "cell_type": "markdown",
      "metadata": {
        "id": "oBozayRmfE2J"
      },
      "source": [
        "<img alt=\"Meena\" width=\"300\" caption=\"Meena on the left telling a corny joke to a human on the right (courtesy of Daniel Adiwardana and Thang Luong)\" src=\"https://github.com/nlp-with-transformers/notebooks/blob/main/images/chapter05_meena.png?raw=1\" id=\"meena\"/>"
      ]
    },
    {
      "cell_type": "markdown",
      "metadata": {
        "id": "jt2tNx_xfE2J"
      },
      "source": [
        "## The Challenge with Generating Coherent Text"
      ]
    },
    {
      "cell_type": "markdown",
      "metadata": {
        "id": "8FkYZgv0fE2K"
      },
      "source": [
        "<img alt=\"Text generation\" width=\"700\" caption=\"Generating text from an input sequence by adding a new word to the input at each step\" src=\"https://github.com/nlp-with-transformers/notebooks/blob/main/images/chapter05_text-generation.png?raw=1\" id=\"text-generation\"/>"
      ]
    },
    {
      "cell_type": "markdown",
      "metadata": {
        "id": "8ck4JqZ3fE2K"
      },
      "source": [
        "## Greedy Search Decoding"
      ]
    },
    {
      "cell_type": "code",
      "execution_count": 3,
      "metadata": {
        "id": "4gfokSvafE2K",
        "outputId": "e2e16d4f-a999-42cb-fba7-29a7c48d0e40",
        "colab": {
          "base_uri": "https://localhost:8080/",
          "height": 209,
          "referenced_widgets": [
            "2844eedbb23746a380a64e861e0aead8",
            "e8a3c9defe114b52b9bcd58aa3e49a1e",
            "c390ebab5acb4e0a96771d9c641377b1",
            "f0620f8e49f142f0ae40f6a34db4f838",
            "9e1017bd23ed498d99582889ddb438cc",
            "27c62304c5b4449fac32c097073a03a0",
            "191b1b5213c245a7b54eba9c8d91de4c",
            "95a17caf225441eaadf9157163541e46",
            "f135b5e0964a4ff6a7bfabc0839f9524",
            "cf5df8af7060469596ba8a91cf3bbea4",
            "c8032144b70941d49e18526d65636e01",
            "1c8eec37f22b4258956588081a8169f2",
            "9d41bd225a4849da9ce935680c0975dc",
            "da8f88b9424140139895c68ae0dabafd",
            "6defeba05f054957b1b6aa2e85f91995",
            "06acd722d3744ee6a37610f616c6097b",
            "3b193a0f40344f168fb57a34759b7ab9",
            "c3cfaad6407f4ec2b5b5640916ca01e4",
            "e02df9a44d5443fb87a01fec4bac408a",
            "5a2a04c8b18e45a8885665189b917bf6",
            "d1ee72b58f484ddd9b9f9f871e7e85f7",
            "e05105ee9b5643f1acc10aea30f1c081",
            "c086767cadb24c6faa6204470613a2e4",
            "647c24fd7948475e8d96e869d847ad50",
            "b8a0a4f5692b409ea8ff78e864feabf0",
            "70781df3702445c090c745e27cdd109c",
            "0e48fb7225024e568245dba57844d705",
            "c9fa3d631d7949668c7decab52fd2221",
            "e4bbfaa9d2c34ca48a60b8c394d3a9ea",
            "ae371edfd0274967b342980c85841f1e",
            "5b48dd6f970748dcb4fdc0afb693c020",
            "2cfa2948e0814a47b4c6afcae18d62bc",
            "fe84d78952674bb0ab97ba8eb0524a56",
            "89c2fe80755e4057b0d7359c20c15679",
            "4620ec52148a4851a23c26910b3abdd1",
            "c0f84e0e1803494188ff558148ea8625",
            "76d83319408242bc8d1a730005d04a64",
            "a5f2da64f3db4f4ca988de1aafe7c0be",
            "1eda480592544d0bbc147b8de49345b4",
            "35d3905bfa2c4011af006d72b855e836",
            "5f9c744346bd4c4db2b06304bbc8f216",
            "b0893929401647e9988dd12b9c25b762",
            "5ff349db37274b05b0faa753ef16b848",
            "34487fb35a9943cbae2f92cadb90f8eb",
            "4e18ac5687624deda955aeb096005472",
            "452ba540b08c486a91d9a986de420c7c",
            "f84d988bd76a44de978b9848721bdb7b",
            "b611d038323344faab09a050b255ff7d",
            "6e4a15542e5b47e5957b14a2cbb0086e",
            "639b89c82bba4437b191b2c6b96c20ee",
            "6234777a16254ed7ae0d79d7a94ecc9a",
            "dbb215012cf746e59d4afe30c1316979",
            "a9ce7cd17af74ea39635052f7ae7b7df",
            "41f630d160ea4e689ce668c77ca53a0c",
            "111095c7a3224196b15c25451f15c18c",
            "1e6acf15cebc42f188408972e672c69e",
            "f0ea7eabc0374be59baf1ab1bb1afe70",
            "7b15245878d743e7b035e6fda86f464c",
            "4dc8d396ba3d4af6acf9d3bfb8264d96",
            "9a349d18d5b04439a543dd5a72f3592b",
            "6c2a8f54b72740e18155b12c2551bb30",
            "3bb1dbab6d8a4e43846d5bed21f81e96",
            "b6c2d9a503a84b5796b5da54361b4500",
            "4020b4514dd84ec1a856291ad2f6a62b",
            "ce3eaca4e86a4883aeec5df4ccb43b5b",
            "bad7d4be16c8437d83b21d790ff3c420"
          ]
        }
      },
      "outputs": [
        {
          "output_type": "display_data",
          "data": {
            "text/plain": [
              "Downloading:   0%|          | 0.00/26.0 [00:00<?, ?B/s]"
            ],
            "application/vnd.jupyter.widget-view+json": {
              "version_major": 2,
              "version_minor": 0,
              "model_id": "2844eedbb23746a380a64e861e0aead8"
            }
          },
          "metadata": {}
        },
        {
          "output_type": "display_data",
          "data": {
            "text/plain": [
              "Downloading:   0%|          | 0.00/689 [00:00<?, ?B/s]"
            ],
            "application/vnd.jupyter.widget-view+json": {
              "version_major": 2,
              "version_minor": 0,
              "model_id": "1c8eec37f22b4258956588081a8169f2"
            }
          },
          "metadata": {}
        },
        {
          "output_type": "display_data",
          "data": {
            "text/plain": [
              "Downloading:   0%|          | 0.00/0.99M [00:00<?, ?B/s]"
            ],
            "application/vnd.jupyter.widget-view+json": {
              "version_major": 2,
              "version_minor": 0,
              "model_id": "c086767cadb24c6faa6204470613a2e4"
            }
          },
          "metadata": {}
        },
        {
          "output_type": "display_data",
          "data": {
            "text/plain": [
              "Downloading:   0%|          | 0.00/446k [00:00<?, ?B/s]"
            ],
            "application/vnd.jupyter.widget-view+json": {
              "version_major": 2,
              "version_minor": 0,
              "model_id": "89c2fe80755e4057b0d7359c20c15679"
            }
          },
          "metadata": {}
        },
        {
          "output_type": "display_data",
          "data": {
            "text/plain": [
              "Downloading:   0%|          | 0.00/1.29M [00:00<?, ?B/s]"
            ],
            "application/vnd.jupyter.widget-view+json": {
              "version_major": 2,
              "version_minor": 0,
              "model_id": "4e18ac5687624deda955aeb096005472"
            }
          },
          "metadata": {}
        },
        {
          "output_type": "display_data",
          "data": {
            "text/plain": [
              "Downloading:   0%|          | 0.00/5.99G [00:00<?, ?B/s]"
            ],
            "application/vnd.jupyter.widget-view+json": {
              "version_major": 2,
              "version_minor": 0,
              "model_id": "1e6acf15cebc42f188408972e672c69e"
            }
          },
          "metadata": {}
        }
      ],
      "source": [
        "# hide_output\n",
        "import torch\n",
        "from transformers import AutoTokenizer, AutoModelForCausalLM\n",
        "\n",
        "device = \"cuda\" if torch.cuda.is_available() else \"cpu\"\n",
        "model_name = \"gpt2-xl\"\n",
        "tokenizer = AutoTokenizer.from_pretrained(model_name)\n",
        "model = AutoModelForCausalLM.from_pretrained(model_name).to(device)"
      ]
    },
    {
      "cell_type": "code",
      "execution_count": 4,
      "metadata": {
        "id": "No4Vhj8VfE2L",
        "outputId": "a1ea555f-49fb-4b88-d493-7b946789963a",
        "colab": {
          "base_uri": "https://localhost:8080/",
          "height": 300
        }
      },
      "outputs": [
        {
          "output_type": "execute_result",
          "data": {
            "text/plain": [
              "                                               Input           Choice 1  \\\n",
              "0                               Transformers are the       most (8.53%)   \n",
              "1                          Transformers are the most   popular (16.78%)   \n",
              "2                  Transformers are the most popular       toy (10.63%)   \n",
              "3              Transformers are the most popular toy      line (34.38%)   \n",
              "4         Transformers are the most popular toy line        in (46.28%)   \n",
              "5      Transformers are the most popular toy line in       the (65.99%)   \n",
              "6  Transformers are the most popular toy line in the     world (69.27%)   \n",
              "7  Transformers are the most popular toy line in ...         , (39.73%)   \n",
              "\n",
              "            Choice 2               Choice 3               Choice 4  \\\n",
              "0       only (4.96%)           best (4.65%)   Transformers (4.37%)   \n",
              "1   powerful (5.37%)         common (4.96%)         famous (3.72%)   \n",
              "2       toys (7.23%)   Transformers (6.60%)             of (5.46%)   \n",
              "3        in (18.20%)            of (11.71%)          brand (6.10%)   \n",
              "4        of (15.09%)              , (4.94%)             on (4.40%)   \n",
              "5   history (12.42%)        America (6.91%)          Japan (2.44%)   \n",
              "6     United (4.55%)        history (4.29%)             US (4.23%)   \n",
              "7         . (30.64%)            and (9.87%)           with (2.32%)   \n",
              "\n",
              "              Choice 5  \n",
              "0     ultimate (2.16%)  \n",
              "1   successful (3.20%)  \n",
              "2          and (3.76%)  \n",
              "3         line (2.69%)  \n",
              "4         ever (2.72%)  \n",
              "5        North (1.40%)  \n",
              "6            U (2.30%)  \n",
              "7        today (1.74%)  "
            ],
            "text/html": [
              "\n",
              "  <div id=\"df-8e71447c-fc7b-490e-a988-63d663460f65\" class=\"colab-df-container\">\n",
              "    <div>\n",
              "<style scoped>\n",
              "    .dataframe tbody tr th:only-of-type {\n",
              "        vertical-align: middle;\n",
              "    }\n",
              "\n",
              "    .dataframe tbody tr th {\n",
              "        vertical-align: top;\n",
              "    }\n",
              "\n",
              "    .dataframe thead th {\n",
              "        text-align: right;\n",
              "    }\n",
              "</style>\n",
              "<table border=\"1\" class=\"dataframe\">\n",
              "  <thead>\n",
              "    <tr style=\"text-align: right;\">\n",
              "      <th></th>\n",
              "      <th>Input</th>\n",
              "      <th>Choice 1</th>\n",
              "      <th>Choice 2</th>\n",
              "      <th>Choice 3</th>\n",
              "      <th>Choice 4</th>\n",
              "      <th>Choice 5</th>\n",
              "    </tr>\n",
              "  </thead>\n",
              "  <tbody>\n",
              "    <tr>\n",
              "      <th>0</th>\n",
              "      <td>Transformers are the</td>\n",
              "      <td>most (8.53%)</td>\n",
              "      <td>only (4.96%)</td>\n",
              "      <td>best (4.65%)</td>\n",
              "      <td>Transformers (4.37%)</td>\n",
              "      <td>ultimate (2.16%)</td>\n",
              "    </tr>\n",
              "    <tr>\n",
              "      <th>1</th>\n",
              "      <td>Transformers are the most</td>\n",
              "      <td>popular (16.78%)</td>\n",
              "      <td>powerful (5.37%)</td>\n",
              "      <td>common (4.96%)</td>\n",
              "      <td>famous (3.72%)</td>\n",
              "      <td>successful (3.20%)</td>\n",
              "    </tr>\n",
              "    <tr>\n",
              "      <th>2</th>\n",
              "      <td>Transformers are the most popular</td>\n",
              "      <td>toy (10.63%)</td>\n",
              "      <td>toys (7.23%)</td>\n",
              "      <td>Transformers (6.60%)</td>\n",
              "      <td>of (5.46%)</td>\n",
              "      <td>and (3.76%)</td>\n",
              "    </tr>\n",
              "    <tr>\n",
              "      <th>3</th>\n",
              "      <td>Transformers are the most popular toy</td>\n",
              "      <td>line (34.38%)</td>\n",
              "      <td>in (18.20%)</td>\n",
              "      <td>of (11.71%)</td>\n",
              "      <td>brand (6.10%)</td>\n",
              "      <td>line (2.69%)</td>\n",
              "    </tr>\n",
              "    <tr>\n",
              "      <th>4</th>\n",
              "      <td>Transformers are the most popular toy line</td>\n",
              "      <td>in (46.28%)</td>\n",
              "      <td>of (15.09%)</td>\n",
              "      <td>, (4.94%)</td>\n",
              "      <td>on (4.40%)</td>\n",
              "      <td>ever (2.72%)</td>\n",
              "    </tr>\n",
              "    <tr>\n",
              "      <th>5</th>\n",
              "      <td>Transformers are the most popular toy line in</td>\n",
              "      <td>the (65.99%)</td>\n",
              "      <td>history (12.42%)</td>\n",
              "      <td>America (6.91%)</td>\n",
              "      <td>Japan (2.44%)</td>\n",
              "      <td>North (1.40%)</td>\n",
              "    </tr>\n",
              "    <tr>\n",
              "      <th>6</th>\n",
              "      <td>Transformers are the most popular toy line in the</td>\n",
              "      <td>world (69.27%)</td>\n",
              "      <td>United (4.55%)</td>\n",
              "      <td>history (4.29%)</td>\n",
              "      <td>US (4.23%)</td>\n",
              "      <td>U (2.30%)</td>\n",
              "    </tr>\n",
              "    <tr>\n",
              "      <th>7</th>\n",
              "      <td>Transformers are the most popular toy line in ...</td>\n",
              "      <td>, (39.73%)</td>\n",
              "      <td>. (30.64%)</td>\n",
              "      <td>and (9.87%)</td>\n",
              "      <td>with (2.32%)</td>\n",
              "      <td>today (1.74%)</td>\n",
              "    </tr>\n",
              "  </tbody>\n",
              "</table>\n",
              "</div>\n",
              "    <div class=\"colab-df-buttons\">\n",
              "\n",
              "  <div class=\"colab-df-container\">\n",
              "    <button class=\"colab-df-convert\" onclick=\"convertToInteractive('df-8e71447c-fc7b-490e-a988-63d663460f65')\"\n",
              "            title=\"Convert this dataframe to an interactive table.\"\n",
              "            style=\"display:none;\">\n",
              "\n",
              "  <svg xmlns=\"http://www.w3.org/2000/svg\" height=\"24px\" viewBox=\"0 -960 960 960\">\n",
              "    <path d=\"M120-120v-720h720v720H120Zm60-500h600v-160H180v160Zm220 220h160v-160H400v160Zm0 220h160v-160H400v160ZM180-400h160v-160H180v160Zm440 0h160v-160H620v160ZM180-180h160v-160H180v160Zm440 0h160v-160H620v160Z\"/>\n",
              "  </svg>\n",
              "    </button>\n",
              "\n",
              "  <style>\n",
              "    .colab-df-container {\n",
              "      display:flex;\n",
              "      gap: 12px;\n",
              "    }\n",
              "\n",
              "    .colab-df-convert {\n",
              "      background-color: #E8F0FE;\n",
              "      border: none;\n",
              "      border-radius: 50%;\n",
              "      cursor: pointer;\n",
              "      display: none;\n",
              "      fill: #1967D2;\n",
              "      height: 32px;\n",
              "      padding: 0 0 0 0;\n",
              "      width: 32px;\n",
              "    }\n",
              "\n",
              "    .colab-df-convert:hover {\n",
              "      background-color: #E2EBFA;\n",
              "      box-shadow: 0px 1px 2px rgba(60, 64, 67, 0.3), 0px 1px 3px 1px rgba(60, 64, 67, 0.15);\n",
              "      fill: #174EA6;\n",
              "    }\n",
              "\n",
              "    .colab-df-buttons div {\n",
              "      margin-bottom: 4px;\n",
              "    }\n",
              "\n",
              "    [theme=dark] .colab-df-convert {\n",
              "      background-color: #3B4455;\n",
              "      fill: #D2E3FC;\n",
              "    }\n",
              "\n",
              "    [theme=dark] .colab-df-convert:hover {\n",
              "      background-color: #434B5C;\n",
              "      box-shadow: 0px 1px 3px 1px rgba(0, 0, 0, 0.15);\n",
              "      filter: drop-shadow(0px 1px 2px rgba(0, 0, 0, 0.3));\n",
              "      fill: #FFFFFF;\n",
              "    }\n",
              "  </style>\n",
              "\n",
              "    <script>\n",
              "      const buttonEl =\n",
              "        document.querySelector('#df-8e71447c-fc7b-490e-a988-63d663460f65 button.colab-df-convert');\n",
              "      buttonEl.style.display =\n",
              "        google.colab.kernel.accessAllowed ? 'block' : 'none';\n",
              "\n",
              "      async function convertToInteractive(key) {\n",
              "        const element = document.querySelector('#df-8e71447c-fc7b-490e-a988-63d663460f65');\n",
              "        const dataTable =\n",
              "          await google.colab.kernel.invokeFunction('convertToInteractive',\n",
              "                                                    [key], {});\n",
              "        if (!dataTable) return;\n",
              "\n",
              "        const docLinkHtml = 'Like what you see? Visit the ' +\n",
              "          '<a target=\"_blank\" href=https://colab.research.google.com/notebooks/data_table.ipynb>data table notebook</a>'\n",
              "          + ' to learn more about interactive tables.';\n",
              "        element.innerHTML = '';\n",
              "        dataTable['output_type'] = 'display_data';\n",
              "        await google.colab.output.renderOutput(dataTable, element);\n",
              "        const docLink = document.createElement('div');\n",
              "        docLink.innerHTML = docLinkHtml;\n",
              "        element.appendChild(docLink);\n",
              "      }\n",
              "    </script>\n",
              "  </div>\n",
              "\n",
              "\n",
              "<div id=\"df-f642c2f1-a098-41f6-a727-d59580d45e84\">\n",
              "  <button class=\"colab-df-quickchart\" onclick=\"quickchart('df-f642c2f1-a098-41f6-a727-d59580d45e84')\"\n",
              "            title=\"Suggest charts\"\n",
              "            style=\"display:none;\">\n",
              "\n",
              "<svg xmlns=\"http://www.w3.org/2000/svg\" height=\"24px\"viewBox=\"0 0 24 24\"\n",
              "     width=\"24px\">\n",
              "    <g>\n",
              "        <path d=\"M19 3H5c-1.1 0-2 .9-2 2v14c0 1.1.9 2 2 2h14c1.1 0 2-.9 2-2V5c0-1.1-.9-2-2-2zM9 17H7v-7h2v7zm4 0h-2V7h2v10zm4 0h-2v-4h2v4z\"/>\n",
              "    </g>\n",
              "</svg>\n",
              "  </button>\n",
              "\n",
              "<style>\n",
              "  .colab-df-quickchart {\n",
              "      --bg-color: #E8F0FE;\n",
              "      --fill-color: #1967D2;\n",
              "      --hover-bg-color: #E2EBFA;\n",
              "      --hover-fill-color: #174EA6;\n",
              "      --disabled-fill-color: #AAA;\n",
              "      --disabled-bg-color: #DDD;\n",
              "  }\n",
              "\n",
              "  [theme=dark] .colab-df-quickchart {\n",
              "      --bg-color: #3B4455;\n",
              "      --fill-color: #D2E3FC;\n",
              "      --hover-bg-color: #434B5C;\n",
              "      --hover-fill-color: #FFFFFF;\n",
              "      --disabled-bg-color: #3B4455;\n",
              "      --disabled-fill-color: #666;\n",
              "  }\n",
              "\n",
              "  .colab-df-quickchart {\n",
              "    background-color: var(--bg-color);\n",
              "    border: none;\n",
              "    border-radius: 50%;\n",
              "    cursor: pointer;\n",
              "    display: none;\n",
              "    fill: var(--fill-color);\n",
              "    height: 32px;\n",
              "    padding: 0;\n",
              "    width: 32px;\n",
              "  }\n",
              "\n",
              "  .colab-df-quickchart:hover {\n",
              "    background-color: var(--hover-bg-color);\n",
              "    box-shadow: 0 1px 2px rgba(60, 64, 67, 0.3), 0 1px 3px 1px rgba(60, 64, 67, 0.15);\n",
              "    fill: var(--button-hover-fill-color);\n",
              "  }\n",
              "\n",
              "  .colab-df-quickchart-complete:disabled,\n",
              "  .colab-df-quickchart-complete:disabled:hover {\n",
              "    background-color: var(--disabled-bg-color);\n",
              "    fill: var(--disabled-fill-color);\n",
              "    box-shadow: none;\n",
              "  }\n",
              "\n",
              "  .colab-df-spinner {\n",
              "    border: 2px solid var(--fill-color);\n",
              "    border-color: transparent;\n",
              "    border-bottom-color: var(--fill-color);\n",
              "    animation:\n",
              "      spin 1s steps(1) infinite;\n",
              "  }\n",
              "\n",
              "  @keyframes spin {\n",
              "    0% {\n",
              "      border-color: transparent;\n",
              "      border-bottom-color: var(--fill-color);\n",
              "      border-left-color: var(--fill-color);\n",
              "    }\n",
              "    20% {\n",
              "      border-color: transparent;\n",
              "      border-left-color: var(--fill-color);\n",
              "      border-top-color: var(--fill-color);\n",
              "    }\n",
              "    30% {\n",
              "      border-color: transparent;\n",
              "      border-left-color: var(--fill-color);\n",
              "      border-top-color: var(--fill-color);\n",
              "      border-right-color: var(--fill-color);\n",
              "    }\n",
              "    40% {\n",
              "      border-color: transparent;\n",
              "      border-right-color: var(--fill-color);\n",
              "      border-top-color: var(--fill-color);\n",
              "    }\n",
              "    60% {\n",
              "      border-color: transparent;\n",
              "      border-right-color: var(--fill-color);\n",
              "    }\n",
              "    80% {\n",
              "      border-color: transparent;\n",
              "      border-right-color: var(--fill-color);\n",
              "      border-bottom-color: var(--fill-color);\n",
              "    }\n",
              "    90% {\n",
              "      border-color: transparent;\n",
              "      border-bottom-color: var(--fill-color);\n",
              "    }\n",
              "  }\n",
              "</style>\n",
              "\n",
              "  <script>\n",
              "    async function quickchart(key) {\n",
              "      const quickchartButtonEl =\n",
              "        document.querySelector('#' + key + ' button');\n",
              "      quickchartButtonEl.disabled = true;  // To prevent multiple clicks.\n",
              "      quickchartButtonEl.classList.add('colab-df-spinner');\n",
              "      try {\n",
              "        const charts = await google.colab.kernel.invokeFunction(\n",
              "            'suggestCharts', [key], {});\n",
              "      } catch (error) {\n",
              "        console.error('Error during call to suggestCharts:', error);\n",
              "      }\n",
              "      quickchartButtonEl.classList.remove('colab-df-spinner');\n",
              "      quickchartButtonEl.classList.add('colab-df-quickchart-complete');\n",
              "    }\n",
              "    (() => {\n",
              "      let quickchartButtonEl =\n",
              "        document.querySelector('#df-f642c2f1-a098-41f6-a727-d59580d45e84 button');\n",
              "      quickchartButtonEl.style.display =\n",
              "        google.colab.kernel.accessAllowed ? 'block' : 'none';\n",
              "    })();\n",
              "  </script>\n",
              "</div>\n",
              "\n",
              "    </div>\n",
              "  </div>\n"
            ],
            "application/vnd.google.colaboratory.intrinsic+json": {
              "type": "dataframe",
              "summary": "{\n  \"name\": \"pd\",\n  \"rows\": 8,\n  \"fields\": [\n    {\n      \"column\": \"Input\",\n      \"properties\": {\n        \"dtype\": \"string\",\n        \"num_unique_values\": 8,\n        \"samples\": [\n          \"Transformers are the most\",\n          \"Transformers are the most popular toy line in\",\n          \"Transformers are the\"\n        ],\n        \"semantic_type\": \"\",\n        \"description\": \"\"\n      }\n    },\n    {\n      \"column\": \"Choice 1\",\n      \"properties\": {\n        \"dtype\": \"string\",\n        \"num_unique_values\": 8,\n        \"samples\": [\n          \" popular (16.78%)\",\n          \" the (65.99%)\",\n          \" most (8.53%)\"\n        ],\n        \"semantic_type\": \"\",\n        \"description\": \"\"\n      }\n    },\n    {\n      \"column\": \"Choice 2\",\n      \"properties\": {\n        \"dtype\": \"string\",\n        \"num_unique_values\": 8,\n        \"samples\": [\n          \" powerful (5.37%)\",\n          \" history (12.42%)\",\n          \" only (4.96%)\"\n        ],\n        \"semantic_type\": \"\",\n        \"description\": \"\"\n      }\n    },\n    {\n      \"column\": \"Choice 3\",\n      \"properties\": {\n        \"dtype\": \"string\",\n        \"num_unique_values\": 8,\n        \"samples\": [\n          \" common (4.96%)\",\n          \" America (6.91%)\",\n          \" best (4.65%)\"\n        ],\n        \"semantic_type\": \"\",\n        \"description\": \"\"\n      }\n    },\n    {\n      \"column\": \"Choice 4\",\n      \"properties\": {\n        \"dtype\": \"string\",\n        \"num_unique_values\": 8,\n        \"samples\": [\n          \" famous (3.72%)\",\n          \" Japan (2.44%)\",\n          \" Transformers (4.37%)\"\n        ],\n        \"semantic_type\": \"\",\n        \"description\": \"\"\n      }\n    },\n    {\n      \"column\": \"Choice 5\",\n      \"properties\": {\n        \"dtype\": \"string\",\n        \"num_unique_values\": 8,\n        \"samples\": [\n          \" successful (3.20%)\",\n          \" North (1.40%)\",\n          \" ultimate (2.16%)\"\n        ],\n        \"semantic_type\": \"\",\n        \"description\": \"\"\n      }\n    }\n  ]\n}"
            }
          },
          "metadata": {},
          "execution_count": 4
        }
      ],
      "source": [
        "# hide_output\n",
        "import pandas as pd\n",
        "\n",
        "input_txt = \"Transformers are the\"\n",
        "input_ids = tokenizer(input_txt, return_tensors=\"pt\")[\"input_ids\"].to(device)\n",
        "iterations = []\n",
        "n_steps = 8\n",
        "choices_per_step = 5\n",
        "\n",
        "with torch.no_grad():\n",
        "    for _ in range(n_steps):\n",
        "        iteration = dict()\n",
        "        iteration[\"Input\"] = tokenizer.decode(input_ids[0])\n",
        "        output = model(input_ids=input_ids)\n",
        "        # Select logits of the first batch and the last token and apply softmax\n",
        "        next_token_logits = output.logits[0, -1, :]\n",
        "        next_token_probs = torch.softmax(next_token_logits, dim=-1)\n",
        "        sorted_ids = torch.argsort(next_token_probs, dim=-1, descending=True)\n",
        "        # Store tokens with highest probabilities\n",
        "        for choice_idx in range(choices_per_step):\n",
        "            token_id = sorted_ids[choice_idx]\n",
        "            token_prob = next_token_probs[token_id].cpu().numpy()\n",
        "            token_choice = (\n",
        "                f\"{tokenizer.decode(token_id)} ({100 * token_prob:.2f}%)\"\n",
        "            )\n",
        "            iteration[f\"Choice {choice_idx+1}\"] = token_choice\n",
        "        # Append predicted next token to input\n",
        "        input_ids = torch.cat([input_ids, sorted_ids[None, 0, None]], dim=-1)\n",
        "        iterations.append(iteration)\n",
        "\n",
        "pd.DataFrame(iterations)"
      ]
    },
    {
      "cell_type": "code",
      "execution_count": 5,
      "metadata": {
        "id": "934M2o3HfE2M",
        "outputId": "cf0ce8af-afed-4603-aa7c-fb9606155632",
        "colab": {
          "base_uri": "https://localhost:8080/"
        }
      },
      "outputs": [
        {
          "output_type": "stream",
          "name": "stdout",
          "text": [
            "Transformers are the most popular toy line in the world,\n"
          ]
        }
      ],
      "source": [
        "input_ids = tokenizer(input_txt, return_tensors=\"pt\")[\"input_ids\"].to(device)\n",
        "output = model.generate(input_ids, max_new_tokens=n_steps, do_sample=False)\n",
        "print(tokenizer.decode(output[0]))"
      ]
    },
    {
      "cell_type": "code",
      "execution_count": 6,
      "metadata": {
        "id": "rP4WI7QxfE2M",
        "outputId": "c4b137a6-b73b-4dad-dba4-8e74c2a4646f",
        "colab": {
          "base_uri": "https://localhost:8080/"
        }
      },
      "outputs": [
        {
          "output_type": "stream",
          "name": "stdout",
          "text": [
            "In a shocking finding, scientist discovered a herd of unicorns living in a\n",
            "remote, previously unexplored valley, in the Andes Mountains. Even more\n",
            "surprising to the researchers was the fact that the unicorns spoke perfect\n",
            "English.\n",
            "\n",
            "\n",
            "The researchers, from the University of California, Davis, and the University of\n",
            "Colorado, Boulder, were conducting a study on the Andean cloud forest, which is\n",
            "home to the rare species of cloud forest trees.\n",
            "\n",
            "\n",
            "The researchers were surprised to find that the unicorns were able to\n",
            "communicate with each other, and even with humans.\n",
            "\n",
            "\n",
            "The researchers were surprised to find that the unicorns were able\n"
          ]
        }
      ],
      "source": [
        "max_length = 128\n",
        "input_txt = \"\"\"In a shocking finding, scientist discovered \\\n",
        "a herd of unicorns living in a remote, previously unexplored \\\n",
        "valley, in the Andes Mountains. Even more surprising to the \\\n",
        "researchers was the fact that the unicorns spoke perfect English.\\n\\n\n",
        "\"\"\"\n",
        "input_ids = tokenizer(input_txt, return_tensors=\"pt\")[\"input_ids\"].to(device)\n",
        "output_greedy = model.generate(input_ids, max_length=max_length,\n",
        "                               do_sample=False)\n",
        "print(tokenizer.decode(output_greedy[0]))"
      ]
    },
    {
      "cell_type": "markdown",
      "metadata": {
        "id": "c5fcJhigfE2M"
      },
      "source": [
        "## Beam Search Decoding"
      ]
    },
    {
      "cell_type": "markdown",
      "metadata": {
        "id": "JzjYQU0-fE2N"
      },
      "source": [
        "<img alt=\"Beam search\" width=\"700\" caption=\"Beam search with two beams—the most probable sequences at each timestep are highlighted in blue\" src=\"https://github.com/nlp-with-transformers/notebooks/blob/main/images/chapter05_beam-search.png?raw=1\" id=\"beam-search\"/>"
      ]
    },
    {
      "cell_type": "code",
      "execution_count": 7,
      "metadata": {
        "id": "-0eZG_x5fE2N",
        "outputId": "23e94454-a4c4-4ad0-9a84-ccf507cd7f2d",
        "colab": {
          "base_uri": "https://localhost:8080/"
        }
      },
      "outputs": [
        {
          "output_type": "execute_result",
          "data": {
            "text/plain": [
              "5.562684646268003e-309"
            ]
          },
          "metadata": {},
          "execution_count": 7
        }
      ],
      "source": [
        "0.5 ** 1024"
      ]
    },
    {
      "cell_type": "code",
      "execution_count": 8,
      "metadata": {
        "id": "WofIIsgUfE2N",
        "outputId": "925e71c5-6f53-47cc-9ee1-0d82b8ba050d",
        "colab": {
          "base_uri": "https://localhost:8080/"
        }
      },
      "outputs": [
        {
          "output_type": "execute_result",
          "data": {
            "text/plain": [
              "-709.7827128933695"
            ]
          },
          "metadata": {},
          "execution_count": 8
        }
      ],
      "source": [
        "import numpy as np\n",
        "\n",
        "sum([np.log(0.5)] * 1024)"
      ]
    },
    {
      "cell_type": "code",
      "execution_count": 9,
      "metadata": {
        "id": "60M4avYUfE2N"
      },
      "outputs": [],
      "source": [
        "import torch.nn.functional as F\n",
        "\n",
        "def log_probs_from_logits(logits, labels):\n",
        "    logp = F.log_softmax(logits, dim=-1)\n",
        "    logp_label = torch.gather(logp, 2, labels.unsqueeze(2)).squeeze(-1)\n",
        "    return logp_label"
      ]
    },
    {
      "cell_type": "code",
      "execution_count": 10,
      "metadata": {
        "id": "l5Uw7OVPfE2N"
      },
      "outputs": [],
      "source": [
        "def sequence_logprob(model, labels, input_len=0):\n",
        "    with torch.no_grad():\n",
        "        output = model(labels)\n",
        "        log_probs = log_probs_from_logits(\n",
        "            output.logits[:, :-1, :], labels[:, 1:])\n",
        "        seq_log_prob = torch.sum(log_probs[:, input_len:])\n",
        "    return seq_log_prob.cpu().numpy()"
      ]
    },
    {
      "cell_type": "code",
      "execution_count": 11,
      "metadata": {
        "id": "YNwVds7tfE2O",
        "outputId": "1c7e112e-f7cc-49b7-fe7d-7d21f5dd5216",
        "colab": {
          "base_uri": "https://localhost:8080/"
        }
      },
      "outputs": [
        {
          "output_type": "stream",
          "name": "stdout",
          "text": [
            "In a shocking finding, scientist discovered a herd of unicorns living in a\n",
            "remote, previously unexplored valley, in the Andes Mountains. Even more\n",
            "surprising to the researchers was the fact that the unicorns spoke perfect\n",
            "English.\n",
            "\n",
            "\n",
            "The researchers, from the University of California, Davis, and the University of\n",
            "Colorado, Boulder, were conducting a study on the Andean cloud forest, which is\n",
            "home to the rare species of cloud forest trees.\n",
            "\n",
            "\n",
            "The researchers were surprised to find that the unicorns were able to\n",
            "communicate with each other, and even with humans.\n",
            "\n",
            "\n",
            "The researchers were surprised to find that the unicorns were able\n",
            "\n",
            "log-prob: -87.43\n"
          ]
        }
      ],
      "source": [
        "logp = sequence_logprob(model, output_greedy, input_len=len(input_ids[0]))\n",
        "print(tokenizer.decode(output_greedy[0]))\n",
        "print(f\"\\nlog-prob: {logp:.2f}\")"
      ]
    },
    {
      "cell_type": "code",
      "execution_count": 12,
      "metadata": {
        "id": "8eDAi_vbfE2O",
        "outputId": "66de2e37-4095-4c60-eb79-f1fcd5503b66",
        "colab": {
          "base_uri": "https://localhost:8080/"
        }
      },
      "outputs": [
        {
          "output_type": "stream",
          "name": "stdout",
          "text": [
            "In a shocking finding, scientist discovered a herd of unicorns living in a\n",
            "remote, previously unexplored valley, in the Andes Mountains. Even more\n",
            "surprising to the researchers was the fact that the unicorns spoke perfect\n",
            "English.\n",
            "\n",
            "\n",
            "The discovery of the unicorns was made by a team of scientists from the\n",
            "University of California, Santa Cruz, and the National Geographic Society.\n",
            "\n",
            "\n",
            "The scientists were conducting a study of the Andes Mountains when they\n",
            "discovered a herd of unicorns living in a remote, previously unexplored valley,\n",
            "in the Andes Mountains. Even more surprising to the researchers was the fact\n",
            "that the unicorns spoke perfect English\n",
            "\n",
            "log-prob: -55.23\n"
          ]
        }
      ],
      "source": [
        "output_beam = model.generate(input_ids, max_length=max_length, num_beams=5,\n",
        "                             do_sample=False)\n",
        "logp = sequence_logprob(model, output_beam, input_len=len(input_ids[0]))\n",
        "print(tokenizer.decode(output_beam[0]))\n",
        "print(f\"\\nlog-prob: {logp:.2f}\")"
      ]
    },
    {
      "cell_type": "code",
      "execution_count": 13,
      "metadata": {
        "id": "JSPzEBfIfE2O",
        "outputId": "45c651ca-4485-4cc6-97a5-466590576237",
        "colab": {
          "base_uri": "https://localhost:8080/"
        }
      },
      "outputs": [
        {
          "output_type": "stream",
          "name": "stdout",
          "text": [
            "In a shocking finding, scientist discovered a herd of unicorns living in a\n",
            "remote, previously unexplored valley, in the Andes Mountains. Even more\n",
            "surprising to the researchers was the fact that the unicorns spoke perfect\n",
            "English.\n",
            "\n",
            "\n",
            "The discovery was made by a team of scientists from the University of\n",
            "California, Santa Cruz, and the National Geographic Society.\n",
            "\n",
            "According to a press release, the scientists were conducting a survey of the\n",
            "area when they came across the herd. They were surprised to find that they were\n",
            "able to converse with the animals in English, even though they had never seen a\n",
            "unicorn in person before. The researchers were\n",
            "\n",
            "log-prob: -93.12\n"
          ]
        }
      ],
      "source": [
        "output_beam = model.generate(input_ids, max_length=max_length, num_beams=5,\n",
        "                             do_sample=False, no_repeat_ngram_size=2)\n",
        "logp = sequence_logprob(model, output_beam, input_len=len(input_ids[0]))\n",
        "print(tokenizer.decode(output_beam[0]))\n",
        "print(f\"\\nlog-prob: {logp:.2f}\")"
      ]
    },
    {
      "cell_type": "markdown",
      "metadata": {
        "id": "mTZBWC7mfE2O"
      },
      "source": [
        "## Sampling Methods"
      ]
    },
    {
      "cell_type": "code",
      "execution_count": 14,
      "metadata": {
        "id": "r4Fp5IiqfE2O",
        "outputId": "88678ad0-429e-498c-e838-21c45c55b24f",
        "colab": {
          "base_uri": "https://localhost:8080/",
          "height": 382
        }
      },
      "outputs": [
        {
          "output_type": "display_data",
          "data": {
            "text/plain": [
              "<Figure size 600x400 with 1 Axes>"
            ],
            "image/svg+xml": "<?xml version=\"1.0\" encoding=\"utf-8\" standalone=\"no\"?>\n<!DOCTYPE svg PUBLIC \"-//W3C//DTD SVG 1.1//EN\"\n  \"http://www.w3.org/Graphics/SVG/1.1/DTD/svg11.dtd\">\n<svg xmlns:xlink=\"http://www.w3.org/1999/xlink\" width=\"406.523986pt\" height=\"270.3875pt\" viewBox=\"0 0 406.523986 270.3875\" xmlns=\"http://www.w3.org/2000/svg\" version=\"1.1\">\n <metadata>\n  <rdf:RDF xmlns:dc=\"http://purl.org/dc/elements/1.1/\" xmlns:cc=\"http://creativecommons.org/ns#\" xmlns:rdf=\"http://www.w3.org/1999/02/22-rdf-syntax-ns#\">\n   <cc:Work>\n    <dc:type rdf:resource=\"http://purl.org/dc/dcmitype/StillImage\"/>\n    <dc:date>2024-05-19T21:04:14.277143</dc:date>\n    <dc:format>image/svg+xml</dc:format>\n    <dc:creator>\n     <cc:Agent>\n      <dc:title>Matplotlib v3.7.1, https://matplotlib.org/</dc:title>\n     </cc:Agent>\n    </dc:creator>\n   </cc:Work>\n  </rdf:RDF>\n </metadata>\n <defs>\n  <style type=\"text/css\">*{stroke-linejoin: round; stroke-linecap: butt}</style>\n </defs>\n <g id=\"figure_1\">\n  <g id=\"patch_1\">\n   <path d=\"M 0 270.3875 \nL 406.523986 270.3875 \nL 406.523986 0 \nL 0 0 \nz\n\" style=\"fill: #ffffff\"/>\n  </g>\n  <g id=\"axes_1\">\n   <g id=\"patch_2\">\n    <path d=\"M 64.1675 228.96 \nL 398.9675 228.96 \nL 398.9675 7.2 \nL 64.1675 7.2 \nz\n\" style=\"fill: #ffffff\"/>\n   </g>\n   <g id=\"matplotlib.axis_1\">\n    <g id=\"xtick_1\">\n     <g id=\"line2d_1\">\n      <defs>\n       <path id=\"mf2ffd251ee\" d=\"M 0 0 \nL 0 3.5 \n\" style=\"stroke: #000000; stroke-width: 0.8\"/>\n      </defs>\n      <g>\n       <use xlink:href=\"#mf2ffd251ee\" x=\"79.385682\" y=\"228.96\" style=\"stroke: #000000; stroke-width: 0.8\"/>\n      </g>\n     </g>\n     <g id=\"text_1\">\n      <!-- 0 -->\n      <g transform=\"translate(75.568182 245.078125) scale(0.12 -0.12)\">\n       <defs>\n        <path id=\"DejaVuSans-30\" d=\"M 2034 4250 \nQ 1547 4250 1301 3770 \nQ 1056 3291 1056 2328 \nQ 1056 1369 1301 889 \nQ 1547 409 2034 409 \nQ 2525 409 2770 889 \nQ 3016 1369 3016 2328 \nQ 3016 3291 2770 3770 \nQ 2525 4250 2034 4250 \nz\nM 2034 4750 \nQ 2819 4750 3233 4129 \nQ 3647 3509 3647 2328 \nQ 3647 1150 3233 529 \nQ 2819 -91 2034 -91 \nQ 1250 -91 836 529 \nQ 422 1150 422 2328 \nQ 422 3509 836 4129 \nQ 1250 4750 2034 4750 \nz\n\" transform=\"scale(0.015625)\"/>\n       </defs>\n       <use xlink:href=\"#DejaVuSans-30\"/>\n      </g>\n     </g>\n    </g>\n    <g id=\"xtick_2\">\n     <g id=\"line2d_2\">\n      <g>\n       <use xlink:href=\"#mf2ffd251ee\" x=\"140.319343\" y=\"228.96\" style=\"stroke: #000000; stroke-width: 0.8\"/>\n      </g>\n     </g>\n     <g id=\"text_2\">\n      <!-- 200 -->\n      <g transform=\"translate(128.866843 245.078125) scale(0.12 -0.12)\">\n       <defs>\n        <path id=\"DejaVuSans-32\" d=\"M 1228 531 \nL 3431 531 \nL 3431 0 \nL 469 0 \nL 469 531 \nQ 828 903 1448 1529 \nQ 2069 2156 2228 2338 \nQ 2531 2678 2651 2914 \nQ 2772 3150 2772 3378 \nQ 2772 3750 2511 3984 \nQ 2250 4219 1831 4219 \nQ 1534 4219 1204 4116 \nQ 875 4013 500 3803 \nL 500 4441 \nQ 881 4594 1212 4672 \nQ 1544 4750 1819 4750 \nQ 2544 4750 2975 4387 \nQ 3406 4025 3406 3419 \nQ 3406 3131 3298 2873 \nQ 3191 2616 2906 2266 \nQ 2828 2175 2409 1742 \nQ 1991 1309 1228 531 \nz\n\" transform=\"scale(0.015625)\"/>\n       </defs>\n       <use xlink:href=\"#DejaVuSans-32\"/>\n       <use xlink:href=\"#DejaVuSans-30\" x=\"63.623047\"/>\n       <use xlink:href=\"#DejaVuSans-30\" x=\"127.246094\"/>\n      </g>\n     </g>\n    </g>\n    <g id=\"xtick_3\">\n     <g id=\"line2d_3\">\n      <g>\n       <use xlink:href=\"#mf2ffd251ee\" x=\"201.253004\" y=\"228.96\" style=\"stroke: #000000; stroke-width: 0.8\"/>\n      </g>\n     </g>\n     <g id=\"text_3\">\n      <!-- 400 -->\n      <g transform=\"translate(189.800504 245.078125) scale(0.12 -0.12)\">\n       <defs>\n        <path id=\"DejaVuSans-34\" d=\"M 2419 4116 \nL 825 1625 \nL 2419 1625 \nL 2419 4116 \nz\nM 2253 4666 \nL 3047 4666 \nL 3047 1625 \nL 3713 1625 \nL 3713 1100 \nL 3047 1100 \nL 3047 0 \nL 2419 0 \nL 2419 1100 \nL 313 1100 \nL 313 1709 \nL 2253 4666 \nz\n\" transform=\"scale(0.015625)\"/>\n       </defs>\n       <use xlink:href=\"#DejaVuSans-34\"/>\n       <use xlink:href=\"#DejaVuSans-30\" x=\"63.623047\"/>\n       <use xlink:href=\"#DejaVuSans-30\" x=\"127.246094\"/>\n      </g>\n     </g>\n    </g>\n    <g id=\"xtick_4\">\n     <g id=\"line2d_4\">\n      <g>\n       <use xlink:href=\"#mf2ffd251ee\" x=\"262.186665\" y=\"228.96\" style=\"stroke: #000000; stroke-width: 0.8\"/>\n      </g>\n     </g>\n     <g id=\"text_4\">\n      <!-- 600 -->\n      <g transform=\"translate(250.734165 245.078125) scale(0.12 -0.12)\">\n       <defs>\n        <path id=\"DejaVuSans-36\" d=\"M 2113 2584 \nQ 1688 2584 1439 2293 \nQ 1191 2003 1191 1497 \nQ 1191 994 1439 701 \nQ 1688 409 2113 409 \nQ 2538 409 2786 701 \nQ 3034 994 3034 1497 \nQ 3034 2003 2786 2293 \nQ 2538 2584 2113 2584 \nz\nM 3366 4563 \nL 3366 3988 \nQ 3128 4100 2886 4159 \nQ 2644 4219 2406 4219 \nQ 1781 4219 1451 3797 \nQ 1122 3375 1075 2522 \nQ 1259 2794 1537 2939 \nQ 1816 3084 2150 3084 \nQ 2853 3084 3261 2657 \nQ 3669 2231 3669 1497 \nQ 3669 778 3244 343 \nQ 2819 -91 2113 -91 \nQ 1303 -91 875 529 \nQ 447 1150 447 2328 \nQ 447 3434 972 4092 \nQ 1497 4750 2381 4750 \nQ 2619 4750 2861 4703 \nQ 3103 4656 3366 4563 \nz\n\" transform=\"scale(0.015625)\"/>\n       </defs>\n       <use xlink:href=\"#DejaVuSans-36\"/>\n       <use xlink:href=\"#DejaVuSans-30\" x=\"63.623047\"/>\n       <use xlink:href=\"#DejaVuSans-30\" x=\"127.246094\"/>\n      </g>\n     </g>\n    </g>\n    <g id=\"xtick_5\">\n     <g id=\"line2d_5\">\n      <g>\n       <use xlink:href=\"#mf2ffd251ee\" x=\"323.120326\" y=\"228.96\" style=\"stroke: #000000; stroke-width: 0.8\"/>\n      </g>\n     </g>\n     <g id=\"text_5\">\n      <!-- 800 -->\n      <g transform=\"translate(311.667826 245.078125) scale(0.12 -0.12)\">\n       <defs>\n        <path id=\"DejaVuSans-38\" d=\"M 2034 2216 \nQ 1584 2216 1326 1975 \nQ 1069 1734 1069 1313 \nQ 1069 891 1326 650 \nQ 1584 409 2034 409 \nQ 2484 409 2743 651 \nQ 3003 894 3003 1313 \nQ 3003 1734 2745 1975 \nQ 2488 2216 2034 2216 \nz\nM 1403 2484 \nQ 997 2584 770 2862 \nQ 544 3141 544 3541 \nQ 544 4100 942 4425 \nQ 1341 4750 2034 4750 \nQ 2731 4750 3128 4425 \nQ 3525 4100 3525 3541 \nQ 3525 3141 3298 2862 \nQ 3072 2584 2669 2484 \nQ 3125 2378 3379 2068 \nQ 3634 1759 3634 1313 \nQ 3634 634 3220 271 \nQ 2806 -91 2034 -91 \nQ 1263 -91 848 271 \nQ 434 634 434 1313 \nQ 434 1759 690 2068 \nQ 947 2378 1403 2484 \nz\nM 1172 3481 \nQ 1172 3119 1398 2916 \nQ 1625 2713 2034 2713 \nQ 2441 2713 2670 2916 \nQ 2900 3119 2900 3481 \nQ 2900 3844 2670 4047 \nQ 2441 4250 2034 4250 \nQ 1625 4250 1398 4047 \nQ 1172 3844 1172 3481 \nz\n\" transform=\"scale(0.015625)\"/>\n       </defs>\n       <use xlink:href=\"#DejaVuSans-38\"/>\n       <use xlink:href=\"#DejaVuSans-30\" x=\"63.623047\"/>\n       <use xlink:href=\"#DejaVuSans-30\" x=\"127.246094\"/>\n      </g>\n     </g>\n    </g>\n    <g id=\"xtick_6\">\n     <g id=\"line2d_6\">\n      <g>\n       <use xlink:href=\"#mf2ffd251ee\" x=\"384.053986\" y=\"228.96\" style=\"stroke: #000000; stroke-width: 0.8\"/>\n      </g>\n     </g>\n     <g id=\"text_6\">\n      <!-- 1000 -->\n      <g transform=\"translate(368.783986 245.078125) scale(0.12 -0.12)\">\n       <defs>\n        <path id=\"DejaVuSans-31\" d=\"M 794 531 \nL 1825 531 \nL 1825 4091 \nL 703 3866 \nL 703 4441 \nL 1819 4666 \nL 2450 4666 \nL 2450 531 \nL 3481 531 \nL 3481 0 \nL 794 0 \nL 794 531 \nz\n\" transform=\"scale(0.015625)\"/>\n       </defs>\n       <use xlink:href=\"#DejaVuSans-31\"/>\n       <use xlink:href=\"#DejaVuSans-30\" x=\"63.623047\"/>\n       <use xlink:href=\"#DejaVuSans-30\" x=\"127.246094\"/>\n       <use xlink:href=\"#DejaVuSans-30\" x=\"190.869141\"/>\n      </g>\n     </g>\n    </g>\n    <g id=\"text_7\">\n     <!-- Sorted token probabilities -->\n     <g transform=\"translate(154.235 260.691875) scale(0.12 -0.12)\">\n      <defs>\n       <path id=\"DejaVuSans-53\" d=\"M 3425 4513 \nL 3425 3897 \nQ 3066 4069 2747 4153 \nQ 2428 4238 2131 4238 \nQ 1616 4238 1336 4038 \nQ 1056 3838 1056 3469 \nQ 1056 3159 1242 3001 \nQ 1428 2844 1947 2747 \nL 2328 2669 \nQ 3034 2534 3370 2195 \nQ 3706 1856 3706 1288 \nQ 3706 609 3251 259 \nQ 2797 -91 1919 -91 \nQ 1588 -91 1214 -16 \nQ 841 59 441 206 \nL 441 856 \nQ 825 641 1194 531 \nQ 1563 422 1919 422 \nQ 2459 422 2753 634 \nQ 3047 847 3047 1241 \nQ 3047 1584 2836 1778 \nQ 2625 1972 2144 2069 \nL 1759 2144 \nQ 1053 2284 737 2584 \nQ 422 2884 422 3419 \nQ 422 4038 858 4394 \nQ 1294 4750 2059 4750 \nQ 2388 4750 2728 4690 \nQ 3069 4631 3425 4513 \nz\n\" transform=\"scale(0.015625)\"/>\n       <path id=\"DejaVuSans-6f\" d=\"M 1959 3097 \nQ 1497 3097 1228 2736 \nQ 959 2375 959 1747 \nQ 959 1119 1226 758 \nQ 1494 397 1959 397 \nQ 2419 397 2687 759 \nQ 2956 1122 2956 1747 \nQ 2956 2369 2687 2733 \nQ 2419 3097 1959 3097 \nz\nM 1959 3584 \nQ 2709 3584 3137 3096 \nQ 3566 2609 3566 1747 \nQ 3566 888 3137 398 \nQ 2709 -91 1959 -91 \nQ 1206 -91 779 398 \nQ 353 888 353 1747 \nQ 353 2609 779 3096 \nQ 1206 3584 1959 3584 \nz\n\" transform=\"scale(0.015625)\"/>\n       <path id=\"DejaVuSans-72\" d=\"M 2631 2963 \nQ 2534 3019 2420 3045 \nQ 2306 3072 2169 3072 \nQ 1681 3072 1420 2755 \nQ 1159 2438 1159 1844 \nL 1159 0 \nL 581 0 \nL 581 3500 \nL 1159 3500 \nL 1159 2956 \nQ 1341 3275 1631 3429 \nQ 1922 3584 2338 3584 \nQ 2397 3584 2469 3576 \nQ 2541 3569 2628 3553 \nL 2631 2963 \nz\n\" transform=\"scale(0.015625)\"/>\n       <path id=\"DejaVuSans-74\" d=\"M 1172 4494 \nL 1172 3500 \nL 2356 3500 \nL 2356 3053 \nL 1172 3053 \nL 1172 1153 \nQ 1172 725 1289 603 \nQ 1406 481 1766 481 \nL 2356 481 \nL 2356 0 \nL 1766 0 \nQ 1100 0 847 248 \nQ 594 497 594 1153 \nL 594 3053 \nL 172 3053 \nL 172 3500 \nL 594 3500 \nL 594 4494 \nL 1172 4494 \nz\n\" transform=\"scale(0.015625)\"/>\n       <path id=\"DejaVuSans-65\" d=\"M 3597 1894 \nL 3597 1613 \nL 953 1613 \nQ 991 1019 1311 708 \nQ 1631 397 2203 397 \nQ 2534 397 2845 478 \nQ 3156 559 3463 722 \nL 3463 178 \nQ 3153 47 2828 -22 \nQ 2503 -91 2169 -91 \nQ 1331 -91 842 396 \nQ 353 884 353 1716 \nQ 353 2575 817 3079 \nQ 1281 3584 2069 3584 \nQ 2775 3584 3186 3129 \nQ 3597 2675 3597 1894 \nz\nM 3022 2063 \nQ 3016 2534 2758 2815 \nQ 2500 3097 2075 3097 \nQ 1594 3097 1305 2825 \nQ 1016 2553 972 2059 \nL 3022 2063 \nz\n\" transform=\"scale(0.015625)\"/>\n       <path id=\"DejaVuSans-64\" d=\"M 2906 2969 \nL 2906 4863 \nL 3481 4863 \nL 3481 0 \nL 2906 0 \nL 2906 525 \nQ 2725 213 2448 61 \nQ 2172 -91 1784 -91 \nQ 1150 -91 751 415 \nQ 353 922 353 1747 \nQ 353 2572 751 3078 \nQ 1150 3584 1784 3584 \nQ 2172 3584 2448 3432 \nQ 2725 3281 2906 2969 \nz\nM 947 1747 \nQ 947 1113 1208 752 \nQ 1469 391 1925 391 \nQ 2381 391 2643 752 \nQ 2906 1113 2906 1747 \nQ 2906 2381 2643 2742 \nQ 2381 3103 1925 3103 \nQ 1469 3103 1208 2742 \nQ 947 2381 947 1747 \nz\n\" transform=\"scale(0.015625)\"/>\n       <path id=\"DejaVuSans-20\" transform=\"scale(0.015625)\"/>\n       <path id=\"DejaVuSans-6b\" d=\"M 581 4863 \nL 1159 4863 \nL 1159 1991 \nL 2875 3500 \nL 3609 3500 \nL 1753 1863 \nL 3688 0 \nL 2938 0 \nL 1159 1709 \nL 1159 0 \nL 581 0 \nL 581 4863 \nz\n\" transform=\"scale(0.015625)\"/>\n       <path id=\"DejaVuSans-6e\" d=\"M 3513 2113 \nL 3513 0 \nL 2938 0 \nL 2938 2094 \nQ 2938 2591 2744 2837 \nQ 2550 3084 2163 3084 \nQ 1697 3084 1428 2787 \nQ 1159 2491 1159 1978 \nL 1159 0 \nL 581 0 \nL 581 3500 \nL 1159 3500 \nL 1159 2956 \nQ 1366 3272 1645 3428 \nQ 1925 3584 2291 3584 \nQ 2894 3584 3203 3211 \nQ 3513 2838 3513 2113 \nz\n\" transform=\"scale(0.015625)\"/>\n       <path id=\"DejaVuSans-70\" d=\"M 1159 525 \nL 1159 -1331 \nL 581 -1331 \nL 581 3500 \nL 1159 3500 \nL 1159 2969 \nQ 1341 3281 1617 3432 \nQ 1894 3584 2278 3584 \nQ 2916 3584 3314 3078 \nQ 3713 2572 3713 1747 \nQ 3713 922 3314 415 \nQ 2916 -91 2278 -91 \nQ 1894 -91 1617 61 \nQ 1341 213 1159 525 \nz\nM 3116 1747 \nQ 3116 2381 2855 2742 \nQ 2594 3103 2138 3103 \nQ 1681 3103 1420 2742 \nQ 1159 2381 1159 1747 \nQ 1159 1113 1420 752 \nQ 1681 391 2138 391 \nQ 2594 391 2855 752 \nQ 3116 1113 3116 1747 \nz\n\" transform=\"scale(0.015625)\"/>\n       <path id=\"DejaVuSans-62\" d=\"M 3116 1747 \nQ 3116 2381 2855 2742 \nQ 2594 3103 2138 3103 \nQ 1681 3103 1420 2742 \nQ 1159 2381 1159 1747 \nQ 1159 1113 1420 752 \nQ 1681 391 2138 391 \nQ 2594 391 2855 752 \nQ 3116 1113 3116 1747 \nz\nM 1159 2969 \nQ 1341 3281 1617 3432 \nQ 1894 3584 2278 3584 \nQ 2916 3584 3314 3078 \nQ 3713 2572 3713 1747 \nQ 3713 922 3314 415 \nQ 2916 -91 2278 -91 \nQ 1894 -91 1617 61 \nQ 1341 213 1159 525 \nL 1159 0 \nL 581 0 \nL 581 4863 \nL 1159 4863 \nL 1159 2969 \nz\n\" transform=\"scale(0.015625)\"/>\n       <path id=\"DejaVuSans-61\" d=\"M 2194 1759 \nQ 1497 1759 1228 1600 \nQ 959 1441 959 1056 \nQ 959 750 1161 570 \nQ 1363 391 1709 391 \nQ 2188 391 2477 730 \nQ 2766 1069 2766 1631 \nL 2766 1759 \nL 2194 1759 \nz\nM 3341 1997 \nL 3341 0 \nL 2766 0 \nL 2766 531 \nQ 2569 213 2275 61 \nQ 1981 -91 1556 -91 \nQ 1019 -91 701 211 \nQ 384 513 384 1019 \nQ 384 1609 779 1909 \nQ 1175 2209 1959 2209 \nL 2766 2209 \nL 2766 2266 \nQ 2766 2663 2505 2880 \nQ 2244 3097 1772 3097 \nQ 1472 3097 1187 3025 \nQ 903 2953 641 2809 \nL 641 3341 \nQ 956 3463 1253 3523 \nQ 1550 3584 1831 3584 \nQ 2591 3584 2966 3190 \nQ 3341 2797 3341 1997 \nz\n\" transform=\"scale(0.015625)\"/>\n       <path id=\"DejaVuSans-69\" d=\"M 603 3500 \nL 1178 3500 \nL 1178 0 \nL 603 0 \nL 603 3500 \nz\nM 603 4863 \nL 1178 4863 \nL 1178 4134 \nL 603 4134 \nL 603 4863 \nz\n\" transform=\"scale(0.015625)\"/>\n       <path id=\"DejaVuSans-6c\" d=\"M 603 4863 \nL 1178 4863 \nL 1178 0 \nL 603 0 \nL 603 4863 \nz\n\" transform=\"scale(0.015625)\"/>\n       <path id=\"DejaVuSans-73\" d=\"M 2834 3397 \nL 2834 2853 \nQ 2591 2978 2328 3040 \nQ 2066 3103 1784 3103 \nQ 1356 3103 1142 2972 \nQ 928 2841 928 2578 \nQ 928 2378 1081 2264 \nQ 1234 2150 1697 2047 \nL 1894 2003 \nQ 2506 1872 2764 1633 \nQ 3022 1394 3022 966 \nQ 3022 478 2636 193 \nQ 2250 -91 1575 -91 \nQ 1294 -91 989 -36 \nQ 684 19 347 128 \nL 347 722 \nQ 666 556 975 473 \nQ 1284 391 1588 391 \nQ 1994 391 2212 530 \nQ 2431 669 2431 922 \nQ 2431 1156 2273 1281 \nQ 2116 1406 1581 1522 \nL 1381 1569 \nQ 847 1681 609 1914 \nQ 372 2147 372 2553 \nQ 372 3047 722 3315 \nQ 1072 3584 1716 3584 \nQ 2034 3584 2315 3537 \nQ 2597 3491 2834 3397 \nz\n\" transform=\"scale(0.015625)\"/>\n      </defs>\n      <use xlink:href=\"#DejaVuSans-53\"/>\n      <use xlink:href=\"#DejaVuSans-6f\" x=\"63.476562\"/>\n      <use xlink:href=\"#DejaVuSans-72\" x=\"124.658203\"/>\n      <use xlink:href=\"#DejaVuSans-74\" x=\"165.771484\"/>\n      <use xlink:href=\"#DejaVuSans-65\" x=\"204.980469\"/>\n      <use xlink:href=\"#DejaVuSans-64\" x=\"266.503906\"/>\n      <use xlink:href=\"#DejaVuSans-20\" x=\"329.980469\"/>\n      <use xlink:href=\"#DejaVuSans-74\" x=\"361.767578\"/>\n      <use xlink:href=\"#DejaVuSans-6f\" x=\"400.976562\"/>\n      <use xlink:href=\"#DejaVuSans-6b\" x=\"462.158203\"/>\n      <use xlink:href=\"#DejaVuSans-65\" x=\"516.443359\"/>\n      <use xlink:href=\"#DejaVuSans-6e\" x=\"577.966797\"/>\n      <use xlink:href=\"#DejaVuSans-20\" x=\"641.345703\"/>\n      <use xlink:href=\"#DejaVuSans-70\" x=\"673.132812\"/>\n      <use xlink:href=\"#DejaVuSans-72\" x=\"736.609375\"/>\n      <use xlink:href=\"#DejaVuSans-6f\" x=\"775.472656\"/>\n      <use xlink:href=\"#DejaVuSans-62\" x=\"836.654297\"/>\n      <use xlink:href=\"#DejaVuSans-61\" x=\"900.130859\"/>\n      <use xlink:href=\"#DejaVuSans-62\" x=\"961.410156\"/>\n      <use xlink:href=\"#DejaVuSans-69\" x=\"1024.886719\"/>\n      <use xlink:href=\"#DejaVuSans-6c\" x=\"1052.669922\"/>\n      <use xlink:href=\"#DejaVuSans-69\" x=\"1080.453125\"/>\n      <use xlink:href=\"#DejaVuSans-74\" x=\"1108.236328\"/>\n      <use xlink:href=\"#DejaVuSans-69\" x=\"1147.445312\"/>\n      <use xlink:href=\"#DejaVuSans-65\" x=\"1175.228516\"/>\n      <use xlink:href=\"#DejaVuSans-73\" x=\"1236.751953\"/>\n     </g>\n    </g>\n   </g>\n   <g id=\"matplotlib.axis_2\">\n    <g id=\"ytick_1\">\n     <g id=\"line2d_7\">\n      <defs>\n       <path id=\"mac98308a2a\" d=\"M 0 0 \nL -3.5 0 \n\" style=\"stroke: #000000; stroke-width: 0.8\"/>\n      </defs>\n      <g>\n       <use xlink:href=\"#mac98308a2a\" x=\"64.1675\" y=\"225.588087\" style=\"stroke: #000000; stroke-width: 0.8\"/>\n      </g>\n     </g>\n     <g id=\"text_8\">\n      <!-- 0.000 -->\n      <g transform=\"translate(22.81375 230.147149) scale(0.12 -0.12)\">\n       <defs>\n        <path id=\"DejaVuSans-2e\" d=\"M 684 794 \nL 1344 794 \nL 1344 0 \nL 684 0 \nL 684 794 \nz\n\" transform=\"scale(0.015625)\"/>\n       </defs>\n       <use xlink:href=\"#DejaVuSans-30\"/>\n       <use xlink:href=\"#DejaVuSans-2e\" x=\"63.623047\"/>\n       <use xlink:href=\"#DejaVuSans-30\" x=\"95.410156\"/>\n       <use xlink:href=\"#DejaVuSans-30\" x=\"159.033203\"/>\n       <use xlink:href=\"#DejaVuSans-30\" x=\"222.65625\"/>\n      </g>\n     </g>\n    </g>\n    <g id=\"ytick_2\">\n     <g id=\"line2d_8\">\n      <g>\n       <use xlink:href=\"#mac98308a2a\" x=\"64.1675\" y=\"179.39682\" style=\"stroke: #000000; stroke-width: 0.8\"/>\n      </g>\n     </g>\n     <g id=\"text_9\">\n      <!-- 0.001 -->\n      <g transform=\"translate(22.81375 183.955883) scale(0.12 -0.12)\">\n       <use xlink:href=\"#DejaVuSans-30\"/>\n       <use xlink:href=\"#DejaVuSans-2e\" x=\"63.623047\"/>\n       <use xlink:href=\"#DejaVuSans-30\" x=\"95.410156\"/>\n       <use xlink:href=\"#DejaVuSans-30\" x=\"159.033203\"/>\n       <use xlink:href=\"#DejaVuSans-31\" x=\"222.65625\"/>\n      </g>\n     </g>\n    </g>\n    <g id=\"ytick_3\">\n     <g id=\"line2d_9\">\n      <g>\n       <use xlink:href=\"#mac98308a2a\" x=\"64.1675\" y=\"133.205553\" style=\"stroke: #000000; stroke-width: 0.8\"/>\n      </g>\n     </g>\n     <g id=\"text_10\">\n      <!-- 0.002 -->\n      <g transform=\"translate(22.81375 137.764616) scale(0.12 -0.12)\">\n       <use xlink:href=\"#DejaVuSans-30\"/>\n       <use xlink:href=\"#DejaVuSans-2e\" x=\"63.623047\"/>\n       <use xlink:href=\"#DejaVuSans-30\" x=\"95.410156\"/>\n       <use xlink:href=\"#DejaVuSans-30\" x=\"159.033203\"/>\n       <use xlink:href=\"#DejaVuSans-32\" x=\"222.65625\"/>\n      </g>\n     </g>\n    </g>\n    <g id=\"ytick_4\">\n     <g id=\"line2d_10\">\n      <g>\n       <use xlink:href=\"#mac98308a2a\" x=\"64.1675\" y=\"87.014287\" style=\"stroke: #000000; stroke-width: 0.8\"/>\n      </g>\n     </g>\n     <g id=\"text_11\">\n      <!-- 0.003 -->\n      <g transform=\"translate(22.81375 91.573349) scale(0.12 -0.12)\">\n       <defs>\n        <path id=\"DejaVuSans-33\" d=\"M 2597 2516 \nQ 3050 2419 3304 2112 \nQ 3559 1806 3559 1356 \nQ 3559 666 3084 287 \nQ 2609 -91 1734 -91 \nQ 1441 -91 1130 -33 \nQ 819 25 488 141 \nL 488 750 \nQ 750 597 1062 519 \nQ 1375 441 1716 441 \nQ 2309 441 2620 675 \nQ 2931 909 2931 1356 \nQ 2931 1769 2642 2001 \nQ 2353 2234 1838 2234 \nL 1294 2234 \nL 1294 2753 \nL 1863 2753 \nQ 2328 2753 2575 2939 \nQ 2822 3125 2822 3475 \nQ 2822 3834 2567 4026 \nQ 2313 4219 1838 4219 \nQ 1578 4219 1281 4162 \nQ 984 4106 628 3988 \nL 628 4550 \nQ 988 4650 1302 4700 \nQ 1616 4750 1894 4750 \nQ 2613 4750 3031 4423 \nQ 3450 4097 3450 3541 \nQ 3450 3153 3228 2886 \nQ 3006 2619 2597 2516 \nz\n\" transform=\"scale(0.015625)\"/>\n       </defs>\n       <use xlink:href=\"#DejaVuSans-30\"/>\n       <use xlink:href=\"#DejaVuSans-2e\" x=\"63.623047\"/>\n       <use xlink:href=\"#DejaVuSans-30\" x=\"95.410156\"/>\n       <use xlink:href=\"#DejaVuSans-30\" x=\"159.033203\"/>\n       <use xlink:href=\"#DejaVuSans-33\" x=\"222.65625\"/>\n      </g>\n     </g>\n    </g>\n    <g id=\"ytick_5\">\n     <g id=\"line2d_11\">\n      <g>\n       <use xlink:href=\"#mac98308a2a\" x=\"64.1675\" y=\"40.82302\" style=\"stroke: #000000; stroke-width: 0.8\"/>\n      </g>\n     </g>\n     <g id=\"text_12\">\n      <!-- 0.004 -->\n      <g transform=\"translate(22.81375 45.382083) scale(0.12 -0.12)\">\n       <use xlink:href=\"#DejaVuSans-30\"/>\n       <use xlink:href=\"#DejaVuSans-2e\" x=\"63.623047\"/>\n       <use xlink:href=\"#DejaVuSans-30\" x=\"95.410156\"/>\n       <use xlink:href=\"#DejaVuSans-30\" x=\"159.033203\"/>\n       <use xlink:href=\"#DejaVuSans-34\" x=\"222.65625\"/>\n      </g>\n     </g>\n    </g>\n    <g id=\"text_13\">\n     <!-- Probability -->\n     <g transform=\"translate(16.318125 149.794687) rotate(-90) scale(0.12 -0.12)\">\n      <defs>\n       <path id=\"DejaVuSans-50\" d=\"M 1259 4147 \nL 1259 2394 \nL 2053 2394 \nQ 2494 2394 2734 2622 \nQ 2975 2850 2975 3272 \nQ 2975 3691 2734 3919 \nQ 2494 4147 2053 4147 \nL 1259 4147 \nz\nM 628 4666 \nL 2053 4666 \nQ 2838 4666 3239 4311 \nQ 3641 3956 3641 3272 \nQ 3641 2581 3239 2228 \nQ 2838 1875 2053 1875 \nL 1259 1875 \nL 1259 0 \nL 628 0 \nL 628 4666 \nz\n\" transform=\"scale(0.015625)\"/>\n       <path id=\"DejaVuSans-79\" d=\"M 2059 -325 \nQ 1816 -950 1584 -1140 \nQ 1353 -1331 966 -1331 \nL 506 -1331 \nL 506 -850 \nL 844 -850 \nQ 1081 -850 1212 -737 \nQ 1344 -625 1503 -206 \nL 1606 56 \nL 191 3500 \nL 800 3500 \nL 1894 763 \nL 2988 3500 \nL 3597 3500 \nL 2059 -325 \nz\n\" transform=\"scale(0.015625)\"/>\n      </defs>\n      <use xlink:href=\"#DejaVuSans-50\"/>\n      <use xlink:href=\"#DejaVuSans-72\" x=\"58.552734\"/>\n      <use xlink:href=\"#DejaVuSans-6f\" x=\"97.416016\"/>\n      <use xlink:href=\"#DejaVuSans-62\" x=\"158.597656\"/>\n      <use xlink:href=\"#DejaVuSans-61\" x=\"222.074219\"/>\n      <use xlink:href=\"#DejaVuSans-62\" x=\"283.353516\"/>\n      <use xlink:href=\"#DejaVuSans-69\" x=\"346.830078\"/>\n      <use xlink:href=\"#DejaVuSans-6c\" x=\"374.613281\"/>\n      <use xlink:href=\"#DejaVuSans-69\" x=\"402.396484\"/>\n      <use xlink:href=\"#DejaVuSans-74\" x=\"430.179688\"/>\n      <use xlink:href=\"#DejaVuSans-79\" x=\"469.388672\"/>\n     </g>\n    </g>\n   </g>\n   <g id=\"line2d_12\">\n    <path d=\"M 79.385682 17.28 \nL 79.385682 19.606178 \nL 79.69035 19.606178 \nL 79.69035 20.797105 \nL 79.995018 20.797105 \nL 79.995018 21.957926 \nL 80.299687 21.957926 \nL 80.299687 24.083409 \nL 80.604355 24.083409 \nL 80.604355 24.271554 \nL 80.909023 24.271554 \nL 80.909023 24.564708 \nL 81.213692 24.564708 \nL 81.213692 24.827086 \nL 81.51836 24.827086 \nL 81.51836 25.540969 \nL 81.823028 25.540969 \nL 81.823028 25.862295 \nL 82.127697 25.862295 \nL 82.127697 26.663187 \nL 82.432365 26.663187 \nL 82.432365 31.393461 \nL 82.737033 31.393461 \nL 82.737033 33.458692 \nL 83.041701 33.458692 \nL 83.041701 33.603508 \nL 83.34637 33.603508 \nL 83.34637 34.8857 \nL 83.651038 34.8857 \nL 83.651038 36.174862 \nL 83.955706 36.174862 \nL 83.955706 37.217958 \nL 84.260375 37.217958 \nL 84.260375 37.486999 \nL 84.565043 37.486999 \nL 84.565043 39.930071 \nL 84.869711 39.930071 \nL 84.869711 40.219261 \nL 85.17438 40.219261 \nL 85.17438 41.551091 \nL 85.479048 41.551091 \nL 85.479048 43.587657 \nL 86.088385 43.588558 \nL 86.088385 44.83357 \nL 86.393053 44.83357 \nL 86.393053 47.148389 \nL 86.697721 47.148389 \nL 86.697721 47.969833 \nL 87.002389 47.969833 \nL 87.002389 49.075104 \nL 87.307058 49.075104 \nL 87.307058 49.563331 \nL 87.611726 49.563331 \nL 87.611726 49.815361 \nL 87.916394 49.815361 \nL 87.916394 51.078363 \nL 88.221063 51.078363 \nL 88.221063 51.463675 \nL 88.830399 51.49958 \nL 88.830399 53.982495 \nL 89.135068 53.982495 \nL 89.135068 55.608841 \nL 89.439736 55.608841 \nL 89.439736 55.777099 \nL 89.744404 55.777099 \nL 89.744404 57.092995 \nL 90.353741 57.190636 \nL 90.353741 58.315713 \nL 90.658409 58.315713 \nL 90.658409 59.430531 \nL 90.963077 59.430531 \nL 90.963077 59.638469 \nL 91.267746 59.638469 \nL 91.267746 60.54008 \nL 91.572414 60.54008 \nL 91.572414 61.150361 \nL 91.877082 61.150361 \nL 91.877082 61.698082 \nL 92.181751 61.698082 \nL 92.181751 61.81656 \nL 92.486419 61.81656 \nL 92.486419 61.96459 \nL 92.791087 61.96459 \nL 92.791087 64.909299 \nL 93.095756 64.909299 \nL 93.095756 65.191827 \nL 93.400424 65.191827 \nL 93.400424 65.706123 \nL 93.705092 65.706123 \nL 93.705092 65.915794 \nL 94.00976 65.915794 \nL 94.00976 66.430106 \nL 94.314429 66.430106 \nL 94.314429 66.696373 \nL 94.619097 66.696373 \nL 94.619097 68.018467 \nL 94.923765 68.018467 \nL 94.923765 68.53214 \nL 95.228434 68.53214 \nL 95.228434 69.474322 \nL 95.533102 69.474322 \nL 95.533102 69.769363 \nL 95.83777 69.769363 \nL 95.83777 70.36875 \nL 96.142439 70.36875 \nL 96.142439 72.699833 \nL 96.751775 72.740824 \nL 96.751775 72.902125 \nL 97.361112 72.964121 \nL 97.361112 75.012124 \nL 97.66578 75.012124 \nL 97.66578 76.046329 \nL 98.275117 76.127747 \nL 98.275117 76.835931 \nL 98.579785 76.835931 \nL 98.579785 77.569035 \nL 98.884453 77.569035 \nL 98.884453 78.977392 \nL 99.49379 79.017716 \nL 99.49379 79.205364 \nL 99.798458 79.205364 \nL 99.798458 80.078425 \nL 100.103127 80.078425 \nL 100.103127 80.245439 \nL 100.407795 80.245439 \nL 100.407795 81.109365 \nL 100.712463 81.109365 \nL 100.712463 81.566834 \nL 101.017131 81.566834 \nL 101.017131 82.667611 \nL 101.3218 82.667611 \nL 101.3218 82.826054 \nL 101.626468 82.826054 \nL 101.626468 85.809428 \nL 101.931136 85.809428 \nL 101.931136 86.41809 \nL 102.235805 86.41809 \nL 102.235805 87.417934 \nL 102.540473 87.417934 \nL 102.540473 88.067505 \nL 102.845141 88.067505 \nL 102.845141 88.930205 \nL 103.14981 88.930205 \nL 103.14981 90.636687 \nL 103.454478 90.636687 \nL 103.454478 90.826295 \nL 103.759146 90.826295 \nL 103.759146 91.710542 \nL 104.368483 91.813838 \nL 104.368483 92.475188 \nL 104.673151 92.475188 \nL 104.673151 93.483219 \nL 104.977819 93.483219 \nL 104.977819 94.286476 \nL 105.282488 94.286476 \nL 105.282488 95.910104 \nL 105.587156 95.910104 \nL 105.587156 97.455638 \nL 105.891824 97.455638 \nL 105.891824 98.160216 \nL 106.501161 98.21292 \nL 106.501161 98.856389 \nL 106.805829 98.856389 \nL 106.805829 99.258678 \nL 107.110498 99.258678 \nL 107.110498 99.513939 \nL 107.415166 99.513939 \nL 107.415166 99.643182 \nL 107.719834 99.643182 \nL 107.719834 99.756255 \nL 108.024502 99.756255 \nL 108.024502 101.19619 \nL 108.329171 101.19619 \nL 108.329171 101.696127 \nL 108.633839 101.696127 \nL 108.633839 102.308023 \nL 108.938507 102.308023 \nL 108.938507 103.001946 \nL 109.243176 103.001946 \nL 109.243176 103.599047 \nL 109.547844 103.599047 \nL 109.547844 103.881391 \nL 109.852512 103.881391 \nL 109.852512 104.110147 \nL 110.157181 104.110147 \nL 110.157181 106.468139 \nL 110.461849 106.468139 \nL 110.461849 106.733827 \nL 110.766517 106.733827 \nL 110.766517 107.536636 \nL 111.071186 107.536636 \nL 111.071186 107.808438 \nL 111.375854 107.808438 \nL 111.375854 108.057634 \nL 111.98519 108.077109 \nL 111.98519 108.331305 \nL 112.289859 108.331305 \nL 112.289859 108.457997 \nL 112.594527 108.457997 \nL 112.594527 108.698156 \nL 112.899195 108.698156 \nL 112.899195 109.05803 \nL 113.508532 109.153153 \nL 113.508532 109.455717 \nL 113.8132 109.455717 \nL 113.8132 109.798537 \nL 114.117869 109.798537 \nL 114.117869 110.134459 \nL 114.422537 110.134459 \nL 114.422537 111.108118 \nL 115.031873 111.152876 \nL 115.031873 111.297348 \nL 115.336542 111.297348 \nL 115.336542 111.69436 \nL 115.64121 111.69436 \nL 115.64121 112.00567 \nL 115.945878 112.00567 \nL 115.945878 113.401388 \nL 116.250547 113.401388 \nL 116.250547 113.911612 \nL 116.859883 113.960726 \nL 116.859883 114.451825 \nL 117.164552 114.451825 \nL 117.164552 115.215393 \nL 117.46922 115.215393 \nL 117.46922 116.045896 \nL 117.773888 116.045896 \nL 117.773888 116.356955 \nL 118.078557 116.356955 \nL 118.078557 116.810579 \nL 118.383225 116.810579 \nL 118.383225 117.556336 \nL 118.687893 117.556336 \nL 118.687893 117.734774 \nL 119.29723 117.7563 \nL 119.29723 118.541778 \nL 119.906566 118.612215 \nL 119.906566 119.2568 \nL 120.211235 119.2568 \nL 120.211235 119.960513 \nL 120.515903 119.960513 \nL 120.515903 120.292492 \nL 120.820571 120.292492 \nL 120.820571 120.526209 \nL 121.12524 120.526209 \nL 121.12524 121.042995 \nL 121.429908 121.042995 \nL 121.429908 122.842061 \nL 121.734576 122.842061 \nL 121.734576 122.975646 \nL 122.343913 123.077544 \nL 122.343913 123.23063 \nL 122.953249 123.286759 \nL 122.953249 123.36446 \nL 123.257918 123.36446 \nL 123.257918 124.424491 \nL 123.562586 124.424491 \nL 123.562586 124.932334 \nL 123.867254 124.932334 \nL 123.867254 125.618501 \nL 124.171923 125.618501 \nL 124.171923 125.786621 \nL 124.476591 125.786621 \nL 124.476591 126.836072 \nL 124.781259 126.836072 \nL 124.781259 127.559991 \nL 125.085928 127.559991 \nL 125.085928 127.681479 \nL 125.390596 127.681479 \nL 125.390596 127.963902 \nL 125.695264 127.963902 \nL 125.695264 129.31341 \nL 125.999932 129.31341 \nL 125.999932 129.503865 \nL 126.304601 129.503865 \nL 126.304601 130.193966 \nL 126.609269 130.193966 \nL 126.609269 130.506835 \nL 126.913937 130.506835 \nL 126.913937 133.253263 \nL 127.218606 133.253263 \nL 127.218606 134.135519 \nL 127.523274 134.135519 \nL 127.523274 134.478136 \nL 127.827942 134.478136 \nL 127.827942 134.796502 \nL 128.437279 134.898307 \nL 128.437279 136.316824 \nL 128.741947 136.316824 \nL 128.741947 136.801481 \nL 129.046615 136.801481 \nL 129.046615 137.062879 \nL 129.351284 137.062879 \nL 129.351284 137.300922 \nL 129.655952 137.300922 \nL 129.655952 138.077202 \nL 129.96062 138.077202 \nL 129.96062 138.203205 \nL 130.265289 138.203205 \nL 130.265289 138.698066 \nL 130.874625 138.72706 \nL 130.874625 139.112739 \nL 131.179294 139.112739 \nL 131.179294 139.280293 \nL 131.483962 139.280293 \nL 131.483962 139.501278 \nL 131.78863 139.501278 \nL 131.78863 139.739615 \nL 132.093299 139.739615 \nL 132.093299 140.203797 \nL 132.397967 140.203797 \nL 132.397967 140.756627 \nL 133.311972 140.847986 \nL 133.311972 140.8974 \nL 133.921308 140.949302 \nL 133.921308 141.665618 \nL 134.225977 141.665618 \nL 134.225977 141.812275 \nL 134.530645 141.812275 \nL 134.530645 141.946434 \nL 134.835313 141.946434 \nL 134.835313 142.239921 \nL 135.139982 142.239921 \nL 135.139982 142.41229 \nL 135.44465 142.41229 \nL 135.44465 143.046013 \nL 136.053986 143.07092 \nL 136.053986 143.220907 \nL 136.358655 143.220907 \nL 136.358655 143.443529 \nL 136.663323 143.443529 \nL 136.663323 144.733102 \nL 136.967991 144.733102 \nL 136.967991 145.25882 \nL 137.27266 145.25882 \nL 137.27266 145.739072 \nL 137.577328 145.739072 \nL 137.577328 146.12182 \nL 138.186665 146.149896 \nL 138.186665 146.642227 \nL 138.491333 146.642227 \nL 138.491333 147.749324 \nL 138.796001 147.749324 \nL 138.796001 148.33814 \nL 139.10067 148.33814 \nL 139.10067 148.779468 \nL 139.405338 148.779468 \nL 139.405338 148.924513 \nL 139.710006 148.924513 \nL 139.710006 149.746463 \nL 140.319343 149.799225 \nL 140.319343 150.023645 \nL 140.928679 150.023929 \nL 140.928679 150.489564 \nL 141.538016 150.552814 \nL 141.538016 150.863241 \nL 141.842684 150.863241 \nL 141.842684 152.100608 \nL 142.147353 152.100608 \nL 142.147353 152.421243 \nL 142.452021 152.421243 \nL 142.452021 152.601372 \nL 143.366026 152.631294 \nL 143.366026 153.456098 \nL 143.670694 153.456098 \nL 143.670694 153.70203 \nL 144.280031 153.705513 \nL 144.280031 153.889326 \nL 144.889367 153.910636 \nL 144.889367 154.262394 \nL 145.194036 154.262394 \nL 145.194036 154.438214 \nL 145.498704 154.438214 \nL 145.498704 154.846344 \nL 145.803372 154.846344 \nL 145.803372 155.636221 \nL 146.412709 155.645119 \nL 146.412709 155.954527 \nL 146.717377 155.954527 \nL 146.717377 156.066716 \nL 147.326714 156.069288 \nL 147.326714 156.252318 \nL 147.631382 156.252318 \nL 147.631382 156.47942 \nL 147.93605 156.47942 \nL 147.93605 156.666289 \nL 148.240719 156.666289 \nL 148.240719 156.793311 \nL 148.545387 156.793311 \nL 148.545387 156.906119 \nL 148.850055 156.906119 \nL 148.850055 157.094817 \nL 149.459392 157.160617 \nL 149.459392 157.468995 \nL 149.76406 157.468995 \nL 149.76406 157.680856 \nL 150.068729 157.680856 \nL 150.068729 158.018695 \nL 150.373397 158.018695 \nL 150.373397 158.16965 \nL 150.678065 158.16965 \nL 150.678065 158.355672 \nL 150.982733 158.355672 \nL 150.982733 158.999774 \nL 151.287402 158.999774 \nL 151.287402 159.45991 \nL 151.59207 159.45991 \nL 151.59207 160.14062 \nL 152.201407 160.174324 \nL 152.201407 160.374173 \nL 152.506075 160.374173 \nL 152.506075 160.852871 \nL 153.115412 160.923774 \nL 153.115412 161.070918 \nL 153.42008 161.070918 \nL 153.42008 161.315306 \nL 153.724748 161.315306 \nL 153.724748 161.457219 \nL 154.029416 161.457219 \nL 154.029416 161.940072 \nL 154.334085 161.940072 \nL 154.334085 162.126162 \nL 155.24809 162.209896 \nL 155.24809 162.822276 \nL 155.552758 162.822276 \nL 155.552758 163.049222 \nL 156.162095 163.094411 \nL 156.162095 163.281071 \nL 156.466763 163.281071 \nL 156.466763 163.464778 \nL 157.380768 163.564857 \nL 157.380768 163.655811 \nL 157.990104 163.726915 \nL 157.990104 164.395187 \nL 158.294773 164.395187 \nL 158.294773 164.781214 \nL 158.599441 164.781214 \nL 158.599441 165.093617 \nL 159.513446 165.149755 \nL 159.513446 165.305288 \nL 159.818114 165.305288 \nL 159.818114 165.530521 \nL 160.122783 165.530521 \nL 160.122783 166.611374 \nL 160.732119 166.688277 \nL 160.732119 167.048471 \nL 161.036787 167.048471 \nL 161.036787 167.319138 \nL 161.341456 167.319138 \nL 161.341456 167.59705 \nL 161.950792 167.631276 \nL 161.950792 167.971453 \nL 162.255461 167.971453 \nL 162.255461 168.635352 \nL 162.560129 168.635352 \nL 162.560129 168.881717 \nL 162.864797 168.881717 \nL 162.864797 169.23775 \nL 163.474134 169.326737 \nL 163.474134 169.418992 \nL 164.083471 169.432133 \nL 164.083471 169.744963 \nL 164.997475 169.789799 \nL 164.997475 169.930635 \nL 165.302144 169.930635 \nL 165.302144 170.339892 \nL 165.606812 170.339892 \nL 165.606812 170.454286 \nL 165.91148 170.454286 \nL 165.91148 170.712887 \nL 166.216149 170.712887 \nL 166.216149 170.905854 \nL 166.520817 170.905854 \nL 166.520817 171.143559 \nL 166.825485 171.143559 \nL 166.825485 171.562942 \nL 167.73949 171.665825 \nL 167.73949 171.809844 \nL 168.348827 171.896232 \nL 168.348827 172.204558 \nL 169.5675 172.270669 \nL 169.5675 172.681277 \nL 169.872168 172.681277 \nL 169.872168 173.128297 \nL 171.090842 173.23879 \nL 171.090842 173.720702 \nL 171.39551 173.720702 \nL 171.39551 174.174221 \nL 172.004846 174.280259 \nL 172.004846 174.324541 \nL 172.309515 174.324541 \nL 172.309515 174.443 \nL 172.614183 174.443 \nL 172.614183 174.611585 \nL 173.528188 174.720674 \nL 173.528188 175.006132 \nL 173.832856 175.006132 \nL 173.832856 175.314519 \nL 174.137525 175.314519 \nL 174.137525 175.655386 \nL 174.746861 175.756015 \nL 174.746861 176.011672 \nL 175.051529 176.011672 \nL 175.051529 176.197606 \nL 175.660866 176.261409 \nL 175.660866 176.378804 \nL 175.965534 176.378804 \nL 175.965534 176.793572 \nL 176.270203 176.793572 \nL 176.270203 176.941933 \nL 176.574871 176.941933 \nL 176.574871 177.060013 \nL 176.879539 177.060013 \nL 176.879539 177.249178 \nL 177.488876 177.312013 \nL 177.488876 177.487926 \nL 178.402881 177.581804 \nL 178.402881 177.723769 \nL 179.012217 177.822028 \nL 179.012217 177.953881 \nL 179.621554 178.029671 \nL 179.621554 178.127645 \nL 180.230891 178.211143 \nL 180.230891 178.256664 \nL 181.144896 178.357068 \nL 181.144896 178.421247 \nL 181.449564 178.421247 \nL 181.449564 178.931481 \nL 181.754232 178.931481 \nL 181.754232 179.248819 \nL 182.668237 179.357001 \nL 182.668237 179.360894 \nL 182.972905 179.360894 \nL 182.972905 179.853013 \nL 183.582242 179.912278 \nL 183.582242 180.528513 \nL 184.496247 180.595801 \nL 184.496247 180.671676 \nL 184.800915 180.671676 \nL 184.800915 180.999142 \nL 185.410252 181.089535 \nL 185.410252 181.146097 \nL 186.019588 181.206809 \nL 186.019588 181.386697 \nL 186.324257 181.386697 \nL 186.324257 181.812696 \nL 186.933593 181.861643 \nL 186.933593 182.173564 \nL 187.54293 182.280646 \nL 187.54293 182.606524 \nL 188.152267 182.66655 \nL 188.152267 182.945642 \nL 188.761603 183.043716 \nL 188.761603 183.288331 \nL 189.37094 183.385109 \nL 189.37094 183.565673 \nL 189.675608 183.565673 \nL 189.675608 183.766613 \nL 190.284945 183.786629 \nL 190.284945 183.987664 \nL 190.894281 184.047701 \nL 190.894281 184.110052 \nL 191.19895 184.110052 \nL 191.19895 184.241392 \nL 191.503618 184.241392 \nL 191.503618 184.358733 \nL 192.112955 184.363483 \nL 192.112955 184.751094 \nL 193.331628 184.846937 \nL 193.331628 185.073344 \nL 193.636296 185.073344 \nL 193.636296 185.278379 \nL 193.940964 185.278379 \nL 193.940964 185.552553 \nL 194.854969 185.624366 \nL 194.854969 186.083056 \nL 195.159638 186.083056 \nL 195.159638 186.213154 \nL 195.464306 186.213154 \nL 195.464306 186.375499 \nL 196.073643 186.387154 \nL 196.073643 186.561128 \nL 196.378311 186.561128 \nL 196.378311 186.778082 \nL 196.682979 186.778082 \nL 196.682979 187.015548 \nL 197.292316 187.121489 \nL 197.292316 187.160193 \nL 197.901652 187.200833 \nL 197.901652 187.309972 \nL 198.206321 187.309972 \nL 198.206321 187.52323 \nL 198.510989 187.52323 \nL 198.510989 188.215385 \nL 198.815657 188.215385 \nL 198.815657 188.485107 \nL 199.729662 188.579853 \nL 199.729662 188.653019 \nL 200.03433 188.653019 \nL 200.03433 188.880774 \nL 200.948335 188.899762 \nL 200.948335 189.091865 \nL 201.86234 189.189862 \nL 201.86234 189.237035 \nL 202.167009 189.237035 \nL 202.167009 189.637766 \nL 202.471677 189.637766 \nL 202.471677 189.770026 \nL 203.995018 189.878719 \nL 203.995018 189.951052 \nL 204.299687 189.951052 \nL 204.299687 190.116207 \nL 205.213692 190.21755 \nL 205.213692 190.868646 \nL 205.51836 190.868646 \nL 205.51836 191.032471 \nL 205.823028 191.032471 \nL 205.823028 191.666292 \nL 206.127697 191.666292 \nL 206.127697 191.812587 \nL 206.432365 191.812587 \nL 206.432365 192.462042 \nL 206.737033 192.462042 \nL 206.737033 192.629299 \nL 207.041701 192.629299 \nL 207.041701 193.002156 \nL 207.651038 193.092547 \nL 207.651038 193.12265 \nL 208.260375 193.125175 \nL 208.260375 193.330588 \nL 208.565043 193.330588 \nL 208.565043 193.556893 \nL 209.17438 193.574492 \nL 209.17438 193.729835 \nL 210.088385 193.771733 \nL 210.088385 193.915759 \nL 210.393053 193.915759 \nL 210.393053 194.230025 \nL 210.697721 194.230025 \nL 210.697721 194.517858 \nL 211.916394 194.586141 \nL 211.916394 194.893265 \nL 212.525731 194.90176 \nL 212.525731 195.083071 \nL 213.135068 195.084586 \nL 213.135068 195.216955 \nL 213.439736 195.216955 \nL 213.439736 195.389102 \nL 213.744404 195.389102 \nL 213.744404 195.578246 \nL 214.353741 195.615307 \nL 214.353741 195.798189 \nL 215.267746 195.82559 \nL 215.267746 195.964456 \nL 215.877082 195.994196 \nL 215.877082 196.504832 \nL 217.095756 196.558827 \nL 217.095756 196.657814 \nL 217.705092 196.719594 \nL 217.705092 196.789061 \nL 218.619097 196.895385 \nL 218.619097 197.006762 \nL 219.228434 197.055932 \nL 219.228434 197.526962 \nL 219.83777 197.600869 \nL 219.83777 197.846867 \nL 220.447107 197.899316 \nL 220.447107 198.005179 \nL 221.056443 198.063585 \nL 221.056443 198.19956 \nL 221.361112 198.19956 \nL 221.361112 198.323025 \nL 222.275117 198.339611 \nL 222.275117 198.474848 \nL 223.189122 198.566075 \nL 223.189122 198.636049 \nL 223.798458 198.668503 \nL 223.798458 198.824743 \nL 225.017131 198.923362 \nL 225.017131 198.963275 \nL 225.3218 198.963275 \nL 225.3218 199.425182 \nL 226.540473 199.502081 \nL 226.540473 199.55239 \nL 227.14981 199.60389 \nL 227.14981 199.911348 \nL 228.063814 199.928795 \nL 228.063814 200.044796 \nL 228.673151 200.107848 \nL 228.673151 200.28729 \nL 228.977819 200.28729 \nL 228.977819 200.488648 \nL 229.891824 200.591459 \nL 229.891824 200.73596 \nL 230.805829 200.811103 \nL 230.805829 200.85709 \nL 231.719834 200.936197 \nL 231.719834 201.048468 \nL 232.633839 201.130445 \nL 232.633839 201.276195 \nL 233.547844 201.319571 \nL 233.547844 201.415545 \nL 234.157181 201.498092 \nL 234.157181 201.827164 \nL 234.766517 201.857848 \nL 234.766517 201.980706 \nL 235.680522 202.086296 \nL 235.680522 202.369948 \nL 236.594527 202.431692 \nL 236.594527 202.54016 \nL 237.508532 202.588622 \nL 237.508532 202.723244 \nL 238.422537 202.806488 \nL 238.422537 202.910559 \nL 239.336542 203.019821 \nL 239.336542 203.027867 \nL 240.250547 203.127364 \nL 240.250547 203.185266 \nL 240.555215 203.185266 \nL 240.555215 203.338418 \nL 240.859883 203.338418 \nL 240.859883 203.457427 \nL 241.773888 203.564178 \nL 241.773888 203.57784 \nL 242.687893 203.672617 \nL 242.687893 203.698326 \nL 243.601898 203.70473 \nL 243.601898 203.888946 \nL 245.12524 203.988997 \nL 245.12524 204.023843 \nL 245.429908 204.023843 \nL 245.429908 204.291416 \nL 246.039244 204.292078 \nL 246.039244 204.406048 \nL 246.953249 204.438803 \nL 246.953249 204.51969 \nL 247.867254 204.605288 \nL 247.867254 204.738609 \nL 248.781259 204.840906 \nL 248.781259 204.85883 \nL 249.390596 204.947371 \nL 249.390596 205.044142 \nL 249.695264 205.044142 \nL 249.695264 205.16653 \nL 251.218606 205.212169 \nL 251.218606 205.331253 \nL 251.827942 205.376424 \nL 251.827942 205.454613 \nL 252.437279 205.486862 \nL 252.437279 205.575427 \nL 253.351284 205.598982 \nL 253.351284 205.699895 \nL 253.96062 205.75456 \nL 253.96062 205.838732 \nL 254.569957 205.864928 \nL 254.569957 205.984502 \nL 254.874625 205.984502 \nL 254.874625 206.158761 \nL 255.78863 206.18413 \nL 255.78863 206.287549 \nL 257.007303 206.396429 \nL 257.007303 206.465281 \nL 257.921308 206.545836 \nL 257.921308 206.739322 \nL 258.835313 206.842313 \nL 258.835313 206.868436 \nL 260.663323 206.965484 \nL 260.663323 207.0284 \nL 261.577328 207.12956 \nL 261.577328 207.210992 \nL 262.491333 207.309808 \nL 262.491333 207.401102 \nL 263.10067 207.465564 \nL 263.10067 207.541924 \nL 264.014674 207.620401 \nL 264.014674 207.67425 \nL 265.233348 207.763722 \nL 265.233348 207.808115 \nL 266.147353 207.855404 \nL 266.147353 207.944599 \nL 267.975362 208.050234 \nL 267.975362 208.083525 \nL 268.584699 208.162662 \nL 268.584699 208.200769 \nL 269.803372 208.30388 \nL 269.803372 208.327747 \nL 270.717377 208.411105 \nL 270.717377 208.446192 \nL 271.631382 208.535369 \nL 271.631382 208.58677 \nL 273.459392 208.657187 \nL 273.459392 208.814072 \nL 275.59207 208.920918 \nL 275.59207 208.926142 \nL 276.810743 208.988442 \nL 276.810743 209.087629 \nL 277.724748 209.180258 \nL 277.724748 209.236378 \nL 278.029416 209.236378 \nL 278.029416 209.560699 \nL 279.24809 209.594914 \nL 279.24809 209.846649 \nL 279.552758 209.846649 \nL 279.552758 209.964272 \nL 280.162095 210.000226 \nL 280.162095 210.085124 \nL 281.0761 210.096476 \nL 281.0761 210.199719 \nL 281.380768 210.199719 \nL 281.380768 210.314465 \nL 282.599441 210.416725 \nL 282.599441 210.433425 \nL 284.427451 210.543591 \nL 284.427451 210.644812 \nL 285.341456 210.735757 \nL 285.341456 210.758382 \nL 286.864797 210.86596 \nL 286.864797 210.893032 \nL 288.083471 210.966964 \nL 288.083471 211.04633 \nL 289.606812 211.120903 \nL 289.606812 211.213772 \nL 290.216149 211.247607 \nL 290.216149 211.344684 \nL 291.73949 211.44988 \nL 291.73949 211.541426 \nL 292.653495 211.634775 \nL 292.653495 211.775753 \nL 293.5675 211.882096 \nL 293.5675 211.936777 \nL 294.176837 212.021375 \nL 294.176837 212.064799 \nL 294.786173 212.112461 \nL 294.786173 212.293859 \nL 295.700178 212.399306 \nL 295.700178 212.451822 \nL 297.22352 212.548092 \nL 297.22352 212.575733 \nL 299.965534 212.676543 \nL 299.965534 212.728137 \nL 301.488876 212.836062 \nL 301.488876 213.00176 \nL 302.402881 213.084768 \nL 302.402881 213.121118 \nL 304.230891 213.231971 \nL 304.230891 213.245167 \nL 305.144896 213.329804 \nL 305.144896 213.392417 \nL 307.277574 213.484116 \nL 307.277574 213.597587 \nL 309.105584 213.684726 \nL 309.105584 213.772506 \nL 309.71492 213.837871 \nL 309.71492 213.897718 \nL 311.54293 214.004204 \nL 311.54293 214.080024 \nL 312.761603 214.161739 \nL 312.761603 214.202088 \nL 314.284945 214.286598 \nL 314.284945 214.388554 \nL 316.417623 214.469923 \nL 316.417623 214.509891 \nL 316.722291 214.509891 \nL 316.722291 214.622237 \nL 317.636296 214.670895 \nL 317.636296 214.781598 \nL 318.854969 214.89052 \nL 318.854969 214.919949 \nL 319.768974 214.98219 \nL 319.768974 215.038043 \nL 321.596984 215.139245 \nL 321.596984 215.179689 \nL 323.729662 215.289106 \nL 323.729662 215.29118 \nL 325.86234 215.396095 \nL 325.86234 215.434959 \nL 327.69035 215.537227 \nL 327.69035 215.557365 \nL 328.909023 215.61028 \nL 328.909023 215.71539 \nL 331.041701 215.826273 \nL 331.041701 215.831822 \nL 332.260375 215.932975 \nL 332.260375 215.947189 \nL 334.697721 216.019787 \nL 334.697721 216.068615 \nL 335.307058 216.107442 \nL 335.307058 216.185726 \nL 336.525731 216.291586 \nL 336.525731 216.30404 \nL 338.963077 216.392955 \nL 338.963077 216.424032 \nL 340.486419 216.521972 \nL 340.486419 216.547438 \nL 342.00976 216.626567 \nL 342.00976 216.677249 \nL 344.751775 216.771837 \nL 344.751775 216.806972 \nL 346.884453 216.905373 \nL 346.884453 216.973442 \nL 349.017131 217.08057 \nL 349.017131 217.089048 \nL 352.063814 217.179217 \nL 352.063814 217.23434 \nL 354.501161 217.32968 \nL 354.501161 217.355987 \nL 356.329171 217.454005 \nL 356.329171 217.468692 \nL 358.157181 217.555598 \nL 358.157181 217.588365 \nL 359.680522 217.652542 \nL 359.680522 217.704035 \nL 363.031873 217.813987 \nL 363.031873 217.842164 \nL 364.859883 217.943643 \nL 364.859883 217.992641 \nL 367.906566 218.08878 \nL 367.906566 218.10621 \nL 370.039244 218.180873 \nL 370.039244 218.247384 \nL 372.781259 218.33458 \nL 372.781259 218.364448 \nL 375.523274 218.472318 \nL 375.523274 218.529016 \nL 378.265289 218.630784 \nL 378.265289 218.640874 \nL 381.311972 218.743834 \nL 381.311972 218.757519 \nL 383.139982 218.851891 \nL 383.139982 218.871055 \nL 383.749318 218.88 \nL 383.749318 218.88 \n\" clip-path=\"url(#p7ca92a5b26)\" style=\"fill: none; stroke: #0071bc; stroke-width: 1.5; stroke-linecap: square\"/>\n   </g>\n   <g id=\"line2d_13\">\n    <path d=\"M 79.385682 115.210449 \nL 79.385682 115.828473 \nL 79.69035 115.828473 \nL 79.69035 116.146232 \nL 79.995018 116.146232 \nL 79.995018 116.456848 \nL 80.299687 116.456848 \nL 80.299687 117.027896 \nL 80.909023 117.078589 \nL 80.909023 117.157623 \nL 81.51836 117.228408 \nL 81.51836 117.421237 \nL 82.127697 117.508143 \nL 82.127697 117.725059 \nL 82.432365 117.725059 \nL 82.432365 119.015223 \nL 82.737033 119.015223 \nL 82.737033 119.583431 \nL 83.34637 119.623389 \nL 83.34637 119.977831 \nL 83.651038 119.977831 \nL 83.651038 120.335402 \nL 83.955706 120.335402 \nL 83.955706 120.625615 \nL 84.565043 120.700598 \nL 84.565043 121.383968 \nL 85.17438 121.465157 \nL 85.17438 121.83988 \nL 85.479048 121.83988 \nL 85.479048 122.415519 \nL 86.088385 122.415774 \nL 86.088385 122.769268 \nL 86.393053 122.769268 \nL 86.393053 123.42976 \nL 86.697721 123.42976 \nL 86.697721 123.665173 \nL 87.002389 123.665173 \nL 87.002389 123.982788 \nL 87.307058 123.982788 \nL 87.307058 124.123403 \nL 87.916394 124.196067 \nL 87.916394 124.560996 \nL 88.221063 124.560996 \nL 88.221063 124.67259 \nL 88.830399 124.682995 \nL 88.830399 125.405152 \nL 89.135068 125.405152 \nL 89.135068 125.881011 \nL 89.744404 125.930372 \nL 89.744404 126.317255 \nL 90.353741 126.346023 \nL 90.353741 126.6781 \nL 90.658409 126.6781 \nL 90.658409 127.008254 \nL 91.267746 127.069957 \nL 91.267746 127.337948 \nL 91.572414 127.337948 \nL 91.572414 127.51976 \nL 91.877082 127.51976 \nL 91.877082 127.683223 \nL 92.791087 127.762859 \nL 92.791087 128.647129 \nL 93.400424 128.732394 \nL 93.400424 128.887798 \nL 94.00976 128.951226 \nL 94.00976 129.106988 \nL 94.619097 129.187727 \nL 94.619097 129.589625 \nL 94.923765 129.589625 \nL 94.923765 129.746229 \nL 95.228434 129.746229 \nL 95.228434 130.03414 \nL 95.83777 130.124477 \nL 95.83777 130.308263 \nL 96.142439 130.308263 \nL 96.142439 131.026426 \nL 97.361112 131.108192 \nL 97.361112 131.744228 \nL 97.66578 131.744228 \nL 97.66578 132.067059 \nL 98.275117 132.092521 \nL 98.275117 132.314288 \nL 98.579785 132.314288 \nL 98.579785 132.544415 \nL 98.884453 132.544415 \nL 98.884453 132.988114 \nL 99.798458 133.060136 \nL 99.798458 133.336478 \nL 100.407795 133.389436 \nL 100.407795 133.663862 \nL 100.712463 133.663862 \nL 100.712463 133.809509 \nL 101.017131 133.809509 \nL 101.017131 134.16092 \nL 101.626468 134.211613 \nL 101.626468 135.171425 \nL 101.931136 135.171425 \nL 101.931136 135.368498 \nL 102.235805 135.368498 \nL 102.235805 135.693167 \nL 102.540473 135.693167 \nL 102.540473 135.904724 \nL 102.845141 135.904724 \nL 102.845141 136.18647 \nL 103.14981 136.18647 \nL 103.14981 136.746414 \nL 103.759146 136.808847 \nL 103.759146 137.100591 \nL 104.368483 137.134735 \nL 104.368483 137.353653 \nL 104.673151 137.353653 \nL 104.673151 137.688377 \nL 104.977819 137.688377 \nL 104.977819 137.956019 \nL 105.282488 137.956019 \nL 105.282488 138.499518 \nL 105.587156 138.499518 \nL 105.587156 139.020045 \nL 105.891824 139.020045 \nL 105.891824 139.258384 \nL 106.501161 139.276239 \nL 106.501161 139.494528 \nL 106.805829 139.494528 \nL 106.805829 139.631282 \nL 107.415166 139.718168 \nL 107.415166 139.762193 \nL 108.024502 139.800729 \nL 108.024502 140.292988 \nL 108.329171 140.292988 \nL 108.329171 140.464563 \nL 108.633839 140.464563 \nL 108.633839 140.675034 \nL 108.938507 140.675034 \nL 108.938507 140.914352 \nL 109.243176 140.914352 \nL 109.243176 141.12082 \nL 109.852512 141.218627 \nL 109.852512 141.297954 \nL 110.157181 141.297954 \nL 110.157181 142.120035 \nL 110.766517 142.213171 \nL 110.766517 142.495229 \nL 111.375854 142.590941 \nL 111.375854 142.678789 \nL 112.289859 142.775373 \nL 112.289859 142.820123 \nL 112.899195 142.905019 \nL 112.899195 143.032397 \nL 113.508532 143.066099 \nL 113.508532 143.173388 \nL 113.8132 143.173388 \nL 113.8132 143.295121 \nL 114.117869 143.295121 \nL 114.117869 143.41458 \nL 114.422537 143.41458 \nL 114.422537 143.761812 \nL 115.336542 143.829467 \nL 115.336542 143.971593 \nL 115.64121 143.971593 \nL 115.64121 144.083212 \nL 115.945878 144.083212 \nL 115.945878 144.585532 \nL 116.250547 144.585532 \nL 116.250547 144.769941 \nL 116.859883 144.787715 \nL 116.859883 144.965649 \nL 117.164552 144.965649 \nL 117.164552 145.243087 \nL 117.46922 145.243087 \nL 117.46922 145.545937 \nL 117.773888 145.545937 \nL 117.773888 145.659663 \nL 118.078557 145.659663 \nL 118.078557 145.825802 \nL 118.383225 145.825802 \nL 118.383225 146.09969 \nL 119.29723 146.173289 \nL 119.29723 146.463058 \nL 119.906566 146.489095 \nL 119.906566 146.727761 \nL 120.211235 146.727761 \nL 120.211235 146.989148 \nL 120.515903 146.989148 \nL 120.515903 147.11276 \nL 121.12524 147.199901 \nL 121.12524 147.39293 \nL 121.429908 147.39293 \nL 121.429908 148.068661 \nL 122.343913 148.157545 \nL 122.343913 148.215383 \nL 123.257918 148.265981 \nL 123.257918 148.66793 \nL 123.562586 148.66793 \nL 123.562586 148.861243 \nL 123.867254 148.861243 \nL 123.867254 149.123213 \nL 124.476591 149.187536 \nL 124.476591 149.590288 \nL 124.781259 149.590288 \nL 124.781259 149.869358 \nL 125.390596 149.916292 \nL 125.390596 150.025513 \nL 125.695264 150.025513 \nL 125.695264 150.5496 \nL 126.304601 150.623859 \nL 126.304601 150.89355 \nL 126.609269 150.89355 \nL 126.609269 151.016141 \nL 126.913937 151.016141 \nL 126.913937 152.10104 \nL 127.218606 152.10104 \nL 127.218606 152.452966 \nL 127.523274 152.452966 \nL 127.523274 152.590091 \nL 127.827942 152.590091 \nL 127.827942 152.717741 \nL 128.437279 152.758607 \nL 128.437279 153.330431 \nL 128.741947 153.330431 \nL 128.741947 153.526842 \nL 129.351284 153.632999 \nL 129.351284 153.729807 \nL 129.655952 153.729807 \nL 129.655952 154.046417 \nL 130.265289 154.097941 \nL 130.265289 154.300653 \nL 130.874625 154.312548 \nL 130.874625 154.470962 \nL 131.483962 154.539893 \nL 131.483962 154.630908 \nL 132.093299 154.729202 \nL 132.093299 154.921028 \nL 132.397967 154.921028 \nL 132.397967 155.15017 \nL 133.921308 155.230207 \nL 133.921308 155.528567 \nL 134.530645 155.589809 \nL 134.530645 155.645879 \nL 134.835313 155.645879 \nL 134.835313 155.768696 \nL 135.44465 155.840929 \nL 135.44465 156.107141 \nL 136.358655 156.18079 \nL 136.358655 156.274651 \nL 136.663323 156.274651 \nL 136.663323 156.820872 \nL 136.967991 156.820872 \nL 136.967991 157.044799 \nL 137.27266 157.044799 \nL 137.27266 157.25 \nL 137.577328 157.25 \nL 137.577328 157.413983 \nL 138.186665 157.426027 \nL 138.186665 157.637578 \nL 138.491333 157.637578 \nL 138.491333 158.115712 \nL 138.796001 158.115712 \nL 138.796001 158.371396 \nL 139.10067 158.371396 \nL 139.10067 158.563675 \nL 139.710006 158.626989 \nL 139.710006 158.986919 \nL 140.319343 159.01009 \nL 140.319343 159.108736 \nL 140.928679 159.10886 \nL 140.928679 159.314003 \nL 141.538016 159.341918 \nL 141.538016 159.479093 \nL 141.842684 159.479093 \nL 141.842684 160.028727 \nL 142.147353 160.028727 \nL 142.147353 160.171905 \nL 143.366026 160.265872 \nL 143.366026 160.636168 \nL 143.975362 160.746989 \nL 143.975362 160.748559 \nL 144.889367 160.841138 \nL 144.889367 161.000207 \nL 145.498704 161.079861 \nL 145.498704 161.265143 \nL 145.803372 161.265143 \nL 145.803372 161.625255 \nL 146.412709 161.629323 \nL 146.412709 161.770947 \nL 147.326714 161.823557 \nL 147.326714 161.907552 \nL 147.93605 162.011927 \nL 147.93605 162.09794 \nL 148.850055 162.208501 \nL 148.850055 162.295626 \nL 149.459392 162.326035 \nL 149.459392 162.468746 \nL 150.068729 162.566978 \nL 150.068729 162.723938 \nL 150.678065 162.794199 \nL 150.678065 162.88089 \nL 150.982733 162.88089 \nL 150.982733 163.181987 \nL 151.287402 163.181987 \nL 151.287402 163.39798 \nL 151.59207 163.39798 \nL 151.59207 163.718893 \nL 152.506075 163.829384 \nL 152.506075 164.056469 \nL 153.42008 164.160185 \nL 153.42008 164.276638 \nL 154.029416 164.344363 \nL 154.029416 164.575356 \nL 154.638753 164.664614 \nL 154.638753 164.692456 \nL 155.24809 164.704819 \nL 155.24809 164.99967 \nL 155.857426 165.109306 \nL 155.857426 165.13116 \nL 156.466763 165.221516 \nL 156.466763 165.310574 \nL 157.685436 165.403324 \nL 157.685436 165.437883 \nL 157.990104 165.437883 \nL 157.990104 165.763659 \nL 158.294773 165.763659 \nL 158.294773 165.952655 \nL 158.599441 165.952655 \nL 158.599441 166.106045 \nL 159.818114 166.2102 \nL 159.818114 166.32123 \nL 160.122783 166.32123 \nL 160.122783 166.856962 \nL 160.732119 166.895266 \nL 160.732119 167.075006 \nL 161.036787 167.075006 \nL 161.036787 167.210435 \nL 161.341456 167.210435 \nL 161.341456 167.349816 \nL 161.950792 167.367005 \nL 161.950792 167.53812 \nL 162.255461 167.53812 \nL 162.255461 167.873535 \nL 162.560129 167.873535 \nL 162.560129 167.998501 \nL 162.864797 167.998501 \nL 162.864797 168.179575 \nL 164.083471 168.278677 \nL 164.083471 168.438528 \nL 165.302144 168.533615 \nL 165.302144 168.743766 \nL 165.91148 168.802646 \nL 165.91148 168.935977 \nL 166.520817 169.035672 \nL 166.520817 169.158723 \nL 166.825485 169.158723 \nL 166.825485 169.37648 \nL 167.73949 169.430028 \nL 167.73949 169.505074 \nL 168.348827 169.550137 \nL 168.348827 169.711268 \nL 169.5675 169.745878 \nL 169.5675 169.96132 \nL 169.872168 169.96132 \nL 169.872168 170.196819 \nL 171.090842 170.255183 \nL 171.090842 170.510461 \nL 171.39551 170.510461 \nL 171.39551 170.751784 \nL 172.309515 170.832006 \nL 172.309515 170.895308 \nL 172.918851 170.985522 \nL 172.918851 171.021815 \nL 173.528188 171.043977 \nL 173.528188 171.197238 \nL 173.832856 171.197238 \nL 173.832856 171.363296 \nL 174.137525 171.363296 \nL 174.137525 171.547437 \nL 174.746861 171.601918 \nL 174.746861 171.740581 \nL 175.356198 171.841652 \nL 175.356198 171.876379 \nL 175.965534 171.940332 \nL 175.965534 172.1669 \nL 176.574871 172.248176 \nL 176.574871 172.312952 \nL 177.184208 172.416888 \nL 177.184208 172.451457 \nL 178.098213 172.559095 \nL 178.098213 172.600143 \nL 178.707549 172.678549 \nL 178.707549 172.732885 \nL 179.316886 172.805886 \nL 179.316886 172.847893 \nL 180.230891 172.948611 \nL 180.230891 172.973906 \nL 181.449564 173.065462 \nL 181.449564 173.35032 \nL 181.754232 173.35032 \nL 181.754232 173.528273 \nL 182.972905 173.591266 \nL 182.972905 173.868776 \nL 183.582242 173.902297 \nL 183.582242 174.252141 \nL 184.800915 174.333758 \nL 184.800915 174.520936 \nL 185.71492 174.605158 \nL 185.71492 174.639994 \nL 186.324257 174.743351 \nL 186.324257 174.988957 \nL 186.933593 175.017253 \nL 186.933593 175.197949 \nL 187.54293 175.260131 \nL 187.54293 175.449841 \nL 188.152267 175.484864 \nL 188.152267 175.648024 \nL 188.761603 175.705487 \nL 188.761603 175.849097 \nL 189.37094 175.906029 \nL 189.37094 176.012424 \nL 189.675608 176.012424 \nL 189.675608 176.131095 \nL 190.284945 176.142932 \nL 190.284945 176.261972 \nL 191.19895 176.334585 \nL 191.19895 176.412627 \nL 192.112955 176.485284 \nL 192.112955 176.716672 \nL 193.331628 176.774056 \nL 193.331628 176.90988 \nL 193.636296 176.90988 \nL 193.636296 177.03321 \nL 193.940964 177.03321 \nL 193.940964 177.198619 \nL 194.854969 177.242038 \nL 194.854969 177.520288 \nL 195.464306 177.599502 \nL 195.464306 177.698534 \nL 196.073643 177.705651 \nL 196.073643 177.812021 \nL 196.378311 177.812021 \nL 196.378311 177.945001 \nL 196.682979 177.945001 \nL 196.682979 178.090981 \nL 197.596984 178.180121 \nL 197.596984 178.205196 \nL 198.206321 178.272601 \nL 198.206321 178.404589 \nL 198.510989 178.404589 \nL 198.510989 178.835539 \nL 198.815657 178.835539 \nL 198.815657 179.004553 \nL 200.03433 179.110081 \nL 200.03433 179.253603 \nL 200.948335 179.265589 \nL 200.948335 179.387022 \nL 202.167009 179.479 \nL 202.167009 179.733856 \nL 203.081014 179.836316 \nL 203.081014 179.861335 \nL 204.299687 179.934089 \nL 204.299687 180.040001 \nL 205.213692 180.105113 \nL 205.213692 180.525679 \nL 205.823028 180.632119 \nL 205.823028 181.046319 \nL 206.432365 181.142472 \nL 206.432365 181.571858 \nL 206.737033 181.571858 \nL 206.737033 181.683121 \nL 207.041701 181.683121 \nL 207.041701 181.932172 \nL 208.260375 182.014655 \nL 208.260375 182.152731 \nL 208.565043 182.152731 \nL 208.565043 182.305362 \nL 209.17438 182.317254 \nL 209.17438 182.422366 \nL 210.088385 182.450759 \nL 210.088385 182.548507 \nL 210.393053 182.548507 \nL 210.393053 182.762567 \nL 210.697721 182.762567 \nL 210.697721 182.959567 \nL 211.916394 183.006434 \nL 211.916394 183.217879 \nL 212.525731 183.223743 \nL 212.525731 183.349084 \nL 213.439736 183.441877 \nL 213.439736 183.561492 \nL 213.744404 183.561492 \nL 213.744404 183.69331 \nL 214.353741 183.719188 \nL 214.353741 183.847117 \nL 215.267746 183.866318 \nL 215.267746 183.963764 \nL 215.877082 183.984664 \nL 215.877082 184.345155 \nL 217.400424 184.453769 \nL 217.400424 184.497714 \nL 218.314429 184.566083 \nL 218.314429 184.623011 \nL 218.923765 184.702597 \nL 218.923765 184.73778 \nL 219.228434 184.73778 \nL 219.228434 185.076377 \nL 219.83777 185.129762 \nL 219.83777 185.307962 \nL 220.447107 185.346058 \nL 220.447107 185.423061 \nL 221.056443 185.465607 \nL 221.056443 185.564835 \nL 222.275117 185.667295 \nL 222.275117 185.766484 \nL 223.189122 185.833534 \nL 223.189122 185.88504 \nL 223.798458 185.908951 \nL 223.798458 186.024267 \nL 225.3218 186.126794 \nL 225.3218 186.470594 \nL 226.845141 186.565807 \nL 226.845141 186.604421 \nL 227.14981 186.604421 \nL 227.14981 186.835744 \nL 228.368483 186.936577 \nL 228.368483 186.984311 \nL 228.673151 186.984311 \nL 228.673151 187.120483 \nL 228.977819 187.120483 \nL 228.977819 187.273862 \nL 229.891824 187.352413 \nL 229.891824 187.46309 \nL 231.110498 187.556115 \nL 231.110498 187.612305 \nL 232.024502 187.703554 \nL 232.024502 187.761708 \nL 232.633839 187.766885 \nL 232.633839 187.879747 \nL 233.852512 187.98797 \nL 233.852512 188.052225 \nL 234.157181 188.052225 \nL 234.157181 188.309479 \nL 234.766517 188.333557 \nL 234.766517 188.43012 \nL 235.680522 188.513313 \nL 235.680522 188.737727 \nL 236.594527 188.786758 \nL 236.594527 188.87305 \nL 237.508532 188.911671 \nL 237.508532 189.019166 \nL 238.422537 189.085795 \nL 238.422537 189.169266 \nL 239.64121 189.263582 \nL 239.64121 189.297448 \nL 240.555215 189.390519 \nL 240.555215 189.51446 \nL 241.164552 189.611065 \nL 241.164552 189.641924 \nL 242.383225 189.750314 \nL 242.383225 189.786405 \nL 243.601898 189.812645 \nL 243.601898 189.963544 \nL 245.429908 190.07445 \nL 245.429908 190.295467 \nL 246.648581 190.403968 \nL 246.648581 190.417804 \nL 247.562586 190.507039 \nL 247.562586 190.556506 \nL 247.867254 190.556506 \nL 247.867254 190.667975 \nL 249.085928 190.768798 \nL 249.085928 190.843239 \nL 249.695264 190.924783 \nL 249.695264 191.028189 \nL 251.218606 191.066829 \nL 251.218606 191.167853 \nL 252.132611 191.272819 \nL 252.132611 191.300313 \nL 253.351284 191.396071 \nL 253.351284 191.482488 \nL 253.96062 191.529392 \nL 253.96062 191.60174 \nL 254.569957 191.624287 \nL 254.569957 191.727399 \nL 254.874625 191.727399 \nL 254.874625 191.878231 \nL 255.78863 191.900246 \nL 255.78863 191.99014 \nL 257.007303 192.085042 \nL 257.007303 192.145194 \nL 257.921308 192.215707 \nL 257.921308 192.385686 \nL 258.835313 192.476521 \nL 258.835313 192.4996 \nL 260.663323 192.585482 \nL 260.663323 192.641278 \nL 261.577328 192.731189 \nL 261.577328 192.803746 \nL 262.491333 192.892008 \nL 262.491333 192.973763 \nL 263.10067 193.031613 \nL 263.10067 193.100275 \nL 264.014674 193.170991 \nL 264.014674 193.219604 \nL 265.233348 193.300539 \nL 265.233348 193.340772 \nL 266.147353 193.383683 \nL 266.147353 193.46478 \nL 267.975362 193.561088 \nL 267.975362 193.5915 \nL 268.889367 193.698835 \nL 268.889367 193.745715 \nL 270.412709 193.848117 \nL 270.412709 193.892306 \nL 271.326714 193.931038 \nL 271.326714 194.007162 \nL 273.154724 194.077805 \nL 273.154724 194.120166 \nL 273.459392 194.120166 \nL 273.459392 194.266299 \nL 276.201407 194.372028 \nL 276.201407 194.429039 \nL 277.115412 194.522753 \nL 277.115412 194.585905 \nL 278.029416 194.663094 \nL 278.029416 194.971315 \nL 279.24809 195.004012 \nL 279.24809 195.245665 \nL 279.552758 195.245665 \nL 279.552758 195.35924 \nL 280.162095 195.394042 \nL 280.162095 195.47638 \nL 281.0761 195.487406 \nL 281.0761 195.587876 \nL 281.380768 195.587876 \nL 281.380768 195.699935 \nL 282.599441 195.800158 \nL 282.599441 195.816557 \nL 284.427451 195.924965 \nL 284.427451 196.024922 \nL 285.341456 196.115021 \nL 285.341456 196.137478 \nL 286.864797 196.244492 \nL 286.864797 196.271485 \nL 288.083471 196.345325 \nL 288.083471 196.4248 \nL 289.606812 196.499673 \nL 289.606812 196.593187 \nL 290.216149 196.627333 \nL 290.216149 196.725523 \nL 291.73949 196.832304 \nL 291.73949 196.925553 \nL 292.653495 197.020952 \nL 292.653495 197.165634 \nL 293.5675 197.275259 \nL 293.5675 197.331793 \nL 294.176837 197.419482 \nL 294.176837 197.464599 \nL 294.786173 197.514203 \nL 294.786173 197.703796 \nL 295.700178 197.814603 \nL 295.700178 197.869954 \nL 297.22352 197.971708 \nL 297.22352 198.000992 \nL 299.965534 198.108062 \nL 299.965534 198.163021 \nL 301.184208 198.187668 \nL 301.184208 198.278344 \nL 301.488876 198.278344 \nL 301.488876 198.456354 \nL 302.402881 198.54597 \nL 302.402881 198.585307 \nL 303.926222 198.666244 \nL 303.926222 198.705626 \nL 305.144896 198.812263 \nL 305.144896 198.880733 \nL 307.277574 198.981328 \nL 307.277574 199.106337 \nL 309.105584 199.202738 \nL 309.105584 199.300206 \nL 309.71492 199.373021 \nL 309.71492 199.439866 \nL 311.238262 199.547996 \nL 311.238262 199.559229 \nL 312.152267 199.663446 \nL 312.152267 199.692102 \nL 313.066271 199.782509 \nL 313.066271 199.814332 \nL 314.284945 199.878455 \nL 314.284945 199.994687 \nL 316.417623 200.087829 \nL 316.417623 200.133705 \nL 316.722291 200.133705 \nL 316.722291 200.263103 \nL 317.636296 200.319352 \nL 317.636296 200.447794 \nL 318.550301 200.523548 \nL 318.550301 200.574813 \nL 319.768974 200.682216 \nL 319.768974 200.747882 \nL 321.292316 200.846605 \nL 321.292316 200.86731 \nL 322.206321 200.931469 \nL 322.206321 201.006236 \nL 324.948335 201.111673 \nL 324.948335 201.139445 \nL 326.471677 201.239722 \nL 326.471677 201.278308 \nL 328.604355 201.383208 \nL 328.604355 201.430944 \nL 328.909023 201.430944 \nL 328.909023 201.558521 \nL 330.737033 201.627628 \nL 330.737033 201.693843 \nL 331.651038 201.797746 \nL 331.651038 201.818411 \nL 334.088385 201.913108 \nL 334.088385 201.931283 \nL 335.307058 202.04047 \nL 335.307058 202.13789 \nL 336.221063 202.225446 \nL 336.221063 202.270275 \nL 338.353741 202.380613 \nL 338.353741 202.381933 \nL 339.877082 202.476895 \nL 339.877082 202.546865 \nL 341.705092 202.621649 \nL 341.705092 202.694235 \nL 342.923765 202.802293 \nL 342.923765 202.809479 \nL 344.751775 202.880553 \nL 344.751775 202.925846 \nL 346.275117 203.019826 \nL 346.275117 203.040369 \nL 347.189122 203.141686 \nL 347.189122 203.173504 \nL 349.017131 203.281689 \nL 349.017131 203.292807 \nL 351.454478 203.371583 \nL 351.454478 203.405775 \nL 352.368483 203.484198 \nL 352.368483 203.559137 \nL 355.110498 203.646482 \nL 355.110498 203.678327 \nL 356.329171 203.776749 \nL 356.329171 203.796449 \nL 357.547844 203.840968 \nL 357.547844 203.912887 \nL 359.375854 203.994092 \nL 359.375854 204.04458 \nL 360.289859 204.144385 \nL 360.289859 204.159959 \nL 363.031873 204.264852 \nL 363.031873 204.303529 \nL 364.250547 204.407449 \nL 364.250547 204.418054 \nL 365.773888 204.522107 \nL 365.773888 204.533795 \nL 367.601898 204.625984 \nL 367.601898 204.645102 \nL 369.12524 204.701289 \nL 369.12524 204.768717 \nL 370.343913 204.867748 \nL 370.343913 204.880724 \nL 372.781259 204.991179 \nL 372.781259 205.033628 \nL 374.913937 205.139948 \nL 374.913937 205.16283 \nL 376.132611 205.273111 \nL 376.132611 205.29659 \nL 377.96062 205.403932 \nL 377.96062 205.416108 \nL 379.78863 205.517442 \nL 379.78863 205.556643 \nL 382.225977 205.667607 \nL 382.225977 205.686851 \nL 383.749318 205.780692 \nL 383.749318 205.780692 \n\" clip-path=\"url(#p7ca92a5b26)\" style=\"fill: none; stroke: #f7931e; stroke-width: 1.5; stroke-linecap: square\"/>\n   </g>\n   <g id=\"line2d_14\">\n    <path d=\"M 79.385682 151.933217 \nL 79.385682 152.13971 \nL 79.995018 152.246105 \nL 79.995018 152.350258 \nL 80.299687 152.350258 \nL 80.299687 152.542124 \nL 81.51836 152.609614 \nL 81.51836 152.674576 \nL 82.432365 152.777049 \nL 82.432365 153.21381 \nL 82.737033 153.21381 \nL 82.737033 153.407005 \nL 83.34637 153.42061 \nL 83.34637 153.541408 \nL 83.651038 153.541408 \nL 83.651038 153.663478 \nL 84.260375 153.762705 \nL 84.260375 153.788365 \nL 84.565043 153.788365 \nL 84.565043 154.022645 \nL 85.17438 154.050529 \nL 85.17438 154.179372 \nL 85.479048 154.179372 \nL 85.479048 154.377751 \nL 86.088385 154.377839 \nL 86.088385 154.499935 \nL 86.393053 154.499935 \nL 86.393053 154.728633 \nL 87.002389 154.810324 \nL 87.002389 154.920689 \nL 87.916394 154.994897 \nL 87.916394 155.122051 \nL 88.830399 155.164611 \nL 88.830399 155.417066 \nL 89.135068 155.417066 \nL 89.135068 155.583917 \nL 89.744404 155.601248 \nL 89.744404 155.737228 \nL 90.353741 155.74735 \nL 90.353741 155.864296 \nL 90.658409 155.864296 \nL 90.658409 155.98076 \nL 91.267746 156.002548 \nL 91.267746 156.097256 \nL 91.877082 156.161582 \nL 91.877082 156.219468 \nL 92.791087 156.247686 \nL 92.791087 156.561791 \nL 94.00976 156.670141 \nL 94.00976 156.725705 \nL 94.619097 156.754525 \nL 94.619097 156.89816 \nL 95.228434 156.95421 \nL 95.228434 157.057377 \nL 96.142439 157.155747 \nL 96.142439 157.414136 \nL 97.361112 157.443617 \nL 97.361112 157.673378 \nL 97.66578 157.673378 \nL 97.66578 157.790294 \nL 98.579785 157.879968 \nL 98.579785 157.963545 \nL 98.884453 157.963545 \nL 98.884453 158.124979 \nL 99.798458 158.151219 \nL 99.798458 158.251997 \nL 100.407795 158.271328 \nL 100.407795 158.371585 \nL 101.017131 158.424856 \nL 101.017131 158.55356 \nL 101.626468 158.572147 \nL 101.626468 158.925041 \nL 102.235805 158.997731 \nL 102.235805 159.117656 \nL 102.845141 159.195918 \nL 102.845141 159.300287 \nL 103.14981 159.300287 \nL 103.14981 159.508201 \nL 103.759146 159.531424 \nL 103.759146 159.640051 \nL 104.673151 159.734419 \nL 104.673151 159.859448 \nL 105.282488 159.959592 \nL 105.282488 160.163424 \nL 105.587156 160.163424 \nL 105.587156 160.359238 \nL 106.501161 160.45583 \nL 106.501161 160.538245 \nL 107.719834 160.639443 \nL 107.719834 160.654026 \nL 108.024502 160.654026 \nL 108.024502 160.840594 \nL 108.633839 160.905748 \nL 108.633839 160.985762 \nL 109.243176 161.076864 \nL 109.243176 161.155564 \nL 110.157181 161.223159 \nL 110.157181 161.537803 \nL 110.766517 161.573548 \nL 110.766517 161.68192 \nL 112.289859 161.78974 \nL 112.289859 161.80698 \nL 113.508532 161.901825 \nL 113.508532 161.943239 \nL 114.422537 162.036437 \nL 114.422537 162.170851 \nL 115.64121 162.252196 \nL 115.64121 162.29552 \nL 115.945878 162.29552 \nL 115.945878 162.49086 \nL 116.859883 162.569654 \nL 116.859883 162.63908 \nL 117.46922 162.747484 \nL 117.46922 162.86603 \nL 118.383225 162.975779 \nL 118.383225 163.083371 \nL 119.29723 163.112314 \nL 119.29723 163.2264 \nL 120.211235 163.330798 \nL 120.211235 163.434062 \nL 121.12524 163.517447 \nL 121.12524 163.593918 \nL 121.429908 163.593918 \nL 121.429908 163.862363 \nL 123.257918 163.940972 \nL 123.257918 164.101413 \nL 123.867254 164.178725 \nL 123.867254 164.28365 \nL 124.476591 164.30944 \nL 124.476591 164.471172 \nL 124.781259 164.471172 \nL 124.781259 164.583488 \nL 125.695264 164.646426 \nL 125.695264 164.858133 \nL 126.304601 164.88819 \nL 126.304601 164.997475 \nL 126.913937 165.047217 \nL 126.913937 165.489216 \nL 127.218606 165.489216 \nL 127.218606 165.633294 \nL 128.132611 165.741921 \nL 128.132611 165.758704 \nL 128.437279 165.758704 \nL 128.437279 165.994044 \nL 129.046615 166.075093 \nL 129.046615 166.118945 \nL 129.655952 166.158963 \nL 129.655952 166.290031 \nL 130.874625 166.400426 \nL 130.874625 166.466237 \nL 132.093299 166.573676 \nL 132.093299 166.653611 \nL 133.007303 166.756859 \nL 133.007303 166.765086 \nL 133.921308 166.782676 \nL 133.921308 166.907493 \nL 135.139982 167.008144 \nL 135.139982 167.038454 \nL 135.44465 167.038454 \nL 135.44465 167.150298 \nL 136.663323 167.220783 \nL 136.663323 167.451218 \nL 137.27266 167.545951 \nL 137.27266 167.632898 \nL 138.186665 167.707588 \nL 138.186665 167.797478 \nL 138.491333 167.797478 \nL 138.491333 168.001158 \nL 139.10067 168.110374 \nL 139.10067 168.192642 \nL 139.710006 168.219758 \nL 139.710006 168.374149 \nL 140.928679 168.42655 \nL 140.928679 168.514813 \nL 141.842684 168.585943 \nL 141.842684 168.823397 \nL 143.366026 168.926156 \nL 143.366026 169.086986 \nL 144.889367 169.176207 \nL 144.889367 169.245545 \nL 145.498704 169.280299 \nL 145.498704 169.361221 \nL 145.803372 169.361221 \nL 145.803372 169.518835 \nL 147.326714 169.605818 \nL 147.326714 169.642702 \nL 148.545387 169.752151 \nL 148.545387 169.775055 \nL 149.459392 169.82683 \nL 149.459392 169.88976 \nL 150.068729 169.933119 \nL 150.068729 170.002469 \nL 150.982733 170.071902 \nL 150.982733 170.205347 \nL 151.59207 170.301272 \nL 151.59207 170.444102 \nL 152.506075 170.493364 \nL 152.506075 170.594749 \nL 153.724748 170.693224 \nL 153.724748 170.723551 \nL 154.334085 170.827115 \nL 154.334085 170.867185 \nL 155.24809 170.885244 \nL 155.24809 171.017865 \nL 156.466763 171.117862 \nL 156.466763 171.158056 \nL 157.990104 171.215566 \nL 157.990104 171.363008 \nL 158.599441 171.448729 \nL 158.599441 171.5184 \nL 160.122783 171.616291 \nL 160.122783 171.86078 \nL 161.036787 171.960605 \nL 161.036787 172.022702 \nL 161.950792 172.094582 \nL 161.950792 172.17325 \nL 162.255461 172.17325 \nL 162.255461 172.32779 \nL 162.864797 172.385482 \nL 162.864797 172.469188 \nL 164.083471 172.515057 \nL 164.083471 172.589125 \nL 165.302144 172.633234 \nL 165.302144 172.73085 \nL 166.216149 172.82029 \nL 166.216149 172.86674 \nL 166.825485 172.924129 \nL 166.825485 173.02584 \nL 168.348827 173.107095 \nL 168.348827 173.182601 \nL 169.5675 173.198833 \nL 169.5675 173.299991 \nL 170.176837 173.410791 \nL 170.176837 173.419568 \nL 171.090842 173.438287 \nL 171.090842 173.558722 \nL 171.39551 173.558722 \nL 171.39551 173.672831 \nL 172.918851 173.783592 \nL 172.918851 173.800812 \nL 173.832856 173.884123 \nL 173.832856 173.963111 \nL 174.442193 174.050842 \nL 174.442193 174.076827 \nL 175.051529 174.143023 \nL 175.051529 174.191326 \nL 175.965534 174.238531 \nL 175.965534 174.347076 \nL 176.879539 174.41717 \nL 176.879539 174.46711 \nL 178.402881 174.55528 \nL 178.402881 174.593051 \nL 179.926222 174.700966 \nL 179.926222 174.723363 \nL 181.449564 174.779849 \nL 181.449564 174.917817 \nL 182.363569 175.010396 \nL 182.363569 175.033745 \nL 182.972905 175.03481 \nL 182.972905 175.169893 \nL 183.582242 175.186235 \nL 183.582242 175.357101 \nL 184.800915 175.397047 \nL 184.800915 175.488778 \nL 186.324257 175.597997 \nL 186.324257 175.718882 \nL 187.238262 175.821977 \nL 187.238262 175.852693 \nL 187.847598 175.94652 \nL 187.847598 175.96386 \nL 188.761603 176.073238 \nL 188.761603 176.144565 \nL 189.675608 176.22581 \nL 189.675608 176.284925 \nL 191.19895 176.386459 \nL 191.19895 176.425454 \nL 192.112955 176.461787 \nL 192.112955 176.577673 \nL 193.636296 176.674647 \nL 193.636296 176.73665 \nL 194.854969 176.841814 \nL 194.854969 176.982294 \nL 196.073643 177.076103 \nL 196.073643 177.130017 \nL 196.682979 177.197503 \nL 196.682979 177.271695 \nL 198.206321 177.36416 \nL 198.206321 177.431468 \nL 198.510989 177.431468 \nL 198.510989 177.651892 \nL 199.424994 177.748414 \nL 199.424994 177.769193 \nL 200.948335 177.87287 \nL 200.948335 177.935453 \nL 202.167009 177.98291 \nL 202.167009 178.114655 \nL 204.299687 178.218421 \nL 204.299687 178.273398 \nL 205.213692 178.307229 \nL 205.213692 178.526332 \nL 205.823028 178.581947 \nL 205.823028 178.798992 \nL 206.432365 178.849521 \nL 206.432365 179.075839 \nL 207.041701 179.134662 \nL 207.041701 179.266603 \nL 208.260375 179.310383 \nL 208.260375 179.383764 \nL 209.17438 179.471353 \nL 209.17438 179.527399 \nL 210.393053 179.594749 \nL 210.393053 179.709267 \nL 211.002389 179.814911 \nL 211.002389 179.822311 \nL 211.916394 179.840081 \nL 211.916394 179.953806 \nL 213.135068 180.025082 \nL 213.135068 180.074593 \nL 213.744404 180.139224 \nL 213.744404 180.210556 \nL 215.267746 180.304348 \nL 215.267746 180.357262 \nL 215.877082 180.368619 \nL 215.877082 180.564957 \nL 218.00976 180.675364 \nL 218.00976 180.685707 \nL 219.228434 180.779776 \nL 219.228434 180.965864 \nL 219.83777 180.995274 \nL 219.83777 181.093588 \nL 221.056443 181.180743 \nL 221.056443 181.235689 \nL 222.275117 181.292497 \nL 222.275117 181.347561 \nL 223.798458 181.42677 \nL 223.798458 181.490987 \nL 225.3218 181.548162 \nL 225.3218 181.740427 \nL 227.14981 181.815496 \nL 227.14981 181.945559 \nL 228.673151 182.029297 \nL 228.673151 182.10619 \nL 229.587156 182.214003 \nL 229.587156 182.237469 \nL 230.805829 182.333015 \nL 230.805829 182.353099 \nL 232.024502 182.436985 \nL 232.024502 182.470118 \nL 233.547844 182.556661 \nL 233.547844 182.599268 \nL 234.157181 182.636016 \nL 234.157181 182.783456 \nL 235.375854 182.864461 \nL 235.375854 182.900641 \nL 235.680522 182.900641 \nL 235.680522 183.030031 \nL 237.508532 183.130592 \nL 237.508532 183.192857 \nL 238.727205 183.279954 \nL 238.727205 183.306453 \nL 240.555215 183.408666 \nL 240.555215 183.480939 \nL 241.773888 183.58816 \nL 241.773888 183.594675 \nL 243.601898 183.65533 \nL 243.601898 183.743858 \nL 245.429908 183.809044 \nL 245.429908 183.939251 \nL 246.953249 184.011499 \nL 246.953249 184.051309 \nL 248.171923 184.159633 \nL 248.171923 184.185852 \nL 249.390596 184.263728 \nL 249.390596 184.31225 \nL 251.218606 184.396908 \nL 251.218606 184.457224 \nL 252.437279 184.536442 \nL 252.437279 184.581734 \nL 253.96062 184.673806 \nL 253.96062 184.717285 \nL 254.874625 184.792911 \nL 254.874625 184.883874 \nL 256.397967 184.985575 \nL 256.397967 184.996806 \nL 257.921308 185.088135 \nL 257.921308 185.191408 \nL 260.358655 185.299677 \nL 260.358655 185.313135 \nL 261.577328 185.402141 \nL 261.577328 185.446536 \nL 262.796001 185.550757 \nL 262.796001 185.586281 \nL 264.014674 185.671999 \nL 264.014674 185.701939 \nL 266.147353 185.803161 \nL 266.147353 185.853286 \nL 268.280031 185.931737 \nL 268.280031 185.976634 \nL 270.108041 186.070786 \nL 270.108041 186.091081 \nL 271.631382 186.190163 \nL 271.631382 186.219885 \nL 273.459392 186.260713 \nL 273.459392 186.352135 \nL 276.810743 186.454502 \nL 276.810743 186.513092 \nL 278.029416 186.601455 \nL 278.029416 186.796226 \nL 279.24809 186.816945 \nL 279.24809 186.97042 \nL 280.162095 187.064957 \nL 280.162095 187.117518 \nL 281.380768 187.188808 \nL 281.380768 187.260591 \nL 284.122783 187.368678 \nL 284.122783 187.405149 \nL 284.732119 187.469536 \nL 284.732119 187.521135 \nL 287.169466 187.628827 \nL 287.169466 187.651134 \nL 288.997475 187.759895 \nL 288.997475 187.773488 \nL 290.216149 187.859907 \nL 290.216149 187.923919 \nL 291.73949 187.993656 \nL 291.73949 188.054661 \nL 292.653495 188.117175 \nL 292.653495 188.212184 \nL 293.872168 188.321595 \nL 293.872168 188.379465 \nL 294.786173 188.442077 \nL 294.786173 188.56772 \nL 296.004846 188.678184 \nL 296.004846 188.697918 \nL 299.051529 188.804882 \nL 299.051529 188.81466 \nL 301.184208 188.89033 \nL 301.184208 188.951102 \nL 301.488876 188.951102 \nL 301.488876 189.0707 \nL 303.012217 189.177067 \nL 303.012217 189.189308 \nL 304.840227 189.25625 \nL 304.840227 189.311005 \nL 306.668237 189.396114 \nL 306.668237 189.423224 \nL 307.582242 189.510768 \nL 307.582242 189.547134 \nL 309.410252 189.643069 \nL 309.410252 189.692886 \nL 310.933593 189.773693 \nL 310.933593 189.812879 \nL 312.456935 189.912006 \nL 312.456935 189.942826 \nL 314.284945 190.040605 \nL 314.284945 190.12105 \nL 316.722291 190.217506 \nL 316.722291 190.307524 \nL 317.636296 190.346726 \nL 317.636296 190.436407 \nL 318.854969 190.52532 \nL 318.854969 190.54946 \nL 320.073643 190.646832 \nL 320.073643 190.663886 \nL 321.901652 190.764708 \nL 321.901652 190.776191 \nL 324.643667 190.881388 \nL 324.643667 190.903637 \nL 326.471677 190.994482 \nL 326.471677 191.021904 \nL 328.909023 191.130592 \nL 328.909023 191.221699 \nL 331.34637 191.323474 \nL 331.34637 191.393194 \nL 334.697721 191.489716 \nL 334.697721 191.533302 \nL 335.611726 191.638526 \nL 335.611726 191.66623 \nL 338.049072 191.77294 \nL 338.049072 191.814682 \nL 339.877082 191.884813 \nL 339.877082 191.935871 \nL 342.00976 192.043662 \nL 342.00976 192.09119 \nL 344.751775 192.180439 \nL 344.751775 192.213773 \nL 346.884453 192.307667 \nL 346.884453 192.373086 \nL 349.017131 192.476832 \nL 349.017131 192.485085 \nL 352.063814 192.573236 \nL 352.063814 192.627475 \nL 354.501161 192.721925 \nL 354.501161 192.748129 \nL 356.329171 192.846323 \nL 356.329171 192.861113 \nL 358.157181 192.94904 \nL 358.157181 192.982377 \nL 359.680522 193.047969 \nL 359.680522 193.100886 \nL 362.422537 193.211117 \nL 362.422537 193.212328 \nL 364.250547 193.323178 \nL 364.250547 193.331257 \nL 366.078557 193.419555 \nL 366.078557 193.451209 \nL 369.12524 193.547767 \nL 369.12524 193.599526 \nL 371.257918 193.700292 \nL 371.257918 193.724033 \nL 373.695264 193.831198 \nL 373.695264 193.861098 \nL 375.523274 193.923022 \nL 375.523274 193.986287 \nL 377.96062 194.091304 \nL 377.96062 194.100806 \nL 380.093299 194.21068 \nL 380.093299 194.214531 \nL 382.530645 194.312826 \nL 382.530645 194.336804 \nL 383.749318 194.38665 \nL 383.749318 194.38665 \n\" clip-path=\"url(#p7ca92a5b26)\" style=\"fill: none; stroke: #c1272d; stroke-width: 1.5; stroke-linecap: square\"/>\n   </g>\n   <g id=\"patch_3\">\n    <path d=\"M 64.1675 228.96 \nL 64.1675 7.2 \n\" style=\"fill: none; stroke: #000000; stroke-width: 0.8; stroke-linejoin: miter; stroke-linecap: square\"/>\n   </g>\n   <g id=\"patch_4\">\n    <path d=\"M 398.9675 228.96 \nL 398.9675 7.2 \n\" style=\"fill: none; stroke: #000000; stroke-width: 0.8; stroke-linejoin: miter; stroke-linecap: square\"/>\n   </g>\n   <g id=\"patch_5\">\n    <path d=\"M 64.1675 228.96 \nL 398.9675 228.96 \n\" style=\"fill: none; stroke: #000000; stroke-width: 0.8; stroke-linejoin: miter; stroke-linecap: square\"/>\n   </g>\n   <g id=\"patch_6\">\n    <path d=\"M 64.1675 7.2 \nL 398.9675 7.2 \n\" style=\"fill: none; stroke: #000000; stroke-width: 0.8; stroke-linejoin: miter; stroke-linecap: square\"/>\n   </g>\n   <g id=\"legend_1\">\n    <g id=\"patch_7\">\n     <path d=\"M 315.69875 69.64125 \nL 390.5675 69.64125 \nQ 392.9675 69.64125 392.9675 67.24125 \nL 392.9675 15.6 \nQ 392.9675 13.2 390.5675 13.2 \nL 315.69875 13.2 \nQ 313.29875 13.2 313.29875 15.6 \nL 313.29875 67.24125 \nQ 313.29875 69.64125 315.69875 69.64125 \nz\n\" style=\"fill: #ffffff; opacity: 0.8; stroke: #cccccc; stroke-linejoin: miter\"/>\n    </g>\n    <g id=\"line2d_15\">\n     <path d=\"M 318.09875 22.918125 \nL 318.09875 22.918125 \nL 330.09875 22.918125 \nL 330.09875 22.918125 \nL 342.09875 22.918125 \n\" style=\"fill: none; stroke: #0071bc; stroke-width: 1.5; stroke-linecap: square\"/>\n    </g>\n    <g id=\"text_14\">\n     <!-- T=0.5 -->\n     <g transform=\"translate(351.69875 27.118125) scale(0.12 -0.12)\">\n      <defs>\n       <path id=\"DejaVuSans-54\" d=\"M -19 4666 \nL 3928 4666 \nL 3928 4134 \nL 2272 4134 \nL 2272 0 \nL 1638 0 \nL 1638 4134 \nL -19 4134 \nL -19 4666 \nz\n\" transform=\"scale(0.015625)\"/>\n       <path id=\"DejaVuSans-3d\" d=\"M 678 2906 \nL 4684 2906 \nL 4684 2381 \nL 678 2381 \nL 678 2906 \nz\nM 678 1631 \nL 4684 1631 \nL 4684 1100 \nL 678 1100 \nL 678 1631 \nz\n\" transform=\"scale(0.015625)\"/>\n       <path id=\"DejaVuSans-35\" d=\"M 691 4666 \nL 3169 4666 \nL 3169 4134 \nL 1269 4134 \nL 1269 2991 \nQ 1406 3038 1543 3061 \nQ 1681 3084 1819 3084 \nQ 2600 3084 3056 2656 \nQ 3513 2228 3513 1497 \nQ 3513 744 3044 326 \nQ 2575 -91 1722 -91 \nQ 1428 -91 1123 -41 \nQ 819 9 494 109 \nL 494 744 \nQ 775 591 1075 516 \nQ 1375 441 1709 441 \nQ 2250 441 2565 725 \nQ 2881 1009 2881 1497 \nQ 2881 1984 2565 2268 \nQ 2250 2553 1709 2553 \nQ 1456 2553 1204 2497 \nQ 953 2441 691 2322 \nL 691 4666 \nz\n\" transform=\"scale(0.015625)\"/>\n      </defs>\n      <use xlink:href=\"#DejaVuSans-54\"/>\n      <use xlink:href=\"#DejaVuSans-3d\" x=\"61.083984\"/>\n      <use xlink:href=\"#DejaVuSans-30\" x=\"144.873047\"/>\n      <use xlink:href=\"#DejaVuSans-2e\" x=\"208.496094\"/>\n      <use xlink:href=\"#DejaVuSans-35\" x=\"240.283203\"/>\n     </g>\n    </g>\n    <g id=\"line2d_16\">\n     <path d=\"M 318.09875 40.531875 \nL 318.09875 40.531875 \nL 330.09875 40.531875 \nL 330.09875 40.531875 \nL 342.09875 40.531875 \n\" style=\"fill: none; stroke: #f7931e; stroke-width: 1.5; stroke-linecap: square\"/>\n    </g>\n    <g id=\"text_15\">\n     <!-- T=1.0 -->\n     <g transform=\"translate(351.69875 44.731875) scale(0.12 -0.12)\">\n      <use xlink:href=\"#DejaVuSans-54\"/>\n      <use xlink:href=\"#DejaVuSans-3d\" x=\"61.083984\"/>\n      <use xlink:href=\"#DejaVuSans-31\" x=\"144.873047\"/>\n      <use xlink:href=\"#DejaVuSans-2e\" x=\"208.496094\"/>\n      <use xlink:href=\"#DejaVuSans-30\" x=\"240.283203\"/>\n     </g>\n    </g>\n    <g id=\"line2d_17\">\n     <path d=\"M 318.09875 58.145625 \nL 318.09875 58.145625 \nL 330.09875 58.145625 \nL 330.09875 58.145625 \nL 342.09875 58.145625 \n\" style=\"fill: none; stroke: #c1272d; stroke-width: 1.5; stroke-linecap: square\"/>\n    </g>\n    <g id=\"text_16\">\n     <!-- T=2.0 -->\n     <g transform=\"translate(351.69875 62.345625) scale(0.12 -0.12)\">\n      <use xlink:href=\"#DejaVuSans-54\"/>\n      <use xlink:href=\"#DejaVuSans-3d\" x=\"61.083984\"/>\n      <use xlink:href=\"#DejaVuSans-32\" x=\"144.873047\"/>\n      <use xlink:href=\"#DejaVuSans-2e\" x=\"208.496094\"/>\n      <use xlink:href=\"#DejaVuSans-30\" x=\"240.283203\"/>\n     </g>\n    </g>\n   </g>\n  </g>\n </g>\n <defs>\n  <clipPath id=\"p7ca92a5b26\">\n   <rect x=\"64.1675\" y=\"7.2\" width=\"334.8\" height=\"221.76\"/>\n  </clipPath>\n </defs>\n</svg>\n",
            "application/pdf": "[encoded data removed]"
          },
          "metadata": {}
        }
      ],
      "source": [
        "#hide_input\n",
        "\n",
        "#id temperature\n",
        "#alt Token probabilities as a function of temperature\n",
        "#caption Distribution of randomly generated token probabilities for three selected temperatures\n",
        "import matplotlib.pyplot as plt\n",
        "import numpy as np\n",
        "\n",
        "def softmax(logits, T=1):\n",
        "    e_x = np.exp(logits / T)\n",
        "    return e_x / e_x.sum()\n",
        "\n",
        "logits = np.exp(np.random.random(1000))\n",
        "sorted_logits = np.sort(logits)[::-1]\n",
        "x = np.arange(1000)\n",
        "\n",
        "for T in [0.5, 1.0, 2.0]:\n",
        "    plt.step(x, softmax(sorted_logits, T), label=f\"T={T}\")\n",
        "plt.legend(loc=\"best\")\n",
        "plt.xlabel(\"Sorted token probabilities\")\n",
        "plt.ylabel(\"Probability\")\n",
        "plt.show()"
      ]
    },
    {
      "cell_type": "code",
      "execution_count": null,
      "metadata": {
        "id": "rkh7dwjzfE2P"
      },
      "outputs": [],
      "source": [
        "# hide\n",
        "torch.manual_seed(42);"
      ]
    },
    {
      "cell_type": "code",
      "execution_count": 15,
      "metadata": {
        "id": "CVvb7HHAfE2P",
        "outputId": "66607100-9cff-47d5-fb31-01866f5bafbd",
        "colab": {
          "base_uri": "https://localhost:8080/"
        }
      },
      "outputs": [
        {
          "output_type": "stream",
          "name": "stdout",
          "text": [
            "In a shocking finding, scientist discovered a herd of unicorns living in a\n",
            "remote, previously unexplored valley, in the Andes Mountains. Even more\n",
            "surprising to the researchers was the fact that the unicorns spoke perfect\n",
            "English.\n",
            "\n",
            "\n",
            "Tyler174319 adult LORD Odd Kendall hors DLC recognized objective reaction\n",
            "breweries Valley breeze plush bc commercials hurt extraditious pickup harassment\n",
            "moaning sojsultition subway em� ming mode additions FOIA delete honon toggle\n",
            "bargaining boulder imaginationresent horses supports mort Mediterranean shirt\n",
            "trivia cliché 102 Commissionerdengame admirable voluntarilyいSix bulletsBear\n",
            "gro9e fiercely nightclub Cop writes detained impAmerica morphed Channel\n",
            "Mynuclearorder aber ST data grinning design agency\n"
          ]
        }
      ],
      "source": [
        "output_temp = model.generate(input_ids, max_length=max_length, do_sample=True,\n",
        "                             temperature=2.0, top_k=0)\n",
        "print(tokenizer.decode(output_temp[0]))"
      ]
    },
    {
      "cell_type": "code",
      "execution_count": 16,
      "metadata": {
        "id": "fDDOVspofE2P"
      },
      "outputs": [],
      "source": [
        "# hide\n",
        "torch.manual_seed(42);"
      ]
    },
    {
      "cell_type": "code",
      "execution_count": 17,
      "metadata": {
        "id": "EtXvf46_fE2P",
        "outputId": "b3066f95-85b4-42cf-eb28-ef1d27192648",
        "colab": {
          "base_uri": "https://localhost:8080/"
        }
      },
      "outputs": [
        {
          "output_type": "stream",
          "name": "stdout",
          "text": [
            "In a shocking finding, scientist discovered a herd of unicorns living in a\n",
            "remote, previously unexplored valley, in the Andes Mountains. Even more\n",
            "surprising to the researchers was the fact that the unicorns spoke perfect\n",
            "English.\n",
            "\n",
            "\n",
            "The researchers from the University of California, Davis, discovered the\n",
            "unicorns in the Tumbes-de-Luz region of the Cordillera Blanca, located in the\n",
            "Andes Mountains of northern Argentina.\n",
            "\n",
            "\n",
            "\"It's an amazing story, and one that we hope will inspire other people to look\n",
            "for these fascinating animals in other places,\" said Daniel M. Berger, a\n",
            "geologist at\n"
          ]
        }
      ],
      "source": [
        "output_temp = model.generate(input_ids, max_length=max_length, do_sample=True,\n",
        "                             temperature=0.5, top_k=0)\n",
        "print(tokenizer.decode(output_temp[0]))"
      ]
    },
    {
      "cell_type": "markdown",
      "metadata": {
        "id": "BE9QTxqifE2P"
      },
      "source": [
        "## Top-k and Nucleus Sampling"
      ]
    },
    {
      "cell_type": "code",
      "execution_count": 18,
      "metadata": {
        "id": "HngTYNAkfE2P"
      },
      "outputs": [],
      "source": [
        "# hide\n",
        "torch.manual_seed(42);"
      ]
    },
    {
      "cell_type": "code",
      "execution_count": 19,
      "metadata": {
        "id": "FnW5F8v1fE2Q"
      },
      "outputs": [],
      "source": [
        "# hide\n",
        "input_txt = \"\"\"In a shocking finding, scientist discovered \\\n",
        "a herd of unicorns living in a remote, previously unexplored \\\n",
        "valley, in the Andes Mountains. Even more surprising to the \\\n",
        "researchers was the fact that the unicorns spoke perfect English.\\n\\n\n",
        "\"\"\"\n",
        "input_ids = tokenizer(input_txt, return_tensors=\"pt\")[\"input_ids\"].to(device)"
      ]
    },
    {
      "cell_type": "code",
      "execution_count": 20,
      "metadata": {
        "id": "kiVANViwfE2Q"
      },
      "outputs": [],
      "source": [
        "# hide\n",
        "import torch.nn.functional as F\n",
        "\n",
        "with torch.no_grad():\n",
        "    output = model(input_ids=input_ids)\n",
        "    next_token_logits = output.logits[:, -1, :]\n",
        "    probs = F.softmax(next_token_logits, dim=-1).detach().cpu().numpy()"
      ]
    },
    {
      "cell_type": "code",
      "execution_count": 21,
      "metadata": {
        "id": "V9eNL2IQfE2Q",
        "outputId": "b5c77930-fbad-4c75-cdd6-fd913c556d1c",
        "colab": {
          "base_uri": "https://localhost:8080/",
          "height": 337
        }
      },
      "outputs": [
        {
          "output_type": "display_data",
          "data": {
            "text/plain": [
              "<Figure size 1000x350 with 2 Axes>"
            ],
            "image/svg+xml": "<?xml version=\"1.0\" encoding=\"utf-8\" standalone=\"no\"?>\n<!DOCTYPE svg PUBLIC \"-//W3C//DTD SVG 1.1//EN\"\n  \"http://www.w3.org/Graphics/SVG/1.1/DTD/svg11.dtd\">\n<svg xmlns:xlink=\"http://www.w3.org/1999/xlink\" width=\"706.840143pt\" height=\"236.41725pt\" viewBox=\"0 0 706.840143 236.41725\" xmlns=\"http://www.w3.org/2000/svg\" version=\"1.1\">\n <metadata>\n  <rdf:RDF xmlns:dc=\"http://purl.org/dc/elements/1.1/\" xmlns:cc=\"http://creativecommons.org/ns#\" xmlns:rdf=\"http://www.w3.org/1999/02/22-rdf-syntax-ns#\">\n   <cc:Work>\n    <dc:type rdf:resource=\"http://purl.org/dc/dcmitype/StillImage\"/>\n    <dc:date>2024-05-19T21:06:25.487588</dc:date>\n    <dc:format>image/svg+xml</dc:format>\n    <dc:creator>\n     <cc:Agent>\n      <dc:title>Matplotlib v3.7.1, https://matplotlib.org/</dc:title>\n     </cc:Agent>\n    </dc:creator>\n   </cc:Work>\n  </rdf:RDF>\n </metadata>\n <defs>\n  <style type=\"text/css\">*{stroke-linejoin: round; stroke-linecap: butt}</style>\n </defs>\n <g id=\"figure_1\">\n  <g id=\"patch_1\">\n   <path d=\"M -0 236.41725 \nL 706.840143 236.41725 \nL 706.840143 0 \nL -0 0 \nz\n\" style=\"fill: #ffffff\"/>\n  </g>\n  <g id=\"axes_1\">\n   <g id=\"patch_2\">\n    <path d=\"M 50.93375 194.98975 \nL 332.670648 194.98975 \nL 332.670648 24.14175 \nL 50.93375 24.14175 \nz\n\" style=\"fill: #ffffff\"/>\n   </g>\n   <g id=\"patch_3\">\n    <path d=\"M 63.739973 45924.328468 \nL 66.327088 45924.328468 \nL 66.327088 105.245126 \nL 63.739973 105.245126 \nz\n\" clip-path=\"url(#p832d0bfdcb)\" style=\"fill: #0071bc; stroke: #0071bc; stroke-linejoin: miter\"/>\n   </g>\n   <g id=\"patch_4\">\n    <path d=\"M 66.327088 45924.328468 \nL 68.914204 45924.328468 \nL 68.914204 92.631099 \nL 66.327088 92.631099 \nz\n\" clip-path=\"url(#p832d0bfdcb)\" style=\"fill: #0071bc; stroke: #0071bc; stroke-linejoin: miter\"/>\n   </g>\n   <g id=\"patch_5\">\n    <path d=\"M 68.914204 45924.328468 \nL 71.50132 45924.328468 \nL 71.50132 88.369218 \nL 68.914204 88.369218 \nz\n\" clip-path=\"url(#p832d0bfdcb)\" style=\"fill: #0071bc; stroke: #0071bc; stroke-linejoin: miter\"/>\n   </g>\n   <g id=\"patch_6\">\n    <path d=\"M 71.50132 45924.328468 \nL 74.088435 45924.328468 \nL 74.088435 81.202427 \nL 71.50132 81.202427 \nz\n\" clip-path=\"url(#p832d0bfdcb)\" style=\"fill: #0071bc; stroke: #0071bc; stroke-linejoin: miter\"/>\n   </g>\n   <g id=\"patch_7\">\n    <path d=\"M 74.088435 45924.328468 \nL 76.675551 45924.328468 \nL 76.675551 75.800906 \nL 74.088435 75.800906 \nz\n\" clip-path=\"url(#p832d0bfdcb)\" style=\"fill: #0071bc; stroke: #0071bc; stroke-linejoin: miter\"/>\n   </g>\n   <g id=\"patch_8\">\n    <path d=\"M 76.675551 45924.328468 \nL 79.262667 45924.328468 \nL 79.262667 68.767136 \nL 76.675551 68.767136 \nz\n\" clip-path=\"url(#p832d0bfdcb)\" style=\"fill: #0071bc; stroke: #0071bc; stroke-linejoin: miter\"/>\n   </g>\n   <g id=\"patch_9\">\n    <path d=\"M 79.262667 45924.328468 \nL 81.849782 45924.328468 \nL 81.849782 61.073926 \nL 79.262667 61.073926 \nz\n\" clip-path=\"url(#p832d0bfdcb)\" style=\"fill: #0071bc; stroke: #0071bc; stroke-linejoin: miter\"/>\n   </g>\n   <g id=\"patch_10\">\n    <path d=\"M 81.849782 45924.328468 \nL 84.436898 45924.328468 \nL 84.436898 58.236083 \nL 81.849782 58.236083 \nz\n\" clip-path=\"url(#p832d0bfdcb)\" style=\"fill: #0071bc; stroke: #0071bc; stroke-linejoin: miter\"/>\n   </g>\n   <g id=\"patch_11\">\n    <path d=\"M 84.436898 45924.328468 \nL 87.024014 45924.328468 \nL 87.024014 53.19411 \nL 84.436898 53.19411 \nz\n\" clip-path=\"url(#p832d0bfdcb)\" style=\"fill: #0071bc; stroke: #0071bc; stroke-linejoin: miter\"/>\n   </g>\n   <g id=\"patch_12\">\n    <path d=\"M 87.024014 45924.328468 \nL 89.61113 45924.328468 \nL 89.61113 47.60255 \nL 87.024014 47.60255 \nz\n\" clip-path=\"url(#p832d0bfdcb)\" style=\"fill: #0071bc; stroke: #0071bc; stroke-linejoin: miter\"/>\n   </g>\n   <g id=\"patch_13\">\n    <path d=\"M 89.61113 45924.328468 \nL 92.198245 45924.328468 \nL 92.198245 44.140007 \nL 89.61113 44.140007 \nz\n\" clip-path=\"url(#p832d0bfdcb)\" style=\"fill: #0071bc; stroke: #0071bc; stroke-linejoin: miter\"/>\n   </g>\n   <g id=\"patch_14\">\n    <path d=\"M 92.198245 45924.328468 \nL 94.785361 45924.328468 \nL 94.785361 40.738931 \nL 92.198245 40.738931 \nz\n\" clip-path=\"url(#p832d0bfdcb)\" style=\"fill: #0071bc; stroke: #0071bc; stroke-linejoin: miter\"/>\n   </g>\n   <g id=\"patch_15\">\n    <path d=\"M 94.785361 45924.328468 \nL 97.372477 45924.328468 \nL 97.372477 38.348231 \nL 94.785361 38.348231 \nz\n\" clip-path=\"url(#p832d0bfdcb)\" style=\"fill: #0071bc; stroke: #0071bc; stroke-linejoin: miter\"/>\n   </g>\n   <g id=\"patch_16\">\n    <path d=\"M 97.372477 45924.328468 \nL 99.959592 45924.328468 \nL 99.959592 35.370054 \nL 97.372477 35.370054 \nz\n\" clip-path=\"url(#p832d0bfdcb)\" style=\"fill: #0071bc; stroke: #0071bc; stroke-linejoin: miter\"/>\n   </g>\n   <g id=\"patch_17\">\n    <path d=\"M 99.959592 45924.328468 \nL 102.546708 45924.328468 \nL 102.546708 33.746535 \nL 99.959592 33.746535 \nz\n\" clip-path=\"url(#p832d0bfdcb)\" style=\"fill: #0071bc; stroke: #0071bc; stroke-linejoin: miter\"/>\n   </g>\n   <g id=\"patch_18\">\n    <path d=\"M 102.546708 45924.328468 \nL 105.133824 45924.328468 \nL 105.133824 32.540265 \nL 102.546708 32.540265 \nz\n\" clip-path=\"url(#p832d0bfdcb)\" style=\"fill: #0071bc; stroke: #0071bc; stroke-linejoin: miter\"/>\n   </g>\n   <g id=\"patch_19\">\n    <path d=\"M 105.133824 45924.328468 \nL 107.720939 45924.328468 \nL 107.720939 31.907568 \nL 105.133824 31.907568 \nz\n\" clip-path=\"url(#p832d0bfdcb)\" style=\"fill: #0071bc; stroke: #0071bc; stroke-linejoin: miter\"/>\n   </g>\n   <g id=\"patch_20\">\n    <path d=\"M 107.720939 45924.328468 \nL 110.308055 45924.328468 \nL 110.308055 33.134244 \nL 107.720939 33.134244 \nz\n\" clip-path=\"url(#p832d0bfdcb)\" style=\"fill: #0071bc; stroke: #0071bc; stroke-linejoin: miter\"/>\n   </g>\n   <g id=\"patch_21\">\n    <path d=\"M 110.308055 45924.328468 \nL 112.895171 45924.328468 \nL 112.895171 32.392459 \nL 110.308055 32.392459 \nz\n\" clip-path=\"url(#p832d0bfdcb)\" style=\"fill: #0071bc; stroke: #0071bc; stroke-linejoin: miter\"/>\n   </g>\n   <g id=\"patch_22\">\n    <path d=\"M 112.895171 45924.328468 \nL 115.482286 45924.328468 \nL 115.482286 33.024151 \nL 112.895171 33.024151 \nz\n\" clip-path=\"url(#p832d0bfdcb)\" style=\"fill: #0071bc; stroke: #0071bc; stroke-linejoin: miter\"/>\n   </g>\n   <g id=\"patch_23\">\n    <path d=\"M 115.482286 45924.328468 \nL 118.069402 45924.328468 \nL 118.069402 34.414499 \nL 115.482286 34.414499 \nz\n\" clip-path=\"url(#p832d0bfdcb)\" style=\"fill: #0071bc; stroke: #0071bc; stroke-linejoin: miter\"/>\n   </g>\n   <g id=\"patch_24\">\n    <path d=\"M 118.069402 45924.328468 \nL 120.656518 45924.328468 \nL 120.656518 35.256332 \nL 118.069402 35.256332 \nz\n\" clip-path=\"url(#p832d0bfdcb)\" style=\"fill: #0071bc; stroke: #0071bc; stroke-linejoin: miter\"/>\n   </g>\n   <g id=\"patch_25\">\n    <path d=\"M 120.656518 45924.328468 \nL 123.243633 45924.328468 \nL 123.243633 36.962348 \nL 120.656518 36.962348 \nz\n\" clip-path=\"url(#p832d0bfdcb)\" style=\"fill: #0071bc; stroke: #0071bc; stroke-linejoin: miter\"/>\n   </g>\n   <g id=\"patch_26\">\n    <path d=\"M 123.243633 45924.328468 \nL 125.830749 45924.328468 \nL 125.830749 39.495934 \nL 123.243633 39.495934 \nz\n\" clip-path=\"url(#p832d0bfdcb)\" style=\"fill: #0071bc; stroke: #0071bc; stroke-linejoin: miter\"/>\n   </g>\n   <g id=\"patch_27\">\n    <path d=\"M 125.830749 45924.328468 \nL 128.417865 45924.328468 \nL 128.417865 43.00547 \nL 125.830749 43.00547 \nz\n\" clip-path=\"url(#p832d0bfdcb)\" style=\"fill: #0071bc; stroke: #0071bc; stroke-linejoin: miter\"/>\n   </g>\n   <g id=\"patch_28\">\n    <path d=\"M 128.417865 45924.328468 \nL 131.004981 45924.328468 \nL 131.004981 44.437815 \nL 128.417865 44.437815 \nz\n\" clip-path=\"url(#p832d0bfdcb)\" style=\"fill: #0071bc; stroke: #0071bc; stroke-linejoin: miter\"/>\n   </g>\n   <g id=\"patch_29\">\n    <path d=\"M 131.004981 45924.328468 \nL 133.592096 45924.328468 \nL 133.592096 46.540634 \nL 131.004981 46.540634 \nz\n\" clip-path=\"url(#p832d0bfdcb)\" style=\"fill: #0071bc; stroke: #0071bc; stroke-linejoin: miter\"/>\n   </g>\n   <g id=\"patch_30\">\n    <path d=\"M 133.592096 45924.328468 \nL 136.179212 45924.328468 \nL 136.179212 48.483912 \nL 133.592096 48.483912 \nz\n\" clip-path=\"url(#p832d0bfdcb)\" style=\"fill: #0071bc; stroke: #0071bc; stroke-linejoin: miter\"/>\n   </g>\n   <g id=\"patch_31\">\n    <path d=\"M 136.179212 45924.328468 \nL 138.766328 45924.328468 \nL 138.766328 51.86413 \nL 136.179212 51.86413 \nz\n\" clip-path=\"url(#p832d0bfdcb)\" style=\"fill: #0071bc; stroke: #0071bc; stroke-linejoin: miter\"/>\n   </g>\n   <g id=\"patch_32\">\n    <path d=\"M 138.766328 45924.328468 \nL 141.353443 45924.328468 \nL 141.353443 53.101073 \nL 138.766328 53.101073 \nz\n\" clip-path=\"url(#p832d0bfdcb)\" style=\"fill: #0071bc; stroke: #0071bc; stroke-linejoin: miter\"/>\n   </g>\n   <g id=\"patch_33\">\n    <path d=\"M 141.353443 45924.328468 \nL 143.940559 45924.328468 \nL 143.940559 56.074272 \nL 141.353443 56.074272 \nz\n\" clip-path=\"url(#p832d0bfdcb)\" style=\"fill: #0071bc; stroke: #0071bc; stroke-linejoin: miter\"/>\n   </g>\n   <g id=\"patch_34\">\n    <path d=\"M 143.940559 45924.328468 \nL 146.527675 45924.328468 \nL 146.527675 58.508395 \nL 143.940559 58.508395 \nz\n\" clip-path=\"url(#p832d0bfdcb)\" style=\"fill: #0071bc; stroke: #0071bc; stroke-linejoin: miter\"/>\n   </g>\n   <g id=\"patch_35\">\n    <path d=\"M 146.527675 45924.328468 \nL 149.11479 45924.328468 \nL 149.11479 61.248014 \nL 146.527675 61.248014 \nz\n\" clip-path=\"url(#p832d0bfdcb)\" style=\"fill: #0071bc; stroke: #0071bc; stroke-linejoin: miter\"/>\n   </g>\n   <g id=\"patch_36\">\n    <path d=\"M 149.11479 45924.328468 \nL 151.701906 45924.328468 \nL 151.701906 63.900398 \nL 149.11479 63.900398 \nz\n\" clip-path=\"url(#p832d0bfdcb)\" style=\"fill: #0071bc; stroke: #0071bc; stroke-linejoin: miter\"/>\n   </g>\n   <g id=\"patch_37\">\n    <path d=\"M 151.701906 45924.328468 \nL 154.289022 45924.328468 \nL 154.289022 65.697891 \nL 151.701906 65.697891 \nz\n\" clip-path=\"url(#p832d0bfdcb)\" style=\"fill: #0071bc; stroke: #0071bc; stroke-linejoin: miter\"/>\n   </g>\n   <g id=\"patch_38\">\n    <path d=\"M 154.289022 45924.328468 \nL 156.876137 45924.328468 \nL 156.876137 67.481992 \nL 154.289022 67.481992 \nz\n\" clip-path=\"url(#p832d0bfdcb)\" style=\"fill: #0071bc; stroke: #0071bc; stroke-linejoin: miter\"/>\n   </g>\n   <g id=\"patch_39\">\n    <path d=\"M 156.876137 45924.328468 \nL 159.463253 45924.328468 \nL 159.463253 69.075899 \nL 156.876137 69.075899 \nz\n\" clip-path=\"url(#p832d0bfdcb)\" style=\"fill: #0071bc; stroke: #0071bc; stroke-linejoin: miter\"/>\n   </g>\n   <g id=\"patch_40\">\n    <path d=\"M 159.463253 45924.328468 \nL 162.050369 45924.328468 \nL 162.050369 71.914376 \nL 159.463253 71.914376 \nz\n\" clip-path=\"url(#p832d0bfdcb)\" style=\"fill: #0071bc; stroke: #0071bc; stroke-linejoin: miter\"/>\n   </g>\n   <g id=\"patch_41\">\n    <path d=\"M 162.050369 45924.328468 \nL 164.637484 45924.328468 \nL 164.637484 75.369077 \nL 162.050369 75.369077 \nz\n\" clip-path=\"url(#p832d0bfdcb)\" style=\"fill: #0071bc; stroke: #0071bc; stroke-linejoin: miter\"/>\n   </g>\n   <g id=\"patch_42\">\n    <path d=\"M 164.637484 45924.328468 \nL 167.2246 45924.328468 \nL 167.2246 76.020393 \nL 164.637484 76.020393 \nz\n\" clip-path=\"url(#p832d0bfdcb)\" style=\"fill: #0071bc; stroke: #0071bc; stroke-linejoin: miter\"/>\n   </g>\n   <g id=\"patch_43\">\n    <path d=\"M 167.2246 45924.328468 \nL 169.811716 45924.328468 \nL 169.811716 76.846588 \nL 167.2246 76.846588 \nz\n\" clip-path=\"url(#p832d0bfdcb)\" style=\"fill: #0071bc; stroke: #0071bc; stroke-linejoin: miter\"/>\n   </g>\n   <g id=\"patch_44\">\n    <path d=\"M 169.811716 45924.328468 \nL 172.398832 45924.328468 \nL 172.398832 78.442898 \nL 169.811716 78.442898 \nz\n\" clip-path=\"url(#p832d0bfdcb)\" style=\"fill: #0071bc; stroke: #0071bc; stroke-linejoin: miter\"/>\n   </g>\n   <g id=\"patch_45\">\n    <path d=\"M 172.398832 45924.328468 \nL 174.985947 45924.328468 \nL 174.985947 80.917982 \nL 172.398832 80.917982 \nz\n\" clip-path=\"url(#p832d0bfdcb)\" style=\"fill: #0071bc; stroke: #0071bc; stroke-linejoin: miter\"/>\n   </g>\n   <g id=\"patch_46\">\n    <path d=\"M 174.985947 45924.328468 \nL 177.573063 45924.328468 \nL 177.573063 82.484379 \nL 174.985947 82.484379 \nz\n\" clip-path=\"url(#p832d0bfdcb)\" style=\"fill: #0071bc; stroke: #0071bc; stroke-linejoin: miter\"/>\n   </g>\n   <g id=\"patch_47\">\n    <path d=\"M 177.573063 45924.328468 \nL 180.160179 45924.328468 \nL 180.160179 80.917982 \nL 177.573063 80.917982 \nz\n\" clip-path=\"url(#p832d0bfdcb)\" style=\"fill: #0071bc; stroke: #0071bc; stroke-linejoin: miter\"/>\n   </g>\n   <g id=\"patch_48\">\n    <path d=\"M 180.160179 45924.328468 \nL 182.747294 45924.328468 \nL 182.747294 84.520684 \nL 180.160179 84.520684 \nz\n\" clip-path=\"url(#p832d0bfdcb)\" style=\"fill: #0071bc; stroke: #0071bc; stroke-linejoin: miter\"/>\n   </g>\n   <g id=\"patch_49\">\n    <path d=\"M 182.747294 45924.328468 \nL 185.33441 45924.328468 \nL 185.33441 82.689158 \nL 182.747294 82.689158 \nz\n\" clip-path=\"url(#p832d0bfdcb)\" style=\"fill: #0071bc; stroke: #0071bc; stroke-linejoin: miter\"/>\n   </g>\n   <g id=\"patch_50\">\n    <path d=\"M 185.33441 45924.328468 \nL 187.921526 45924.328468 \nL 187.921526 82.484379 \nL 185.33441 82.484379 \nz\n\" clip-path=\"url(#p832d0bfdcb)\" style=\"fill: #0071bc; stroke: #0071bc; stroke-linejoin: miter\"/>\n   </g>\n   <g id=\"patch_51\">\n    <path d=\"M 187.921526 45924.328468 \nL 190.508641 45924.328468 \nL 190.508641 84.977334 \nL 187.921526 84.977334 \nz\n\" clip-path=\"url(#p832d0bfdcb)\" style=\"fill: #0071bc; stroke: #0071bc; stroke-linejoin: miter\"/>\n   </g>\n   <g id=\"patch_52\">\n    <path d=\"M 190.508641 45924.328468 \nL 193.095757 45924.328468 \nL 193.095757 83.637722 \nL 190.508641 83.637722 \nz\n\" clip-path=\"url(#p832d0bfdcb)\" style=\"fill: #0071bc; stroke: #0071bc; stroke-linejoin: miter\"/>\n   </g>\n   <g id=\"patch_53\">\n    <path d=\"M 193.095757 45924.328468 \nL 195.682873 45924.328468 \nL 195.682873 83.637722 \nL 193.095757 83.637722 \nz\n\" clip-path=\"url(#p832d0bfdcb)\" style=\"fill: #0071bc; stroke: #0071bc; stroke-linejoin: miter\"/>\n   </g>\n   <g id=\"patch_54\">\n    <path d=\"M 195.682873 45924.328468 \nL 198.269988 45924.328468 \nL 198.269988 84.296237 \nL 195.682873 84.296237 \nz\n\" clip-path=\"url(#p832d0bfdcb)\" style=\"fill: #0071bc; stroke: #0071bc; stroke-linejoin: miter\"/>\n   </g>\n   <g id=\"patch_55\">\n    <path d=\"M 198.269988 45924.328468 \nL 200.857104 45924.328468 \nL 200.857104 86.167113 \nL 198.269988 86.167113 \nz\n\" clip-path=\"url(#p832d0bfdcb)\" style=\"fill: #0071bc; stroke: #0071bc; stroke-linejoin: miter\"/>\n   </g>\n   <g id=\"patch_56\">\n    <path d=\"M 200.857104 45924.328468 \nL 203.44422 45924.328468 \nL 203.44422 82.484379 \nL 200.857104 82.484379 \nz\n\" clip-path=\"url(#p832d0bfdcb)\" style=\"fill: #0071bc; stroke: #0071bc; stroke-linejoin: miter\"/>\n   </g>\n   <g id=\"patch_57\">\n    <path d=\"M 203.44422 45924.328468 \nL 206.031335 45924.328468 \nL 206.031335 85.563316 \nL 203.44422 85.563316 \nz\n\" clip-path=\"url(#p832d0bfdcb)\" style=\"fill: #0071bc; stroke: #0071bc; stroke-linejoin: miter\"/>\n   </g>\n   <g id=\"patch_58\">\n    <path d=\"M 206.031335 45924.328468 \nL 208.618451 45924.328468 \nL 208.618451 82.28169 \nL 206.031335 82.28169 \nz\n\" clip-path=\"url(#p832d0bfdcb)\" style=\"fill: #0071bc; stroke: #0071bc; stroke-linejoin: miter\"/>\n   </g>\n   <g id=\"patch_59\">\n    <path d=\"M 208.618451 45924.328468 \nL 211.205567 45924.328468 \nL 211.205567 83.316475 \nL 208.618451 83.316475 \nz\n\" clip-path=\"url(#p832d0bfdcb)\" style=\"fill: #0071bc; stroke: #0071bc; stroke-linejoin: miter\"/>\n   </g>\n   <g id=\"patch_60\">\n    <path d=\"M 211.205567 45924.328468 \nL 213.792683 45924.328468 \nL 213.792683 85.682616 \nL 211.205567 85.682616 \nz\n\" clip-path=\"url(#p832d0bfdcb)\" style=\"fill: #0071bc; stroke: #0071bc; stroke-linejoin: miter\"/>\n   </g>\n   <g id=\"patch_61\">\n    <path d=\"M 213.792683 45924.328468 \nL 216.379798 45924.328468 \nL 216.379798 84.074297 \nL 213.792683 84.074297 \nz\n\" clip-path=\"url(#p832d0bfdcb)\" style=\"fill: #0071bc; stroke: #0071bc; stroke-linejoin: miter\"/>\n   </g>\n   <g id=\"patch_62\">\n    <path d=\"M 216.379798 45924.328468 \nL 218.966914 45924.328468 \nL 218.966914 87.432724 \nL 216.379798 87.432724 \nz\n\" clip-path=\"url(#p832d0bfdcb)\" style=\"fill: #0071bc; stroke: #0071bc; stroke-linejoin: miter\"/>\n   </g>\n   <g id=\"patch_63\">\n    <path d=\"M 218.966914 45924.328468 \nL 221.55403 45924.328468 \nL 221.55403 86.167113 \nL 218.966914 86.167113 \nz\n\" clip-path=\"url(#p832d0bfdcb)\" style=\"fill: #0071bc; stroke: #0071bc; stroke-linejoin: miter\"/>\n   </g>\n   <g id=\"patch_64\">\n    <path d=\"M 221.55403 45924.328468 \nL 224.141145 45924.328468 \nL 224.141145 89.352058 \nL 221.55403 89.352058 \nz\n\" clip-path=\"url(#p832d0bfdcb)\" style=\"fill: #0071bc; stroke: #0071bc; stroke-linejoin: miter\"/>\n   </g>\n   <g id=\"patch_65\">\n    <path d=\"M 224.141145 45924.328468 \nL 226.728261 45924.328468 \nL 226.728261 89.788634 \nL 224.141145 89.788634 \nz\n\" clip-path=\"url(#p832d0bfdcb)\" style=\"fill: #0071bc; stroke: #0071bc; stroke-linejoin: miter\"/>\n   </g>\n   <g id=\"patch_66\">\n    <path d=\"M 226.728261 45924.328468 \nL 229.315377 45924.328468 \nL 229.315377 89.64204 \nL 226.728261 89.64204 \nz\n\" clip-path=\"url(#p832d0bfdcb)\" style=\"fill: #0071bc; stroke: #0071bc; stroke-linejoin: miter\"/>\n   </g>\n   <g id=\"patch_67\">\n    <path d=\"M 229.315377 45924.328468 \nL 231.902492 45924.328468 \nL 231.902492 93.14706 \nL 229.315377 93.14706 \nz\n\" clip-path=\"url(#p832d0bfdcb)\" style=\"fill: #0071bc; stroke: #0071bc; stroke-linejoin: miter\"/>\n   </g>\n   <g id=\"patch_68\">\n    <path d=\"M 231.902492 45924.328468 \nL 234.489608 45924.328468 \nL 234.489608 93.14706 \nL 231.902492 93.14706 \nz\n\" clip-path=\"url(#p832d0bfdcb)\" style=\"fill: #0071bc; stroke: #0071bc; stroke-linejoin: miter\"/>\n   </g>\n   <g id=\"patch_69\">\n    <path d=\"M 234.489608 45924.328468 \nL 237.076724 45924.328468 \nL 237.076724 101.730685 \nL 234.489608 101.730685 \nz\n\" clip-path=\"url(#p832d0bfdcb)\" style=\"fill: #0071bc; stroke: #0071bc; stroke-linejoin: miter\"/>\n   </g>\n   <g id=\"patch_70\">\n    <path d=\"M 237.076724 45924.328468 \nL 239.663839 45924.328468 \nL 239.663839 99.212969 \nL 237.076724 99.212969 \nz\n\" clip-path=\"url(#p832d0bfdcb)\" style=\"fill: #0071bc; stroke: #0071bc; stroke-linejoin: miter\"/>\n   </g>\n   <g id=\"patch_71\">\n    <path d=\"M 239.663839 45924.328468 \nL 242.250955 45924.328468 \nL 242.250955 107.624782 \nL 239.663839 107.624782 \nz\n\" clip-path=\"url(#p832d0bfdcb)\" style=\"fill: #0071bc; stroke: #0071bc; stroke-linejoin: miter\"/>\n   </g>\n   <g id=\"patch_72\">\n    <path d=\"M 242.250955 45924.328468 \nL 244.838071 45924.328468 \nL 244.838071 106.230288 \nL 242.250955 106.230288 \nz\n\" clip-path=\"url(#p832d0bfdcb)\" style=\"fill: #0071bc; stroke: #0071bc; stroke-linejoin: miter\"/>\n   </g>\n   <g id=\"patch_73\">\n    <path d=\"M 244.838071 45924.328468 \nL 247.425186 45924.328468 \nL 247.425186 108.360546 \nL 244.838071 108.360546 \nz\n\" clip-path=\"url(#p832d0bfdcb)\" style=\"fill: #0071bc; stroke: #0071bc; stroke-linejoin: miter\"/>\n   </g>\n   <g id=\"patch_74\">\n    <path d=\"M 247.425186 45924.328468 \nL 250.012302 45924.328468 \nL 250.012302 109.517963 \nL 247.425186 109.517963 \nz\n\" clip-path=\"url(#p832d0bfdcb)\" style=\"fill: #0071bc; stroke: #0071bc; stroke-linejoin: miter\"/>\n   </g>\n   <g id=\"patch_75\">\n    <path d=\"M 250.012302 45924.328468 \nL 252.599418 45924.328468 \nL 252.599418 113.459868 \nL 250.012302 113.459868 \nz\n\" clip-path=\"url(#p832d0bfdcb)\" style=\"fill: #0071bc; stroke: #0071bc; stroke-linejoin: miter\"/>\n   </g>\n   <g id=\"patch_76\">\n    <path d=\"M 252.599418 45924.328468 \nL 255.186534 45924.328468 \nL 255.186534 120.338082 \nL 252.599418 120.338082 \nz\n\" clip-path=\"url(#p832d0bfdcb)\" style=\"fill: #0071bc; stroke: #0071bc; stroke-linejoin: miter\"/>\n   </g>\n   <g id=\"patch_77\">\n    <path d=\"M 255.186534 45924.328468 \nL 257.773649 45924.328468 \nL 257.773649 122.507148 \nL 255.186534 122.507148 \nz\n\" clip-path=\"url(#p832d0bfdcb)\" style=\"fill: #0071bc; stroke: #0071bc; stroke-linejoin: miter\"/>\n   </g>\n   <g id=\"patch_78\">\n    <path d=\"M 257.773649 45924.328468 \nL 260.360765 45924.328468 \nL 260.360765 117.771501 \nL 257.773649 117.771501 \nz\n\" clip-path=\"url(#p832d0bfdcb)\" style=\"fill: #0071bc; stroke: #0071bc; stroke-linejoin: miter\"/>\n   </g>\n   <g id=\"patch_79\">\n    <path d=\"M 260.360765 45924.328468 \nL 262.947881 45924.328468 \nL 262.947881 139.593646 \nL 260.360765 139.593646 \nz\n\" clip-path=\"url(#p832d0bfdcb)\" style=\"fill: #0071bc; stroke: #0071bc; stroke-linejoin: miter\"/>\n   </g>\n   <g id=\"patch_80\">\n    <path d=\"M 262.947881 45924.328468 \nL 265.534996 45924.328468 \nL 265.534996 136.275388 \nL 262.947881 136.275388 \nz\n\" clip-path=\"url(#p832d0bfdcb)\" style=\"fill: #0071bc; stroke: #0071bc; stroke-linejoin: miter\"/>\n   </g>\n   <g id=\"patch_81\">\n    <path d=\"M 265.534996 45924.328468 \nL 268.122112 45924.328468 \nL 268.122112 141.486827 \nL 265.534996 141.486827 \nz\n\" clip-path=\"url(#p832d0bfdcb)\" style=\"fill: #0071bc; stroke: #0071bc; stroke-linejoin: miter\"/>\n   </g>\n   <g id=\"patch_82\">\n    <path d=\"M 268.122112 45924.328468 \nL 270.709228 45924.328468 \nL 270.709228 133.432923 \nL 268.122112 133.432923 \nz\n\" clip-path=\"url(#p832d0bfdcb)\" style=\"fill: #0071bc; stroke: #0071bc; stroke-linejoin: miter\"/>\n   </g>\n   <g id=\"patch_83\">\n    <path d=\"M 270.709228 45924.328468 \nL 273.296343 45924.328468 \nL 273.296343 141.486827 \nL 270.709228 141.486827 \nz\n\" clip-path=\"url(#p832d0bfdcb)\" style=\"fill: #0071bc; stroke: #0071bc; stroke-linejoin: miter\"/>\n   </g>\n   <g id=\"patch_84\">\n    <path d=\"M 273.296343 45924.328468 \nL 275.883459 45924.328468 \nL 275.883459 139.593646 \nL 273.296343 139.593646 \nz\n\" clip-path=\"url(#p832d0bfdcb)\" style=\"fill: #0071bc; stroke: #0071bc; stroke-linejoin: miter\"/>\n   </g>\n   <g id=\"patch_85\">\n    <path d=\"M 275.883459 45924.328468 \nL 278.470575 45924.328468 \nL 278.470575 148.571594 \nL 275.883459 148.571594 \nz\n\" clip-path=\"url(#p832d0bfdcb)\" style=\"fill: #0071bc; stroke: #0071bc; stroke-linejoin: miter\"/>\n   </g>\n   <g id=\"patch_86\">\n    <path d=\"M 278.470575 45924.328468 \nL 281.05769 45924.328468 \nL 281.05769 143.579642 \nL 278.470575 143.579642 \nz\n\" clip-path=\"url(#p832d0bfdcb)\" style=\"fill: #0071bc; stroke: #0071bc; stroke-linejoin: miter\"/>\n   </g>\n   <g id=\"patch_87\">\n    <path d=\"M 281.05769 45924.328468 \nL 283.644806 45924.328468 \nL 283.644806 155.255068 \nL 281.05769 155.255068 \nz\n\" clip-path=\"url(#p832d0bfdcb)\" style=\"fill: #0071bc; stroke: #0071bc; stroke-linejoin: miter\"/>\n   </g>\n   <g id=\"patch_88\">\n    <path d=\"M 283.644806 45924.328468 \nL 286.231922 45924.328468 \nL 286.231922 159.687451 \nL 283.644806 159.687451 \nz\n\" clip-path=\"url(#p832d0bfdcb)\" style=\"fill: #0071bc; stroke: #0071bc; stroke-linejoin: miter\"/>\n   </g>\n   <g id=\"patch_89\">\n    <path d=\"M 286.231922 45924.328468 \nL 288.819037 45924.328468 \nL 288.819037 165.401787 \nL 286.231922 165.401787 \nz\n\" clip-path=\"url(#p832d0bfdcb)\" style=\"fill: #0071bc; stroke: #0071bc; stroke-linejoin: miter\"/>\n   </g>\n   <g id=\"patch_90\">\n    <path d=\"M 288.819037 45924.328468 \nL 291.406153 45924.328468 \nL 291.406153 165.401787 \nL 288.819037 165.401787 \nz\n\" clip-path=\"url(#p832d0bfdcb)\" style=\"fill: #0071bc; stroke: #0071bc; stroke-linejoin: miter\"/>\n   </g>\n   <g id=\"patch_91\">\n    <path d=\"M 291.406153 45924.328468 \nL 293.993269 45924.328468 \nL 293.993269 187.223932 \nL 291.406153 187.223932 \nz\n\" clip-path=\"url(#p832d0bfdcb)\" style=\"fill: #0071bc; stroke: #0071bc; stroke-linejoin: miter\"/>\n   </g>\n   <g id=\"patch_92\">\n    <path d=\"M 293.993269 45924.328468 \nL 296.580385 45924.328468 \nL 296.580385 187.223932 \nL 293.993269 187.223932 \nz\n\" clip-path=\"url(#p832d0bfdcb)\" style=\"fill: #0071bc; stroke: #0071bc; stroke-linejoin: miter\"/>\n   </g>\n   <g id=\"patch_93\">\n    <path d=\"M 296.580385 45924.328468 \nL 299.1675 45924.328468 \nL 299.1675 173.455691 \nL 296.580385 173.455691 \nz\n\" clip-path=\"url(#p832d0bfdcb)\" style=\"fill: #0071bc; stroke: #0071bc; stroke-linejoin: miter\"/>\n   </g>\n   <g id=\"patch_94\">\n    <path d=\"M 299.1675 45924.328468 \nL 301.754616 45924.328468 \nL 301.754616 173.455691 \nL 299.1675 173.455691 \nz\n\" clip-path=\"url(#p832d0bfdcb)\" style=\"fill: #0071bc; stroke: #0071bc; stroke-linejoin: miter\"/>\n   </g>\n   <g id=\"patch_95\">\n    <path d=\"M 301.754616 45924.328468 \nL 304.341732 45924.328468 \nL 304.341732 187.223932 \nL 301.754616 187.223932 \nz\n\" clip-path=\"url(#p832d0bfdcb)\" style=\"fill: #0071bc; stroke: #0071bc; stroke-linejoin: miter\"/>\n   </g>\n   <g id=\"patch_96\">\n    <path d=\"M 304.341732 45924.328468 \nL 306.928847 45924.328468 \nL 306.928847 45924.328468 \nL 304.341732 45924.328468 \nz\n\" clip-path=\"url(#p832d0bfdcb)\" style=\"fill: #0071bc; stroke: #0071bc; stroke-linejoin: miter\"/>\n   </g>\n   <g id=\"patch_97\">\n    <path d=\"M 306.928847 45924.328468 \nL 309.515963 45924.328468 \nL 309.515963 187.223932 \nL 306.928847 187.223932 \nz\n\" clip-path=\"url(#p832d0bfdcb)\" style=\"fill: #0071bc; stroke: #0071bc; stroke-linejoin: miter\"/>\n   </g>\n   <g id=\"patch_98\">\n    <path d=\"M 309.515963 45924.328468 \nL 312.103079 45924.328468 \nL 312.103079 45924.328468 \nL 309.515963 45924.328468 \nz\n\" clip-path=\"url(#p832d0bfdcb)\" style=\"fill: #0071bc; stroke: #0071bc; stroke-linejoin: miter\"/>\n   </g>\n   <g id=\"patch_99\">\n    <path d=\"M 312.103079 45924.328468 \nL 314.690194 45924.328468 \nL 314.690194 45924.328468 \nL 312.103079 45924.328468 \nz\n\" clip-path=\"url(#p832d0bfdcb)\" style=\"fill: #0071bc; stroke: #0071bc; stroke-linejoin: miter\"/>\n   </g>\n   <g id=\"patch_100\">\n    <path d=\"M 314.690194 45924.328468 \nL 317.27731 45924.328468 \nL 317.27731 187.223932 \nL 314.690194 187.223932 \nz\n\" clip-path=\"url(#p832d0bfdcb)\" style=\"fill: #0071bc; stroke: #0071bc; stroke-linejoin: miter\"/>\n   </g>\n   <g id=\"patch_101\">\n    <path d=\"M 317.27731 45924.328468 \nL 319.864426 45924.328468 \nL 319.864426 45924.328468 \nL 317.27731 45924.328468 \nz\n\" clip-path=\"url(#p832d0bfdcb)\" style=\"fill: #0071bc; stroke: #0071bc; stroke-linejoin: miter\"/>\n   </g>\n   <g id=\"matplotlib.axis_1\">\n    <g id=\"xtick_1\">\n     <g id=\"line2d_1\">\n      <defs>\n       <path id=\"m2cffc9588a\" d=\"M 0 0 \nL 0 3.5 \n\" style=\"stroke: #000000; stroke-width: 0.8\"/>\n      </defs>\n      <g>\n       <use xlink:href=\"#m2cffc9588a\" x=\"92.198245\" y=\"194.98975\" style=\"stroke: #000000; stroke-width: 0.8\"/>\n      </g>\n     </g>\n     <g id=\"text_1\">\n      <!-- $\\mathdefault{10^{-9}}$ -->\n      <g transform=\"translate(78.098245 211.107875) scale(0.12 -0.12)\">\n       <defs>\n        <path id=\"DejaVuSans-31\" d=\"M 794 531 \nL 1825 531 \nL 1825 4091 \nL 703 3866 \nL 703 4441 \nL 1819 4666 \nL 2450 4666 \nL 2450 531 \nL 3481 531 \nL 3481 0 \nL 794 0 \nL 794 531 \nz\n\" transform=\"scale(0.015625)\"/>\n        <path id=\"DejaVuSans-30\" d=\"M 2034 4250 \nQ 1547 4250 1301 3770 \nQ 1056 3291 1056 2328 \nQ 1056 1369 1301 889 \nQ 1547 409 2034 409 \nQ 2525 409 2770 889 \nQ 3016 1369 3016 2328 \nQ 3016 3291 2770 3770 \nQ 2525 4250 2034 4250 \nz\nM 2034 4750 \nQ 2819 4750 3233 4129 \nQ 3647 3509 3647 2328 \nQ 3647 1150 3233 529 \nQ 2819 -91 2034 -91 \nQ 1250 -91 836 529 \nQ 422 1150 422 2328 \nQ 422 3509 836 4129 \nQ 1250 4750 2034 4750 \nz\n\" transform=\"scale(0.015625)\"/>\n        <path id=\"DejaVuSans-2212\" d=\"M 678 2272 \nL 4684 2272 \nL 4684 1741 \nL 678 1741 \nL 678 2272 \nz\n\" transform=\"scale(0.015625)\"/>\n        <path id=\"DejaVuSans-39\" d=\"M 703 97 \nL 703 672 \nQ 941 559 1184 500 \nQ 1428 441 1663 441 \nQ 2288 441 2617 861 \nQ 2947 1281 2994 2138 \nQ 2813 1869 2534 1725 \nQ 2256 1581 1919 1581 \nQ 1219 1581 811 2004 \nQ 403 2428 403 3163 \nQ 403 3881 828 4315 \nQ 1253 4750 1959 4750 \nQ 2769 4750 3195 4129 \nQ 3622 3509 3622 2328 \nQ 3622 1225 3098 567 \nQ 2575 -91 1691 -91 \nQ 1453 -91 1209 -44 \nQ 966 3 703 97 \nz\nM 1959 2075 \nQ 2384 2075 2632 2365 \nQ 2881 2656 2881 3163 \nQ 2881 3666 2632 3958 \nQ 2384 4250 1959 4250 \nQ 1534 4250 1286 3958 \nQ 1038 3666 1038 3163 \nQ 1038 2656 1286 2365 \nQ 1534 2075 1959 2075 \nz\n\" transform=\"scale(0.015625)\"/>\n       </defs>\n       <use xlink:href=\"#DejaVuSans-31\" transform=\"translate(0 0.765625)\"/>\n       <use xlink:href=\"#DejaVuSans-30\" transform=\"translate(63.623047 0.765625)\"/>\n       <use xlink:href=\"#DejaVuSans-2212\" transform=\"translate(128.203125 39.046875) scale(0.7)\"/>\n       <use xlink:href=\"#DejaVuSans-39\" transform=\"translate(186.855469 39.046875) scale(0.7)\"/>\n      </g>\n     </g>\n    </g>\n    <g id=\"xtick_2\">\n     <g id=\"line2d_2\">\n      <g>\n       <use xlink:href=\"#m2cffc9588a\" x=\"149.11479\" y=\"194.98975\" style=\"stroke: #000000; stroke-width: 0.8\"/>\n      </g>\n     </g>\n     <g id=\"text_2\">\n      <!-- $\\mathdefault{10^{-7}}$ -->\n      <g transform=\"translate(135.01479 211.107875) scale(0.12 -0.12)\">\n       <defs>\n        <path id=\"DejaVuSans-37\" d=\"M 525 4666 \nL 3525 4666 \nL 3525 4397 \nL 1831 0 \nL 1172 0 \nL 2766 4134 \nL 525 4134 \nL 525 4666 \nz\n\" transform=\"scale(0.015625)\"/>\n       </defs>\n       <use xlink:href=\"#DejaVuSans-31\" transform=\"translate(0 0.684375)\"/>\n       <use xlink:href=\"#DejaVuSans-30\" transform=\"translate(63.623047 0.684375)\"/>\n       <use xlink:href=\"#DejaVuSans-2212\" transform=\"translate(128.203125 38.965625) scale(0.7)\"/>\n       <use xlink:href=\"#DejaVuSans-37\" transform=\"translate(186.855469 38.965625) scale(0.7)\"/>\n      </g>\n     </g>\n    </g>\n    <g id=\"xtick_3\">\n     <g id=\"line2d_3\">\n      <g>\n       <use xlink:href=\"#m2cffc9588a\" x=\"206.031335\" y=\"194.98975\" style=\"stroke: #000000; stroke-width: 0.8\"/>\n      </g>\n     </g>\n     <g id=\"text_3\">\n      <!-- $\\mathdefault{10^{-5}}$ -->\n      <g transform=\"translate(191.931335 211.107875) scale(0.12 -0.12)\">\n       <defs>\n        <path id=\"DejaVuSans-35\" d=\"M 691 4666 \nL 3169 4666 \nL 3169 4134 \nL 1269 4134 \nL 1269 2991 \nQ 1406 3038 1543 3061 \nQ 1681 3084 1819 3084 \nQ 2600 3084 3056 2656 \nQ 3513 2228 3513 1497 \nQ 3513 744 3044 326 \nQ 2575 -91 1722 -91 \nQ 1428 -91 1123 -41 \nQ 819 9 494 109 \nL 494 744 \nQ 775 591 1075 516 \nQ 1375 441 1709 441 \nQ 2250 441 2565 725 \nQ 2881 1009 2881 1497 \nQ 2881 1984 2565 2268 \nQ 2250 2553 1709 2553 \nQ 1456 2553 1204 2497 \nQ 953 2441 691 2322 \nL 691 4666 \nz\n\" transform=\"scale(0.015625)\"/>\n       </defs>\n       <use xlink:href=\"#DejaVuSans-31\" transform=\"translate(0 0.684375)\"/>\n       <use xlink:href=\"#DejaVuSans-30\" transform=\"translate(63.623047 0.684375)\"/>\n       <use xlink:href=\"#DejaVuSans-2212\" transform=\"translate(128.203125 38.965625) scale(0.7)\"/>\n       <use xlink:href=\"#DejaVuSans-35\" transform=\"translate(186.855469 38.965625) scale(0.7)\"/>\n      </g>\n     </g>\n    </g>\n    <g id=\"xtick_4\">\n     <g id=\"line2d_4\">\n      <g>\n       <use xlink:href=\"#m2cffc9588a\" x=\"262.947881\" y=\"194.98975\" style=\"stroke: #000000; stroke-width: 0.8\"/>\n      </g>\n     </g>\n     <g id=\"text_4\">\n      <!-- $\\mathdefault{10^{-3}}$ -->\n      <g transform=\"translate(248.847881 211.107875) scale(0.12 -0.12)\">\n       <defs>\n        <path id=\"DejaVuSans-33\" d=\"M 2597 2516 \nQ 3050 2419 3304 2112 \nQ 3559 1806 3559 1356 \nQ 3559 666 3084 287 \nQ 2609 -91 1734 -91 \nQ 1441 -91 1130 -33 \nQ 819 25 488 141 \nL 488 750 \nQ 750 597 1062 519 \nQ 1375 441 1716 441 \nQ 2309 441 2620 675 \nQ 2931 909 2931 1356 \nQ 2931 1769 2642 2001 \nQ 2353 2234 1838 2234 \nL 1294 2234 \nL 1294 2753 \nL 1863 2753 \nQ 2328 2753 2575 2939 \nQ 2822 3125 2822 3475 \nQ 2822 3834 2567 4026 \nQ 2313 4219 1838 4219 \nQ 1578 4219 1281 4162 \nQ 984 4106 628 3988 \nL 628 4550 \nQ 988 4650 1302 4700 \nQ 1616 4750 1894 4750 \nQ 2613 4750 3031 4423 \nQ 3450 4097 3450 3541 \nQ 3450 3153 3228 2886 \nQ 3006 2619 2597 2516 \nz\n\" transform=\"scale(0.015625)\"/>\n       </defs>\n       <use xlink:href=\"#DejaVuSans-31\" transform=\"translate(0 0.765625)\"/>\n       <use xlink:href=\"#DejaVuSans-30\" transform=\"translate(63.623047 0.765625)\"/>\n       <use xlink:href=\"#DejaVuSans-2212\" transform=\"translate(128.203125 39.046875) scale(0.7)\"/>\n       <use xlink:href=\"#DejaVuSans-33\" transform=\"translate(186.855469 39.046875) scale(0.7)\"/>\n      </g>\n     </g>\n    </g>\n    <g id=\"xtick_5\">\n     <g id=\"line2d_5\">\n      <g>\n       <use xlink:href=\"#m2cffc9588a\" x=\"319.864426\" y=\"194.98975\" style=\"stroke: #000000; stroke-width: 0.8\"/>\n      </g>\n     </g>\n     <g id=\"text_5\">\n      <!-- $\\mathdefault{10^{-1}}$ -->\n      <g transform=\"translate(305.764426 211.107875) scale(0.12 -0.12)\">\n       <use xlink:href=\"#DejaVuSans-31\" transform=\"translate(0 0.684375)\"/>\n       <use xlink:href=\"#DejaVuSans-30\" transform=\"translate(63.623047 0.684375)\"/>\n       <use xlink:href=\"#DejaVuSans-2212\" transform=\"translate(128.203125 38.965625) scale(0.7)\"/>\n       <use xlink:href=\"#DejaVuSans-31\" transform=\"translate(186.855469 38.965625) scale(0.7)\"/>\n      </g>\n     </g>\n    </g>\n    <g id=\"text_6\">\n     <!-- Probability -->\n     <g transform=\"translate(160.087512 226.721625) scale(0.12 -0.12)\">\n      <defs>\n       <path id=\"DejaVuSans-50\" d=\"M 1259 4147 \nL 1259 2394 \nL 2053 2394 \nQ 2494 2394 2734 2622 \nQ 2975 2850 2975 3272 \nQ 2975 3691 2734 3919 \nQ 2494 4147 2053 4147 \nL 1259 4147 \nz\nM 628 4666 \nL 2053 4666 \nQ 2838 4666 3239 4311 \nQ 3641 3956 3641 3272 \nQ 3641 2581 3239 2228 \nQ 2838 1875 2053 1875 \nL 1259 1875 \nL 1259 0 \nL 628 0 \nL 628 4666 \nz\n\" transform=\"scale(0.015625)\"/>\n       <path id=\"DejaVuSans-72\" d=\"M 2631 2963 \nQ 2534 3019 2420 3045 \nQ 2306 3072 2169 3072 \nQ 1681 3072 1420 2755 \nQ 1159 2438 1159 1844 \nL 1159 0 \nL 581 0 \nL 581 3500 \nL 1159 3500 \nL 1159 2956 \nQ 1341 3275 1631 3429 \nQ 1922 3584 2338 3584 \nQ 2397 3584 2469 3576 \nQ 2541 3569 2628 3553 \nL 2631 2963 \nz\n\" transform=\"scale(0.015625)\"/>\n       <path id=\"DejaVuSans-6f\" d=\"M 1959 3097 \nQ 1497 3097 1228 2736 \nQ 959 2375 959 1747 \nQ 959 1119 1226 758 \nQ 1494 397 1959 397 \nQ 2419 397 2687 759 \nQ 2956 1122 2956 1747 \nQ 2956 2369 2687 2733 \nQ 2419 3097 1959 3097 \nz\nM 1959 3584 \nQ 2709 3584 3137 3096 \nQ 3566 2609 3566 1747 \nQ 3566 888 3137 398 \nQ 2709 -91 1959 -91 \nQ 1206 -91 779 398 \nQ 353 888 353 1747 \nQ 353 2609 779 3096 \nQ 1206 3584 1959 3584 \nz\n\" transform=\"scale(0.015625)\"/>\n       <path id=\"DejaVuSans-62\" d=\"M 3116 1747 \nQ 3116 2381 2855 2742 \nQ 2594 3103 2138 3103 \nQ 1681 3103 1420 2742 \nQ 1159 2381 1159 1747 \nQ 1159 1113 1420 752 \nQ 1681 391 2138 391 \nQ 2594 391 2855 752 \nQ 3116 1113 3116 1747 \nz\nM 1159 2969 \nQ 1341 3281 1617 3432 \nQ 1894 3584 2278 3584 \nQ 2916 3584 3314 3078 \nQ 3713 2572 3713 1747 \nQ 3713 922 3314 415 \nQ 2916 -91 2278 -91 \nQ 1894 -91 1617 61 \nQ 1341 213 1159 525 \nL 1159 0 \nL 581 0 \nL 581 4863 \nL 1159 4863 \nL 1159 2969 \nz\n\" transform=\"scale(0.015625)\"/>\n       <path id=\"DejaVuSans-61\" d=\"M 2194 1759 \nQ 1497 1759 1228 1600 \nQ 959 1441 959 1056 \nQ 959 750 1161 570 \nQ 1363 391 1709 391 \nQ 2188 391 2477 730 \nQ 2766 1069 2766 1631 \nL 2766 1759 \nL 2194 1759 \nz\nM 3341 1997 \nL 3341 0 \nL 2766 0 \nL 2766 531 \nQ 2569 213 2275 61 \nQ 1981 -91 1556 -91 \nQ 1019 -91 701 211 \nQ 384 513 384 1019 \nQ 384 1609 779 1909 \nQ 1175 2209 1959 2209 \nL 2766 2209 \nL 2766 2266 \nQ 2766 2663 2505 2880 \nQ 2244 3097 1772 3097 \nQ 1472 3097 1187 3025 \nQ 903 2953 641 2809 \nL 641 3341 \nQ 956 3463 1253 3523 \nQ 1550 3584 1831 3584 \nQ 2591 3584 2966 3190 \nQ 3341 2797 3341 1997 \nz\n\" transform=\"scale(0.015625)\"/>\n       <path id=\"DejaVuSans-69\" d=\"M 603 3500 \nL 1178 3500 \nL 1178 0 \nL 603 0 \nL 603 3500 \nz\nM 603 4863 \nL 1178 4863 \nL 1178 4134 \nL 603 4134 \nL 603 4863 \nz\n\" transform=\"scale(0.015625)\"/>\n       <path id=\"DejaVuSans-6c\" d=\"M 603 4863 \nL 1178 4863 \nL 1178 0 \nL 603 0 \nL 603 4863 \nz\n\" transform=\"scale(0.015625)\"/>\n       <path id=\"DejaVuSans-74\" d=\"M 1172 4494 \nL 1172 3500 \nL 2356 3500 \nL 2356 3053 \nL 1172 3053 \nL 1172 1153 \nQ 1172 725 1289 603 \nQ 1406 481 1766 481 \nL 2356 481 \nL 2356 0 \nL 1766 0 \nQ 1100 0 847 248 \nQ 594 497 594 1153 \nL 594 3053 \nL 172 3053 \nL 172 3500 \nL 594 3500 \nL 594 4494 \nL 1172 4494 \nz\n\" transform=\"scale(0.015625)\"/>\n       <path id=\"DejaVuSans-79\" d=\"M 2059 -325 \nQ 1816 -950 1584 -1140 \nQ 1353 -1331 966 -1331 \nL 506 -1331 \nL 506 -850 \nL 844 -850 \nQ 1081 -850 1212 -737 \nQ 1344 -625 1503 -206 \nL 1606 56 \nL 191 3500 \nL 800 3500 \nL 1894 763 \nL 2988 3500 \nL 3597 3500 \nL 2059 -325 \nz\n\" transform=\"scale(0.015625)\"/>\n      </defs>\n      <use xlink:href=\"#DejaVuSans-50\"/>\n      <use xlink:href=\"#DejaVuSans-72\" x=\"58.552734\"/>\n      <use xlink:href=\"#DejaVuSans-6f\" x=\"97.416016\"/>\n      <use xlink:href=\"#DejaVuSans-62\" x=\"158.597656\"/>\n      <use xlink:href=\"#DejaVuSans-61\" x=\"222.074219\"/>\n      <use xlink:href=\"#DejaVuSans-62\" x=\"283.353516\"/>\n      <use xlink:href=\"#DejaVuSans-69\" x=\"346.830078\"/>\n      <use xlink:href=\"#DejaVuSans-6c\" x=\"374.613281\"/>\n      <use xlink:href=\"#DejaVuSans-69\" x=\"402.396484\"/>\n      <use xlink:href=\"#DejaVuSans-74\" x=\"430.179688\"/>\n      <use xlink:href=\"#DejaVuSans-79\" x=\"469.388672\"/>\n     </g>\n    </g>\n   </g>\n   <g id=\"matplotlib.axis_2\">\n    <g id=\"ytick_1\">\n     <g id=\"line2d_6\">\n      <defs>\n       <path id=\"m721082a30c\" d=\"M 0 0 \nL -3.5 0 \n\" style=\"stroke: #000000; stroke-width: 0.8\"/>\n      </defs>\n      <g>\n       <use xlink:href=\"#m721082a30c\" x=\"50.93375\" y=\"187.223932\" style=\"stroke: #000000; stroke-width: 0.8\"/>\n      </g>\n     </g>\n     <g id=\"text_7\">\n      <!-- $\\mathdefault{10^{0}}$ -->\n      <g transform=\"translate(22.81375 191.782994) scale(0.12 -0.12)\">\n       <use xlink:href=\"#DejaVuSans-31\" transform=\"translate(0 0.765625)\"/>\n       <use xlink:href=\"#DejaVuSans-30\" transform=\"translate(63.623047 0.765625)\"/>\n       <use xlink:href=\"#DejaVuSans-30\" transform=\"translate(128.203125 39.046875) scale(0.7)\"/>\n      </g>\n     </g>\n    </g>\n    <g id=\"ytick_2\">\n     <g id=\"line2d_7\">\n      <g>\n       <use xlink:href=\"#m721082a30c\" x=\"50.93375\" y=\"141.486827\" style=\"stroke: #000000; stroke-width: 0.8\"/>\n      </g>\n     </g>\n     <g id=\"text_8\">\n      <!-- $\\mathdefault{10^{1}}$ -->\n      <g transform=\"translate(22.81375 146.04589) scale(0.12 -0.12)\">\n       <use xlink:href=\"#DejaVuSans-31\" transform=\"translate(0 0.684375)\"/>\n       <use xlink:href=\"#DejaVuSans-30\" transform=\"translate(63.623047 0.684375)\"/>\n       <use xlink:href=\"#DejaVuSans-31\" transform=\"translate(128.203125 38.965625) scale(0.7)\"/>\n      </g>\n     </g>\n    </g>\n    <g id=\"ytick_3\">\n     <g id=\"line2d_8\">\n      <g>\n       <use xlink:href=\"#m721082a30c\" x=\"50.93375\" y=\"95.749723\" style=\"stroke: #000000; stroke-width: 0.8\"/>\n      </g>\n     </g>\n     <g id=\"text_9\">\n      <!-- $\\mathdefault{10^{2}}$ -->\n      <g transform=\"translate(22.81375 100.308785) scale(0.12 -0.12)\">\n       <defs>\n        <path id=\"DejaVuSans-32\" d=\"M 1228 531 \nL 3431 531 \nL 3431 0 \nL 469 0 \nL 469 531 \nQ 828 903 1448 1529 \nQ 2069 2156 2228 2338 \nQ 2531 2678 2651 2914 \nQ 2772 3150 2772 3378 \nQ 2772 3750 2511 3984 \nQ 2250 4219 1831 4219 \nQ 1534 4219 1204 4116 \nQ 875 4013 500 3803 \nL 500 4441 \nQ 881 4594 1212 4672 \nQ 1544 4750 1819 4750 \nQ 2544 4750 2975 4387 \nQ 3406 4025 3406 3419 \nQ 3406 3131 3298 2873 \nQ 3191 2616 2906 2266 \nQ 2828 2175 2409 1742 \nQ 1991 1309 1228 531 \nz\n\" transform=\"scale(0.015625)\"/>\n       </defs>\n       <use xlink:href=\"#DejaVuSans-31\" transform=\"translate(0 0.765625)\"/>\n       <use xlink:href=\"#DejaVuSans-30\" transform=\"translate(63.623047 0.765625)\"/>\n       <use xlink:href=\"#DejaVuSans-32\" transform=\"translate(128.203125 39.046875) scale(0.7)\"/>\n      </g>\n     </g>\n    </g>\n    <g id=\"ytick_4\">\n     <g id=\"line2d_9\">\n      <g>\n       <use xlink:href=\"#m721082a30c\" x=\"50.93375\" y=\"50.012618\" style=\"stroke: #000000; stroke-width: 0.8\"/>\n      </g>\n     </g>\n     <g id=\"text_10\">\n      <!-- $\\mathdefault{10^{3}}$ -->\n      <g transform=\"translate(22.81375 54.571681) scale(0.12 -0.12)\">\n       <use xlink:href=\"#DejaVuSans-31\" transform=\"translate(0 0.765625)\"/>\n       <use xlink:href=\"#DejaVuSans-30\" transform=\"translate(63.623047 0.765625)\"/>\n       <use xlink:href=\"#DejaVuSans-33\" transform=\"translate(128.203125 39.046875) scale(0.7)\"/>\n      </g>\n     </g>\n    </g>\n    <g id=\"ytick_5\">\n     <g id=\"line2d_10\">\n      <defs>\n       <path id=\"m38760ae2f0\" d=\"M 0 0 \nL -2 0 \n\" style=\"stroke: #000000; stroke-width: 0.6\"/>\n      </defs>\n      <g>\n       <use xlink:href=\"#m38760ae2f0\" x=\"50.93375\" y=\"194.308699\" style=\"stroke: #000000; stroke-width: 0.6\"/>\n      </g>\n     </g>\n    </g>\n    <g id=\"ytick_6\">\n     <g id=\"line2d_11\">\n      <g>\n       <use xlink:href=\"#m38760ae2f0\" x=\"50.93375\" y=\"191.656315\" style=\"stroke: #000000; stroke-width: 0.6\"/>\n      </g>\n     </g>\n    </g>\n    <g id=\"ytick_7\">\n     <g id=\"line2d_12\">\n      <g>\n       <use xlink:href=\"#m38760ae2f0\" x=\"50.93375\" y=\"189.316747\" style=\"stroke: #000000; stroke-width: 0.6\"/>\n      </g>\n     </g>\n    </g>\n    <g id=\"ytick_8\">\n     <g id=\"line2d_13\">\n      <g>\n       <use xlink:href=\"#m38760ae2f0\" x=\"50.93375\" y=\"173.455691\" style=\"stroke: #000000; stroke-width: 0.6\"/>\n      </g>\n     </g>\n    </g>\n    <g id=\"ytick_9\">\n     <g id=\"line2d_14\">\n      <g>\n       <use xlink:href=\"#m38760ae2f0\" x=\"50.93375\" y=\"165.401787\" style=\"stroke: #000000; stroke-width: 0.6\"/>\n      </g>\n     </g>\n    </g>\n    <g id=\"ytick_10\">\n     <g id=\"line2d_15\">\n      <g>\n       <use xlink:href=\"#m38760ae2f0\" x=\"50.93375\" y=\"159.687451\" style=\"stroke: #000000; stroke-width: 0.6\"/>\n      </g>\n     </g>\n    </g>\n    <g id=\"ytick_11\">\n     <g id=\"line2d_16\">\n      <g>\n       <use xlink:href=\"#m38760ae2f0\" x=\"50.93375\" y=\"155.255068\" style=\"stroke: #000000; stroke-width: 0.6\"/>\n      </g>\n     </g>\n    </g>\n    <g id=\"ytick_12\">\n     <g id=\"line2d_17\">\n      <g>\n       <use xlink:href=\"#m38760ae2f0\" x=\"50.93375\" y=\"151.633547\" style=\"stroke: #000000; stroke-width: 0.6\"/>\n      </g>\n     </g>\n    </g>\n    <g id=\"ytick_13\">\n     <g id=\"line2d_18\">\n      <g>\n       <use xlink:href=\"#m38760ae2f0\" x=\"50.93375\" y=\"148.571594\" style=\"stroke: #000000; stroke-width: 0.6\"/>\n      </g>\n     </g>\n    </g>\n    <g id=\"ytick_14\">\n     <g id=\"line2d_19\">\n      <g>\n       <use xlink:href=\"#m38760ae2f0\" x=\"50.93375\" y=\"145.919211\" style=\"stroke: #000000; stroke-width: 0.6\"/>\n      </g>\n     </g>\n    </g>\n    <g id=\"ytick_15\">\n     <g id=\"line2d_20\">\n      <g>\n       <use xlink:href=\"#m38760ae2f0\" x=\"50.93375\" y=\"143.579642\" style=\"stroke: #000000; stroke-width: 0.6\"/>\n      </g>\n     </g>\n    </g>\n    <g id=\"ytick_16\">\n     <g id=\"line2d_21\">\n      <g>\n       <use xlink:href=\"#m38760ae2f0\" x=\"50.93375\" y=\"127.718587\" style=\"stroke: #000000; stroke-width: 0.6\"/>\n      </g>\n     </g>\n    </g>\n    <g id=\"ytick_17\">\n     <g id=\"line2d_22\">\n      <g>\n       <use xlink:href=\"#m38760ae2f0\" x=\"50.93375\" y=\"119.664683\" style=\"stroke: #000000; stroke-width: 0.6\"/>\n      </g>\n     </g>\n    </g>\n    <g id=\"ytick_18\">\n     <g id=\"line2d_23\">\n      <g>\n       <use xlink:href=\"#m38760ae2f0\" x=\"50.93375\" y=\"113.950347\" style=\"stroke: #000000; stroke-width: 0.6\"/>\n      </g>\n     </g>\n    </g>\n    <g id=\"ytick_19\">\n     <g id=\"line2d_24\">\n      <g>\n       <use xlink:href=\"#m38760ae2f0\" x=\"50.93375\" y=\"109.517963\" style=\"stroke: #000000; stroke-width: 0.6\"/>\n      </g>\n     </g>\n    </g>\n    <g id=\"ytick_20\">\n     <g id=\"line2d_25\">\n      <g>\n       <use xlink:href=\"#m38760ae2f0\" x=\"50.93375\" y=\"105.896442\" style=\"stroke: #000000; stroke-width: 0.6\"/>\n      </g>\n     </g>\n    </g>\n    <g id=\"ytick_21\">\n     <g id=\"line2d_26\">\n      <g>\n       <use xlink:href=\"#m38760ae2f0\" x=\"50.93375\" y=\"102.83449\" style=\"stroke: #000000; stroke-width: 0.6\"/>\n      </g>\n     </g>\n    </g>\n    <g id=\"ytick_22\">\n     <g id=\"line2d_27\">\n      <g>\n       <use xlink:href=\"#m38760ae2f0\" x=\"50.93375\" y=\"100.182106\" style=\"stroke: #000000; stroke-width: 0.6\"/>\n      </g>\n     </g>\n    </g>\n    <g id=\"ytick_23\">\n     <g id=\"line2d_28\">\n      <g>\n       <use xlink:href=\"#m38760ae2f0\" x=\"50.93375\" y=\"97.842538\" style=\"stroke: #000000; stroke-width: 0.6\"/>\n      </g>\n     </g>\n    </g>\n    <g id=\"ytick_24\">\n     <g id=\"line2d_29\">\n      <g>\n       <use xlink:href=\"#m38760ae2f0\" x=\"50.93375\" y=\"81.981482\" style=\"stroke: #000000; stroke-width: 0.6\"/>\n      </g>\n     </g>\n    </g>\n    <g id=\"ytick_25\">\n     <g id=\"line2d_30\">\n      <g>\n       <use xlink:href=\"#m38760ae2f0\" x=\"50.93375\" y=\"73.927578\" style=\"stroke: #000000; stroke-width: 0.6\"/>\n      </g>\n     </g>\n    </g>\n    <g id=\"ytick_26\">\n     <g id=\"line2d_31\">\n      <g>\n       <use xlink:href=\"#m38760ae2f0\" x=\"50.93375\" y=\"68.213242\" style=\"stroke: #000000; stroke-width: 0.6\"/>\n      </g>\n     </g>\n    </g>\n    <g id=\"ytick_27\">\n     <g id=\"line2d_32\">\n      <g>\n       <use xlink:href=\"#m38760ae2f0\" x=\"50.93375\" y=\"63.780859\" style=\"stroke: #000000; stroke-width: 0.6\"/>\n      </g>\n     </g>\n    </g>\n    <g id=\"ytick_28\">\n     <g id=\"line2d_33\">\n      <g>\n       <use xlink:href=\"#m38760ae2f0\" x=\"50.93375\" y=\"60.159338\" style=\"stroke: #000000; stroke-width: 0.6\"/>\n      </g>\n     </g>\n    </g>\n    <g id=\"ytick_29\">\n     <g id=\"line2d_34\">\n      <g>\n       <use xlink:href=\"#m38760ae2f0\" x=\"50.93375\" y=\"57.097385\" style=\"stroke: #000000; stroke-width: 0.6\"/>\n      </g>\n     </g>\n    </g>\n    <g id=\"ytick_30\">\n     <g id=\"line2d_35\">\n      <g>\n       <use xlink:href=\"#m38760ae2f0\" x=\"50.93375\" y=\"54.445002\" style=\"stroke: #000000; stroke-width: 0.6\"/>\n      </g>\n     </g>\n    </g>\n    <g id=\"ytick_31\">\n     <g id=\"line2d_36\">\n      <g>\n       <use xlink:href=\"#m38760ae2f0\" x=\"50.93375\" y=\"52.105433\" style=\"stroke: #000000; stroke-width: 0.6\"/>\n      </g>\n     </g>\n    </g>\n    <g id=\"ytick_32\">\n     <g id=\"line2d_37\">\n      <g>\n       <use xlink:href=\"#m38760ae2f0\" x=\"50.93375\" y=\"36.244378\" style=\"stroke: #000000; stroke-width: 0.6\"/>\n      </g>\n     </g>\n    </g>\n    <g id=\"ytick_33\">\n     <g id=\"line2d_38\">\n      <g>\n       <use xlink:href=\"#m38760ae2f0\" x=\"50.93375\" y=\"28.190474\" style=\"stroke: #000000; stroke-width: 0.6\"/>\n      </g>\n     </g>\n    </g>\n    <g id=\"text_11\">\n     <!-- Count -->\n     <g transform=\"translate(16.318125 127.383875) rotate(-90) scale(0.12 -0.12)\">\n      <defs>\n       <path id=\"DejaVuSans-43\" d=\"M 4122 4306 \nL 4122 3641 \nQ 3803 3938 3442 4084 \nQ 3081 4231 2675 4231 \nQ 1875 4231 1450 3742 \nQ 1025 3253 1025 2328 \nQ 1025 1406 1450 917 \nQ 1875 428 2675 428 \nQ 3081 428 3442 575 \nQ 3803 722 4122 1019 \nL 4122 359 \nQ 3791 134 3420 21 \nQ 3050 -91 2638 -91 \nQ 1578 -91 968 557 \nQ 359 1206 359 2328 \nQ 359 3453 968 4101 \nQ 1578 4750 2638 4750 \nQ 3056 4750 3426 4639 \nQ 3797 4528 4122 4306 \nz\n\" transform=\"scale(0.015625)\"/>\n       <path id=\"DejaVuSans-75\" d=\"M 544 1381 \nL 544 3500 \nL 1119 3500 \nL 1119 1403 \nQ 1119 906 1312 657 \nQ 1506 409 1894 409 \nQ 2359 409 2629 706 \nQ 2900 1003 2900 1516 \nL 2900 3500 \nL 3475 3500 \nL 3475 0 \nL 2900 0 \nL 2900 538 \nQ 2691 219 2414 64 \nQ 2138 -91 1772 -91 \nQ 1169 -91 856 284 \nQ 544 659 544 1381 \nz\nM 1991 3584 \nL 1991 3584 \nz\n\" transform=\"scale(0.015625)\"/>\n       <path id=\"DejaVuSans-6e\" d=\"M 3513 2113 \nL 3513 0 \nL 2938 0 \nL 2938 2094 \nQ 2938 2591 2744 2837 \nQ 2550 3084 2163 3084 \nQ 1697 3084 1428 2787 \nQ 1159 2491 1159 1978 \nL 1159 0 \nL 581 0 \nL 581 3500 \nL 1159 3500 \nL 1159 2956 \nQ 1366 3272 1645 3428 \nQ 1925 3584 2291 3584 \nQ 2894 3584 3203 3211 \nQ 3513 2838 3513 2113 \nz\n\" transform=\"scale(0.015625)\"/>\n      </defs>\n      <use xlink:href=\"#DejaVuSans-43\"/>\n      <use xlink:href=\"#DejaVuSans-6f\" x=\"69.824219\"/>\n      <use xlink:href=\"#DejaVuSans-75\" x=\"131.005859\"/>\n      <use xlink:href=\"#DejaVuSans-6e\" x=\"194.384766\"/>\n      <use xlink:href=\"#DejaVuSans-74\" x=\"257.763672\"/>\n     </g>\n    </g>\n   </g>\n   <g id=\"patch_102\">\n    <path d=\"M 50.93375 194.98975 \nL 50.93375 24.14175 \n\" style=\"fill: none; stroke: #000000; stroke-width: 0.8; stroke-linejoin: miter; stroke-linecap: square\"/>\n   </g>\n   <g id=\"patch_103\">\n    <path d=\"M 332.670648 194.98975 \nL 332.670648 24.14175 \n\" style=\"fill: none; stroke: #000000; stroke-width: 0.8; stroke-linejoin: miter; stroke-linecap: square\"/>\n   </g>\n   <g id=\"patch_104\">\n    <path d=\"M 50.93375 194.98975 \nL 332.670648 194.98975 \n\" style=\"fill: none; stroke: #000000; stroke-width: 0.8; stroke-linejoin: miter; stroke-linecap: square\"/>\n   </g>\n   <g id=\"patch_105\">\n    <path d=\"M 50.93375 24.14175 \nL 332.670648 24.14175 \n\" style=\"fill: none; stroke: #000000; stroke-width: 0.8; stroke-linejoin: miter; stroke-linecap: square\"/>\n   </g>\n   <g id=\"text_12\">\n    <!-- Probability distribution -->\n    <g transform=\"translate(110.426449 18.14175) scale(0.144 -0.144)\">\n     <defs>\n      <path id=\"DejaVuSans-20\" transform=\"scale(0.015625)\"/>\n      <path id=\"DejaVuSans-64\" d=\"M 2906 2969 \nL 2906 4863 \nL 3481 4863 \nL 3481 0 \nL 2906 0 \nL 2906 525 \nQ 2725 213 2448 61 \nQ 2172 -91 1784 -91 \nQ 1150 -91 751 415 \nQ 353 922 353 1747 \nQ 353 2572 751 3078 \nQ 1150 3584 1784 3584 \nQ 2172 3584 2448 3432 \nQ 2725 3281 2906 2969 \nz\nM 947 1747 \nQ 947 1113 1208 752 \nQ 1469 391 1925 391 \nQ 2381 391 2643 752 \nQ 2906 1113 2906 1747 \nQ 2906 2381 2643 2742 \nQ 2381 3103 1925 3103 \nQ 1469 3103 1208 2742 \nQ 947 2381 947 1747 \nz\n\" transform=\"scale(0.015625)\"/>\n      <path id=\"DejaVuSans-73\" d=\"M 2834 3397 \nL 2834 2853 \nQ 2591 2978 2328 3040 \nQ 2066 3103 1784 3103 \nQ 1356 3103 1142 2972 \nQ 928 2841 928 2578 \nQ 928 2378 1081 2264 \nQ 1234 2150 1697 2047 \nL 1894 2003 \nQ 2506 1872 2764 1633 \nQ 3022 1394 3022 966 \nQ 3022 478 2636 193 \nQ 2250 -91 1575 -91 \nQ 1294 -91 989 -36 \nQ 684 19 347 128 \nL 347 722 \nQ 666 556 975 473 \nQ 1284 391 1588 391 \nQ 1994 391 2212 530 \nQ 2431 669 2431 922 \nQ 2431 1156 2273 1281 \nQ 2116 1406 1581 1522 \nL 1381 1569 \nQ 847 1681 609 1914 \nQ 372 2147 372 2553 \nQ 372 3047 722 3315 \nQ 1072 3584 1716 3584 \nQ 2034 3584 2315 3537 \nQ 2597 3491 2834 3397 \nz\n\" transform=\"scale(0.015625)\"/>\n     </defs>\n     <use xlink:href=\"#DejaVuSans-50\"/>\n     <use xlink:href=\"#DejaVuSans-72\" x=\"58.552734\"/>\n     <use xlink:href=\"#DejaVuSans-6f\" x=\"97.416016\"/>\n     <use xlink:href=\"#DejaVuSans-62\" x=\"158.597656\"/>\n     <use xlink:href=\"#DejaVuSans-61\" x=\"222.074219\"/>\n     <use xlink:href=\"#DejaVuSans-62\" x=\"283.353516\"/>\n     <use xlink:href=\"#DejaVuSans-69\" x=\"346.830078\"/>\n     <use xlink:href=\"#DejaVuSans-6c\" x=\"374.613281\"/>\n     <use xlink:href=\"#DejaVuSans-69\" x=\"402.396484\"/>\n     <use xlink:href=\"#DejaVuSans-74\" x=\"430.179688\"/>\n     <use xlink:href=\"#DejaVuSans-79\" x=\"469.388672\"/>\n     <use xlink:href=\"#DejaVuSans-20\" x=\"528.568359\"/>\n     <use xlink:href=\"#DejaVuSans-64\" x=\"560.355469\"/>\n     <use xlink:href=\"#DejaVuSans-69\" x=\"623.832031\"/>\n     <use xlink:href=\"#DejaVuSans-73\" x=\"651.615234\"/>\n     <use xlink:href=\"#DejaVuSans-74\" x=\"703.714844\"/>\n     <use xlink:href=\"#DejaVuSans-72\" x=\"742.923828\"/>\n     <use xlink:href=\"#DejaVuSans-69\" x=\"784.037109\"/>\n     <use xlink:href=\"#DejaVuSans-62\" x=\"811.820312\"/>\n     <use xlink:href=\"#DejaVuSans-75\" x=\"875.296875\"/>\n     <use xlink:href=\"#DejaVuSans-74\" x=\"938.675781\"/>\n     <use xlink:href=\"#DejaVuSans-69\" x=\"977.884766\"/>\n     <use xlink:href=\"#DejaVuSans-6f\" x=\"1005.667969\"/>\n     <use xlink:href=\"#DejaVuSans-6e\" x=\"1066.849609\"/>\n    </g>\n   </g>\n  </g>\n  <g id=\"axes_2\">\n   <g id=\"patch_106\">\n    <path d=\"M 398.815744 194.98975 \nL 680.552643 194.98975 \nL 680.552643 24.14175 \nL 398.815744 24.14175 \nz\n\" style=\"fill: #ffffff\"/>\n   </g>\n   <g id=\"matplotlib.axis_3\">\n    <g id=\"xtick_6\">\n     <g id=\"line2d_39\">\n      <g>\n       <use xlink:href=\"#m2cffc9588a\" x=\"398.815744\" y=\"194.98975\" style=\"stroke: #000000; stroke-width: 0.8\"/>\n      </g>\n     </g>\n     <g id=\"text_13\">\n      <!-- 0 -->\n      <g transform=\"translate(394.998244 211.107875) scale(0.12 -0.12)\">\n       <use xlink:href=\"#DejaVuSans-30\"/>\n      </g>\n     </g>\n    </g>\n    <g id=\"xtick_7\">\n     <g id=\"line2d_40\">\n      <g>\n       <use xlink:href=\"#m2cffc9588a\" x=\"455.163124\" y=\"194.98975\" style=\"stroke: #000000; stroke-width: 0.8\"/>\n      </g>\n     </g>\n     <g id=\"text_14\">\n      <!-- 2000 -->\n      <g transform=\"translate(439.893124 211.107875) scale(0.12 -0.12)\">\n       <use xlink:href=\"#DejaVuSans-32\"/>\n       <use xlink:href=\"#DejaVuSans-30\" x=\"63.623047\"/>\n       <use xlink:href=\"#DejaVuSans-30\" x=\"127.246094\"/>\n       <use xlink:href=\"#DejaVuSans-30\" x=\"190.869141\"/>\n      </g>\n     </g>\n    </g>\n    <g id=\"xtick_8\">\n     <g id=\"line2d_41\">\n      <g>\n       <use xlink:href=\"#m2cffc9588a\" x=\"511.510504\" y=\"194.98975\" style=\"stroke: #000000; stroke-width: 0.8\"/>\n      </g>\n     </g>\n     <g id=\"text_15\">\n      <!-- 4000 -->\n      <g transform=\"translate(496.240504 211.107875) scale(0.12 -0.12)\">\n       <defs>\n        <path id=\"DejaVuSans-34\" d=\"M 2419 4116 \nL 825 1625 \nL 2419 1625 \nL 2419 4116 \nz\nM 2253 4666 \nL 3047 4666 \nL 3047 1625 \nL 3713 1625 \nL 3713 1100 \nL 3047 1100 \nL 3047 0 \nL 2419 0 \nL 2419 1100 \nL 313 1100 \nL 313 1709 \nL 2253 4666 \nz\n\" transform=\"scale(0.015625)\"/>\n       </defs>\n       <use xlink:href=\"#DejaVuSans-34\"/>\n       <use xlink:href=\"#DejaVuSans-30\" x=\"63.623047\"/>\n       <use xlink:href=\"#DejaVuSans-30\" x=\"127.246094\"/>\n       <use xlink:href=\"#DejaVuSans-30\" x=\"190.869141\"/>\n      </g>\n     </g>\n    </g>\n    <g id=\"xtick_9\">\n     <g id=\"line2d_42\">\n      <g>\n       <use xlink:href=\"#m2cffc9588a\" x=\"567.857883\" y=\"194.98975\" style=\"stroke: #000000; stroke-width: 0.8\"/>\n      </g>\n     </g>\n     <g id=\"text_16\">\n      <!-- 6000 -->\n      <g transform=\"translate(552.587883 211.107875) scale(0.12 -0.12)\">\n       <defs>\n        <path id=\"DejaVuSans-36\" d=\"M 2113 2584 \nQ 1688 2584 1439 2293 \nQ 1191 2003 1191 1497 \nQ 1191 994 1439 701 \nQ 1688 409 2113 409 \nQ 2538 409 2786 701 \nQ 3034 994 3034 1497 \nQ 3034 2003 2786 2293 \nQ 2538 2584 2113 2584 \nz\nM 3366 4563 \nL 3366 3988 \nQ 3128 4100 2886 4159 \nQ 2644 4219 2406 4219 \nQ 1781 4219 1451 3797 \nQ 1122 3375 1075 2522 \nQ 1259 2794 1537 2939 \nQ 1816 3084 2150 3084 \nQ 2853 3084 3261 2657 \nQ 3669 2231 3669 1497 \nQ 3669 778 3244 343 \nQ 2819 -91 2113 -91 \nQ 1303 -91 875 529 \nQ 447 1150 447 2328 \nQ 447 3434 972 4092 \nQ 1497 4750 2381 4750 \nQ 2619 4750 2861 4703 \nQ 3103 4656 3366 4563 \nz\n\" transform=\"scale(0.015625)\"/>\n       </defs>\n       <use xlink:href=\"#DejaVuSans-36\"/>\n       <use xlink:href=\"#DejaVuSans-30\" x=\"63.623047\"/>\n       <use xlink:href=\"#DejaVuSans-30\" x=\"127.246094\"/>\n       <use xlink:href=\"#DejaVuSans-30\" x=\"190.869141\"/>\n      </g>\n     </g>\n    </g>\n    <g id=\"xtick_10\">\n     <g id=\"line2d_43\">\n      <g>\n       <use xlink:href=\"#m2cffc9588a\" x=\"624.205263\" y=\"194.98975\" style=\"stroke: #000000; stroke-width: 0.8\"/>\n      </g>\n     </g>\n     <g id=\"text_17\">\n      <!-- 8000 -->\n      <g transform=\"translate(608.935263 211.107875) scale(0.12 -0.12)\">\n       <defs>\n        <path id=\"DejaVuSans-38\" d=\"M 2034 2216 \nQ 1584 2216 1326 1975 \nQ 1069 1734 1069 1313 \nQ 1069 891 1326 650 \nQ 1584 409 2034 409 \nQ 2484 409 2743 651 \nQ 3003 894 3003 1313 \nQ 3003 1734 2745 1975 \nQ 2488 2216 2034 2216 \nz\nM 1403 2484 \nQ 997 2584 770 2862 \nQ 544 3141 544 3541 \nQ 544 4100 942 4425 \nQ 1341 4750 2034 4750 \nQ 2731 4750 3128 4425 \nQ 3525 4100 3525 3541 \nQ 3525 3141 3298 2862 \nQ 3072 2584 2669 2484 \nQ 3125 2378 3379 2068 \nQ 3634 1759 3634 1313 \nQ 3634 634 3220 271 \nQ 2806 -91 2034 -91 \nQ 1263 -91 848 271 \nQ 434 634 434 1313 \nQ 434 1759 690 2068 \nQ 947 2378 1403 2484 \nz\nM 1172 3481 \nQ 1172 3119 1398 2916 \nQ 1625 2713 2034 2713 \nQ 2441 2713 2670 2916 \nQ 2900 3119 2900 3481 \nQ 2900 3844 2670 4047 \nQ 2441 4250 2034 4250 \nQ 1625 4250 1398 4047 \nQ 1172 3844 1172 3481 \nz\n\" transform=\"scale(0.015625)\"/>\n       </defs>\n       <use xlink:href=\"#DejaVuSans-38\"/>\n       <use xlink:href=\"#DejaVuSans-30\" x=\"63.623047\"/>\n       <use xlink:href=\"#DejaVuSans-30\" x=\"127.246094\"/>\n       <use xlink:href=\"#DejaVuSans-30\" x=\"190.869141\"/>\n      </g>\n     </g>\n    </g>\n    <g id=\"xtick_11\">\n     <g id=\"line2d_44\">\n      <g>\n       <use xlink:href=\"#m2cffc9588a\" x=\"680.552643\" y=\"194.98975\" style=\"stroke: #000000; stroke-width: 0.8\"/>\n      </g>\n     </g>\n     <g id=\"text_18\">\n      <!-- 10000 -->\n      <g transform=\"translate(661.465143 211.107875) scale(0.12 -0.12)\">\n       <use xlink:href=\"#DejaVuSans-31\"/>\n       <use xlink:href=\"#DejaVuSans-30\" x=\"63.623047\"/>\n       <use xlink:href=\"#DejaVuSans-30\" x=\"127.246094\"/>\n       <use xlink:href=\"#DejaVuSans-30\" x=\"190.869141\"/>\n       <use xlink:href=\"#DejaVuSans-30\" x=\"254.492188\"/>\n      </g>\n     </g>\n    </g>\n    <g id=\"xtick_12\">\n     <g id=\"line2d_45\">\n      <defs>\n       <path id=\"m6940ab6b31\" d=\"M 0 0 \nL 0 2 \n\" style=\"stroke: #000000; stroke-width: 0.6\"/>\n      </defs>\n      <g>\n       <use xlink:href=\"#m6940ab6b31\" x=\"412.902589\" y=\"194.98975\" style=\"stroke: #000000; stroke-width: 0.6\"/>\n      </g>\n     </g>\n    </g>\n    <g id=\"xtick_13\">\n     <g id=\"line2d_46\">\n      <g>\n       <use xlink:href=\"#m6940ab6b31\" x=\"426.989434\" y=\"194.98975\" style=\"stroke: #000000; stroke-width: 0.6\"/>\n      </g>\n     </g>\n    </g>\n    <g id=\"xtick_14\">\n     <g id=\"line2d_47\">\n      <g>\n       <use xlink:href=\"#m6940ab6b31\" x=\"441.076279\" y=\"194.98975\" style=\"stroke: #000000; stroke-width: 0.6\"/>\n      </g>\n     </g>\n    </g>\n    <g id=\"xtick_15\">\n     <g id=\"line2d_48\">\n      <g>\n       <use xlink:href=\"#m6940ab6b31\" x=\"469.249969\" y=\"194.98975\" style=\"stroke: #000000; stroke-width: 0.6\"/>\n      </g>\n     </g>\n    </g>\n    <g id=\"xtick_16\">\n     <g id=\"line2d_49\">\n      <g>\n       <use xlink:href=\"#m6940ab6b31\" x=\"483.336814\" y=\"194.98975\" style=\"stroke: #000000; stroke-width: 0.6\"/>\n      </g>\n     </g>\n    </g>\n    <g id=\"xtick_17\">\n     <g id=\"line2d_50\">\n      <g>\n       <use xlink:href=\"#m6940ab6b31\" x=\"497.423659\" y=\"194.98975\" style=\"stroke: #000000; stroke-width: 0.6\"/>\n      </g>\n     </g>\n    </g>\n    <g id=\"xtick_18\">\n     <g id=\"line2d_51\">\n      <g>\n       <use xlink:href=\"#m6940ab6b31\" x=\"525.597348\" y=\"194.98975\" style=\"stroke: #000000; stroke-width: 0.6\"/>\n      </g>\n     </g>\n    </g>\n    <g id=\"xtick_19\">\n     <g id=\"line2d_52\">\n      <g>\n       <use xlink:href=\"#m6940ab6b31\" x=\"539.684193\" y=\"194.98975\" style=\"stroke: #000000; stroke-width: 0.6\"/>\n      </g>\n     </g>\n    </g>\n    <g id=\"xtick_20\">\n     <g id=\"line2d_53\">\n      <g>\n       <use xlink:href=\"#m6940ab6b31\" x=\"553.771038\" y=\"194.98975\" style=\"stroke: #000000; stroke-width: 0.6\"/>\n      </g>\n     </g>\n    </g>\n    <g id=\"xtick_21\">\n     <g id=\"line2d_54\">\n      <g>\n       <use xlink:href=\"#m6940ab6b31\" x=\"581.944728\" y=\"194.98975\" style=\"stroke: #000000; stroke-width: 0.6\"/>\n      </g>\n     </g>\n    </g>\n    <g id=\"xtick_22\">\n     <g id=\"line2d_55\">\n      <g>\n       <use xlink:href=\"#m6940ab6b31\" x=\"596.031573\" y=\"194.98975\" style=\"stroke: #000000; stroke-width: 0.6\"/>\n      </g>\n     </g>\n    </g>\n    <g id=\"xtick_23\">\n     <g id=\"line2d_56\">\n      <g>\n       <use xlink:href=\"#m6940ab6b31\" x=\"610.118418\" y=\"194.98975\" style=\"stroke: #000000; stroke-width: 0.6\"/>\n      </g>\n     </g>\n    </g>\n    <g id=\"xtick_24\">\n     <g id=\"line2d_57\">\n      <g>\n       <use xlink:href=\"#m6940ab6b31\" x=\"638.292108\" y=\"194.98975\" style=\"stroke: #000000; stroke-width: 0.6\"/>\n      </g>\n     </g>\n    </g>\n    <g id=\"xtick_25\">\n     <g id=\"line2d_58\">\n      <g>\n       <use xlink:href=\"#m6940ab6b31\" x=\"652.378953\" y=\"194.98975\" style=\"stroke: #000000; stroke-width: 0.6\"/>\n      </g>\n     </g>\n    </g>\n    <g id=\"xtick_26\">\n     <g id=\"line2d_59\">\n      <g>\n       <use xlink:href=\"#m6940ab6b31\" x=\"666.465798\" y=\"194.98975\" style=\"stroke: #000000; stroke-width: 0.6\"/>\n      </g>\n     </g>\n    </g>\n    <g id=\"text_19\">\n     <!-- Token (descending probability) -->\n     <g transform=\"translate(447.602943 226.721625) scale(0.12 -0.12)\">\n      <defs>\n       <path id=\"DejaVuSans-54\" d=\"M -19 4666 \nL 3928 4666 \nL 3928 4134 \nL 2272 4134 \nL 2272 0 \nL 1638 0 \nL 1638 4134 \nL -19 4134 \nL -19 4666 \nz\n\" transform=\"scale(0.015625)\"/>\n       <path id=\"DejaVuSans-6b\" d=\"M 581 4863 \nL 1159 4863 \nL 1159 1991 \nL 2875 3500 \nL 3609 3500 \nL 1753 1863 \nL 3688 0 \nL 2938 0 \nL 1159 1709 \nL 1159 0 \nL 581 0 \nL 581 4863 \nz\n\" transform=\"scale(0.015625)\"/>\n       <path id=\"DejaVuSans-65\" d=\"M 3597 1894 \nL 3597 1613 \nL 953 1613 \nQ 991 1019 1311 708 \nQ 1631 397 2203 397 \nQ 2534 397 2845 478 \nQ 3156 559 3463 722 \nL 3463 178 \nQ 3153 47 2828 -22 \nQ 2503 -91 2169 -91 \nQ 1331 -91 842 396 \nQ 353 884 353 1716 \nQ 353 2575 817 3079 \nQ 1281 3584 2069 3584 \nQ 2775 3584 3186 3129 \nQ 3597 2675 3597 1894 \nz\nM 3022 2063 \nQ 3016 2534 2758 2815 \nQ 2500 3097 2075 3097 \nQ 1594 3097 1305 2825 \nQ 1016 2553 972 2059 \nL 3022 2063 \nz\n\" transform=\"scale(0.015625)\"/>\n       <path id=\"DejaVuSans-28\" d=\"M 1984 4856 \nQ 1566 4138 1362 3434 \nQ 1159 2731 1159 2009 \nQ 1159 1288 1364 580 \nQ 1569 -128 1984 -844 \nL 1484 -844 \nQ 1016 -109 783 600 \nQ 550 1309 550 2009 \nQ 550 2706 781 3412 \nQ 1013 4119 1484 4856 \nL 1984 4856 \nz\n\" transform=\"scale(0.015625)\"/>\n       <path id=\"DejaVuSans-63\" d=\"M 3122 3366 \nL 3122 2828 \nQ 2878 2963 2633 3030 \nQ 2388 3097 2138 3097 \nQ 1578 3097 1268 2742 \nQ 959 2388 959 1747 \nQ 959 1106 1268 751 \nQ 1578 397 2138 397 \nQ 2388 397 2633 464 \nQ 2878 531 3122 666 \nL 3122 134 \nQ 2881 22 2623 -34 \nQ 2366 -91 2075 -91 \nQ 1284 -91 818 406 \nQ 353 903 353 1747 \nQ 353 2603 823 3093 \nQ 1294 3584 2113 3584 \nQ 2378 3584 2631 3529 \nQ 2884 3475 3122 3366 \nz\n\" transform=\"scale(0.015625)\"/>\n       <path id=\"DejaVuSans-67\" d=\"M 2906 1791 \nQ 2906 2416 2648 2759 \nQ 2391 3103 1925 3103 \nQ 1463 3103 1205 2759 \nQ 947 2416 947 1791 \nQ 947 1169 1205 825 \nQ 1463 481 1925 481 \nQ 2391 481 2648 825 \nQ 2906 1169 2906 1791 \nz\nM 3481 434 \nQ 3481 -459 3084 -895 \nQ 2688 -1331 1869 -1331 \nQ 1566 -1331 1297 -1286 \nQ 1028 -1241 775 -1147 \nL 775 -588 \nQ 1028 -725 1275 -790 \nQ 1522 -856 1778 -856 \nQ 2344 -856 2625 -561 \nQ 2906 -266 2906 331 \nL 2906 616 \nQ 2728 306 2450 153 \nQ 2172 0 1784 0 \nQ 1141 0 747 490 \nQ 353 981 353 1791 \nQ 353 2603 747 3093 \nQ 1141 3584 1784 3584 \nQ 2172 3584 2450 3431 \nQ 2728 3278 2906 2969 \nL 2906 3500 \nL 3481 3500 \nL 3481 434 \nz\n\" transform=\"scale(0.015625)\"/>\n       <path id=\"DejaVuSans-70\" d=\"M 1159 525 \nL 1159 -1331 \nL 581 -1331 \nL 581 3500 \nL 1159 3500 \nL 1159 2969 \nQ 1341 3281 1617 3432 \nQ 1894 3584 2278 3584 \nQ 2916 3584 3314 3078 \nQ 3713 2572 3713 1747 \nQ 3713 922 3314 415 \nQ 2916 -91 2278 -91 \nQ 1894 -91 1617 61 \nQ 1341 213 1159 525 \nz\nM 3116 1747 \nQ 3116 2381 2855 2742 \nQ 2594 3103 2138 3103 \nQ 1681 3103 1420 2742 \nQ 1159 2381 1159 1747 \nQ 1159 1113 1420 752 \nQ 1681 391 2138 391 \nQ 2594 391 2855 752 \nQ 3116 1113 3116 1747 \nz\n\" transform=\"scale(0.015625)\"/>\n       <path id=\"DejaVuSans-29\" d=\"M 513 4856 \nL 1013 4856 \nQ 1481 4119 1714 3412 \nQ 1947 2706 1947 2009 \nQ 1947 1309 1714 600 \nQ 1481 -109 1013 -844 \nL 513 -844 \nQ 928 -128 1133 580 \nQ 1338 1288 1338 2009 \nQ 1338 2731 1133 3434 \nQ 928 4138 513 4856 \nz\n\" transform=\"scale(0.015625)\"/>\n      </defs>\n      <use xlink:href=\"#DejaVuSans-54\"/>\n      <use xlink:href=\"#DejaVuSans-6f\" x=\"44.083984\"/>\n      <use xlink:href=\"#DejaVuSans-6b\" x=\"105.265625\"/>\n      <use xlink:href=\"#DejaVuSans-65\" x=\"159.550781\"/>\n      <use xlink:href=\"#DejaVuSans-6e\" x=\"221.074219\"/>\n      <use xlink:href=\"#DejaVuSans-20\" x=\"284.453125\"/>\n      <use xlink:href=\"#DejaVuSans-28\" x=\"316.240234\"/>\n      <use xlink:href=\"#DejaVuSans-64\" x=\"355.253906\"/>\n      <use xlink:href=\"#DejaVuSans-65\" x=\"418.730469\"/>\n      <use xlink:href=\"#DejaVuSans-73\" x=\"480.253906\"/>\n      <use xlink:href=\"#DejaVuSans-63\" x=\"532.353516\"/>\n      <use xlink:href=\"#DejaVuSans-65\" x=\"587.333984\"/>\n      <use xlink:href=\"#DejaVuSans-6e\" x=\"648.857422\"/>\n      <use xlink:href=\"#DejaVuSans-64\" x=\"712.236328\"/>\n      <use xlink:href=\"#DejaVuSans-69\" x=\"775.712891\"/>\n      <use xlink:href=\"#DejaVuSans-6e\" x=\"803.496094\"/>\n      <use xlink:href=\"#DejaVuSans-67\" x=\"866.875\"/>\n      <use xlink:href=\"#DejaVuSans-20\" x=\"930.351562\"/>\n      <use xlink:href=\"#DejaVuSans-70\" x=\"962.138672\"/>\n      <use xlink:href=\"#DejaVuSans-72\" x=\"1025.615234\"/>\n      <use xlink:href=\"#DejaVuSans-6f\" x=\"1064.478516\"/>\n      <use xlink:href=\"#DejaVuSans-62\" x=\"1125.660156\"/>\n      <use xlink:href=\"#DejaVuSans-61\" x=\"1189.136719\"/>\n      <use xlink:href=\"#DejaVuSans-62\" x=\"1250.416016\"/>\n      <use xlink:href=\"#DejaVuSans-69\" x=\"1313.892578\"/>\n      <use xlink:href=\"#DejaVuSans-6c\" x=\"1341.675781\"/>\n      <use xlink:href=\"#DejaVuSans-69\" x=\"1369.458984\"/>\n      <use xlink:href=\"#DejaVuSans-74\" x=\"1397.242188\"/>\n      <use xlink:href=\"#DejaVuSans-79\" x=\"1436.451172\"/>\n      <use xlink:href=\"#DejaVuSans-29\" x=\"1495.630859\"/>\n     </g>\n    </g>\n   </g>\n   <g id=\"matplotlib.axis_4\">\n    <g id=\"ytick_34\">\n     <g id=\"line2d_60\">\n      <g>\n       <use xlink:href=\"#m721082a30c\" x=\"398.815744\" y=\"194.98975\" style=\"stroke: #000000; stroke-width: 0.8\"/>\n      </g>\n     </g>\n     <g id=\"text_20\">\n      <!-- 0.75 -->\n      <g transform=\"translate(365.096994 199.548812) scale(0.12 -0.12)\">\n       <defs>\n        <path id=\"DejaVuSans-2e\" d=\"M 684 794 \nL 1344 794 \nL 1344 0 \nL 684 0 \nL 684 794 \nz\n\" transform=\"scale(0.015625)\"/>\n       </defs>\n       <use xlink:href=\"#DejaVuSans-30\"/>\n       <use xlink:href=\"#DejaVuSans-2e\" x=\"63.623047\"/>\n       <use xlink:href=\"#DejaVuSans-37\" x=\"95.410156\"/>\n       <use xlink:href=\"#DejaVuSans-35\" x=\"159.033203\"/>\n      </g>\n     </g>\n    </g>\n    <g id=\"ytick_35\">\n     <g id=\"line2d_61\">\n      <g>\n       <use xlink:href=\"#m721082a30c\" x=\"398.815744\" y=\"162.134365\" style=\"stroke: #000000; stroke-width: 0.8\"/>\n      </g>\n     </g>\n     <g id=\"text_21\">\n      <!-- 0.80 -->\n      <g transform=\"translate(365.096994 166.693428) scale(0.12 -0.12)\">\n       <use xlink:href=\"#DejaVuSans-30\"/>\n       <use xlink:href=\"#DejaVuSans-2e\" x=\"63.623047\"/>\n       <use xlink:href=\"#DejaVuSans-38\" x=\"95.410156\"/>\n       <use xlink:href=\"#DejaVuSans-30\" x=\"159.033203\"/>\n      </g>\n     </g>\n    </g>\n    <g id=\"ytick_36\">\n     <g id=\"line2d_62\">\n      <g>\n       <use xlink:href=\"#m721082a30c\" x=\"398.815744\" y=\"129.278981\" style=\"stroke: #000000; stroke-width: 0.8\"/>\n      </g>\n     </g>\n     <g id=\"text_22\">\n      <!-- 0.85 -->\n      <g transform=\"translate(365.096994 133.838043) scale(0.12 -0.12)\">\n       <use xlink:href=\"#DejaVuSans-30\"/>\n       <use xlink:href=\"#DejaVuSans-2e\" x=\"63.623047\"/>\n       <use xlink:href=\"#DejaVuSans-38\" x=\"95.410156\"/>\n       <use xlink:href=\"#DejaVuSans-35\" x=\"159.033203\"/>\n      </g>\n     </g>\n    </g>\n    <g id=\"ytick_37\">\n     <g id=\"line2d_63\">\n      <g>\n       <use xlink:href=\"#m721082a30c\" x=\"398.815744\" y=\"96.423596\" style=\"stroke: #000000; stroke-width: 0.8\"/>\n      </g>\n     </g>\n     <g id=\"text_23\">\n      <!-- 0.90 -->\n      <g transform=\"translate(365.096994 100.982659) scale(0.12 -0.12)\">\n       <use xlink:href=\"#DejaVuSans-30\"/>\n       <use xlink:href=\"#DejaVuSans-2e\" x=\"63.623047\"/>\n       <use xlink:href=\"#DejaVuSans-39\" x=\"95.410156\"/>\n       <use xlink:href=\"#DejaVuSans-30\" x=\"159.033203\"/>\n      </g>\n     </g>\n    </g>\n    <g id=\"ytick_38\">\n     <g id=\"line2d_64\">\n      <g>\n       <use xlink:href=\"#m721082a30c\" x=\"398.815744\" y=\"63.568212\" style=\"stroke: #000000; stroke-width: 0.8\"/>\n      </g>\n     </g>\n     <g id=\"text_24\">\n      <!-- 0.95 -->\n      <g transform=\"translate(365.096994 68.127274) scale(0.12 -0.12)\">\n       <use xlink:href=\"#DejaVuSans-30\"/>\n       <use xlink:href=\"#DejaVuSans-2e\" x=\"63.623047\"/>\n       <use xlink:href=\"#DejaVuSans-39\" x=\"95.410156\"/>\n       <use xlink:href=\"#DejaVuSans-35\" x=\"159.033203\"/>\n      </g>\n     </g>\n    </g>\n    <g id=\"ytick_39\">\n     <g id=\"line2d_65\">\n      <g>\n       <use xlink:href=\"#m721082a30c\" x=\"398.815744\" y=\"30.712827\" style=\"stroke: #000000; stroke-width: 0.8\"/>\n      </g>\n     </g>\n     <g id=\"text_25\">\n      <!-- 1.00 -->\n      <g transform=\"translate(365.096994 35.271889) scale(0.12 -0.12)\">\n       <use xlink:href=\"#DejaVuSans-31\"/>\n       <use xlink:href=\"#DejaVuSans-2e\" x=\"63.623047\"/>\n       <use xlink:href=\"#DejaVuSans-30\" x=\"95.410156\"/>\n       <use xlink:href=\"#DejaVuSans-30\" x=\"159.033203\"/>\n      </g>\n     </g>\n    </g>\n    <g id=\"ytick_40\">\n     <g id=\"line2d_66\">\n      <g>\n       <use xlink:href=\"#m38760ae2f0\" x=\"398.815744\" y=\"188.418673\" style=\"stroke: #000000; stroke-width: 0.6\"/>\n      </g>\n     </g>\n    </g>\n    <g id=\"ytick_41\">\n     <g id=\"line2d_67\">\n      <g>\n       <use xlink:href=\"#m38760ae2f0\" x=\"398.815744\" y=\"181.847596\" style=\"stroke: #000000; stroke-width: 0.6\"/>\n      </g>\n     </g>\n    </g>\n    <g id=\"ytick_42\">\n     <g id=\"line2d_68\">\n      <g>\n       <use xlink:href=\"#m38760ae2f0\" x=\"398.815744\" y=\"175.276519\" style=\"stroke: #000000; stroke-width: 0.6\"/>\n      </g>\n     </g>\n    </g>\n    <g id=\"ytick_43\">\n     <g id=\"line2d_69\">\n      <g>\n       <use xlink:href=\"#m38760ae2f0\" x=\"398.815744\" y=\"168.705442\" style=\"stroke: #000000; stroke-width: 0.6\"/>\n      </g>\n     </g>\n    </g>\n    <g id=\"ytick_44\">\n     <g id=\"line2d_70\">\n      <g>\n       <use xlink:href=\"#m38760ae2f0\" x=\"398.815744\" y=\"155.563288\" style=\"stroke: #000000; stroke-width: 0.6\"/>\n      </g>\n     </g>\n    </g>\n    <g id=\"ytick_45\">\n     <g id=\"line2d_71\">\n      <g>\n       <use xlink:href=\"#m38760ae2f0\" x=\"398.815744\" y=\"148.992212\" style=\"stroke: #000000; stroke-width: 0.6\"/>\n      </g>\n     </g>\n    </g>\n    <g id=\"ytick_46\">\n     <g id=\"line2d_72\">\n      <g>\n       <use xlink:href=\"#m38760ae2f0\" x=\"398.815744\" y=\"142.421135\" style=\"stroke: #000000; stroke-width: 0.6\"/>\n      </g>\n     </g>\n    </g>\n    <g id=\"ytick_47\">\n     <g id=\"line2d_73\">\n      <g>\n       <use xlink:href=\"#m38760ae2f0\" x=\"398.815744\" y=\"135.850058\" style=\"stroke: #000000; stroke-width: 0.6\"/>\n      </g>\n     </g>\n    </g>\n    <g id=\"ytick_48\">\n     <g id=\"line2d_74\">\n      <g>\n       <use xlink:href=\"#m38760ae2f0\" x=\"398.815744\" y=\"122.707904\" style=\"stroke: #000000; stroke-width: 0.6\"/>\n      </g>\n     </g>\n    </g>\n    <g id=\"ytick_49\">\n     <g id=\"line2d_75\">\n      <g>\n       <use xlink:href=\"#m38760ae2f0\" x=\"398.815744\" y=\"116.136827\" style=\"stroke: #000000; stroke-width: 0.6\"/>\n      </g>\n     </g>\n    </g>\n    <g id=\"ytick_50\">\n     <g id=\"line2d_76\">\n      <g>\n       <use xlink:href=\"#m38760ae2f0\" x=\"398.815744\" y=\"109.56575\" style=\"stroke: #000000; stroke-width: 0.6\"/>\n      </g>\n     </g>\n    </g>\n    <g id=\"ytick_51\">\n     <g id=\"line2d_77\">\n      <g>\n       <use xlink:href=\"#m38760ae2f0\" x=\"398.815744\" y=\"102.994673\" style=\"stroke: #000000; stroke-width: 0.6\"/>\n      </g>\n     </g>\n    </g>\n    <g id=\"ytick_52\">\n     <g id=\"line2d_78\">\n      <g>\n       <use xlink:href=\"#m38760ae2f0\" x=\"398.815744\" y=\"89.852519\" style=\"stroke: #000000; stroke-width: 0.6\"/>\n      </g>\n     </g>\n    </g>\n    <g id=\"ytick_53\">\n     <g id=\"line2d_79\">\n      <g>\n       <use xlink:href=\"#m38760ae2f0\" x=\"398.815744\" y=\"83.281442\" style=\"stroke: #000000; stroke-width: 0.6\"/>\n      </g>\n     </g>\n    </g>\n    <g id=\"ytick_54\">\n     <g id=\"line2d_80\">\n      <g>\n       <use xlink:href=\"#m38760ae2f0\" x=\"398.815744\" y=\"76.710365\" style=\"stroke: #000000; stroke-width: 0.6\"/>\n      </g>\n     </g>\n    </g>\n    <g id=\"ytick_55\">\n     <g id=\"line2d_81\">\n      <g>\n       <use xlink:href=\"#m38760ae2f0\" x=\"398.815744\" y=\"70.139288\" style=\"stroke: #000000; stroke-width: 0.6\"/>\n      </g>\n     </g>\n    </g>\n    <g id=\"ytick_56\">\n     <g id=\"line2d_82\">\n      <g>\n       <use xlink:href=\"#m38760ae2f0\" x=\"398.815744\" y=\"56.997135\" style=\"stroke: #000000; stroke-width: 0.6\"/>\n      </g>\n     </g>\n    </g>\n    <g id=\"ytick_57\">\n     <g id=\"line2d_83\">\n      <g>\n       <use xlink:href=\"#m38760ae2f0\" x=\"398.815744\" y=\"50.426058\" style=\"stroke: #000000; stroke-width: 0.6\"/>\n      </g>\n     </g>\n    </g>\n    <g id=\"ytick_58\">\n     <g id=\"line2d_84\">\n      <g>\n       <use xlink:href=\"#m38760ae2f0\" x=\"398.815744\" y=\"43.854981\" style=\"stroke: #000000; stroke-width: 0.6\"/>\n      </g>\n     </g>\n    </g>\n    <g id=\"ytick_59\">\n     <g id=\"line2d_85\">\n      <g>\n       <use xlink:href=\"#m38760ae2f0\" x=\"398.815744\" y=\"37.283904\" style=\"stroke: #000000; stroke-width: 0.6\"/>\n      </g>\n     </g>\n    </g>\n    <g id=\"ytick_60\">\n     <g id=\"line2d_86\">\n      <g>\n       <use xlink:href=\"#m38760ae2f0\" x=\"398.815744\" y=\"24.14175\" style=\"stroke: #000000; stroke-width: 0.6\"/>\n      </g>\n     </g>\n    </g>\n    <g id=\"text_26\">\n     <!-- Probability -->\n     <g transform=\"translate(358.601369 141.280438) rotate(-90) scale(0.12 -0.12)\">\n      <use xlink:href=\"#DejaVuSans-50\"/>\n      <use xlink:href=\"#DejaVuSans-72\" x=\"58.552734\"/>\n      <use xlink:href=\"#DejaVuSans-6f\" x=\"97.416016\"/>\n      <use xlink:href=\"#DejaVuSans-62\" x=\"158.597656\"/>\n      <use xlink:href=\"#DejaVuSans-61\" x=\"222.074219\"/>\n      <use xlink:href=\"#DejaVuSans-62\" x=\"283.353516\"/>\n      <use xlink:href=\"#DejaVuSans-69\" x=\"346.830078\"/>\n      <use xlink:href=\"#DejaVuSans-6c\" x=\"374.613281\"/>\n      <use xlink:href=\"#DejaVuSans-69\" x=\"402.396484\"/>\n      <use xlink:href=\"#DejaVuSans-74\" x=\"430.179688\"/>\n      <use xlink:href=\"#DejaVuSans-79\" x=\"469.388672\"/>\n     </g>\n    </g>\n   </g>\n   <g id=\"line2d_87\">\n    <path d=\"M 399.997024 237.41725 \nL 400.562513 207.979925 \nL 401.238682 183.407461 \nL 401.886676 167.909131 \nL 402.760061 153.104129 \nL 403.661619 140.766001 \nL 404.732219 129.283626 \nL 405.859167 119.514205 \nL 407.155156 110.232096 \nL 408.563841 101.902324 \nL 409.916178 95.354714 \nL 411.240341 89.97858 \nL 412.818068 84.574558 \nL 414.508489 79.575755 \nL 416.086216 75.562503 \nL 417.889332 71.607335 \nL 419.889664 67.711035 \nL 421.777301 64.531563 \nL 424.172065 60.952003 \nL 426.42596 57.971968 \nL 428.764377 55.238879 \nL 431.187314 52.748466 \nL 433.497556 50.6657 \nL 436.145883 48.575179 \nL 439.188642 46.464918 \nL 442.344095 44.564825 \nL 445.555896 42.904041 \nL 449.190302 41.273415 \nL 452.740187 39.91296 \nL 456.825372 38.587756 \nL 461.69942 37.253504 \nL 466.573468 36.147712 \nL 471.813775 35.19651 \nL 477.871118 34.314986 \nL 484.632803 33.571367 \nL 492.859521 32.905181 \nL 501.734233 32.399265 \nL 513.708051 31.944188 \nL 529.767055 31.586283 \nL 552.531396 31.317599 \nL 591.918214 31.100146 \nL 651.082963 30.964473 \nL 680.580816 30.923465 \nL 680.580816 30.923465 \n\" clip-path=\"url(#pb2c4b29990)\" style=\"fill: none; stroke: #000000; stroke-width: 1.5; stroke-linecap: square\"/>\n   </g>\n   <g id=\"LineCollection_1\">\n    <path d=\"M 455.163124 237.41725 \nL 455.163124 -1 \n\" clip-path=\"url(#pb2c4b29990)\" style=\"fill: none; stroke: #0071bc; stroke-width: 1.5\"/>\n   </g>\n   <g id=\"LineCollection_2\">\n    <path d=\"M 398.815744 63.568212 \nL 680.552643 63.568212 \n\" clip-path=\"url(#pb2c4b29990)\" style=\"fill: none; stroke-dasharray: 5.55,2.4; stroke-dashoffset: 0; stroke: #f7931e; stroke-width: 1.5\"/>\n   </g>\n   <g id=\"patch_107\">\n    <path d=\"M 398.815744 194.98975 \nL 398.815744 24.14175 \n\" style=\"fill: none; stroke: #000000; stroke-width: 0.8; stroke-linejoin: miter; stroke-linecap: square\"/>\n   </g>\n   <g id=\"patch_108\">\n    <path d=\"M 680.552643 194.98975 \nL 680.552643 24.14175 \n\" style=\"fill: none; stroke: #000000; stroke-width: 0.8; stroke-linejoin: miter; stroke-linecap: square\"/>\n   </g>\n   <g id=\"patch_109\">\n    <path d=\"M 398.815744 194.98975 \nL 680.552643 194.98975 \n\" style=\"fill: none; stroke: #000000; stroke-width: 0.8; stroke-linejoin: miter; stroke-linecap: square\"/>\n   </g>\n   <g id=\"patch_110\">\n    <path d=\"M 398.815744 24.14175 \nL 680.552643 24.14175 \n\" style=\"fill: none; stroke: #000000; stroke-width: 0.8; stroke-linejoin: miter; stroke-linecap: square\"/>\n   </g>\n   <g id=\"text_27\">\n    <!-- Cumulative probability -->\n    <g transform=\"translate(457.888818 18.14175) scale(0.144 -0.144)\">\n     <defs>\n      <path id=\"DejaVuSans-6d\" d=\"M 3328 2828 \nQ 3544 3216 3844 3400 \nQ 4144 3584 4550 3584 \nQ 5097 3584 5394 3201 \nQ 5691 2819 5691 2113 \nL 5691 0 \nL 5113 0 \nL 5113 2094 \nQ 5113 2597 4934 2840 \nQ 4756 3084 4391 3084 \nQ 3944 3084 3684 2787 \nQ 3425 2491 3425 1978 \nL 3425 0 \nL 2847 0 \nL 2847 2094 \nQ 2847 2600 2669 2842 \nQ 2491 3084 2119 3084 \nQ 1678 3084 1418 2786 \nQ 1159 2488 1159 1978 \nL 1159 0 \nL 581 0 \nL 581 3500 \nL 1159 3500 \nL 1159 2956 \nQ 1356 3278 1631 3431 \nQ 1906 3584 2284 3584 \nQ 2666 3584 2933 3390 \nQ 3200 3197 3328 2828 \nz\n\" transform=\"scale(0.015625)\"/>\n      <path id=\"DejaVuSans-76\" d=\"M 191 3500 \nL 800 3500 \nL 1894 563 \nL 2988 3500 \nL 3597 3500 \nL 2284 0 \nL 1503 0 \nL 191 3500 \nz\n\" transform=\"scale(0.015625)\"/>\n     </defs>\n     <use xlink:href=\"#DejaVuSans-43\"/>\n     <use xlink:href=\"#DejaVuSans-75\" x=\"69.824219\"/>\n     <use xlink:href=\"#DejaVuSans-6d\" x=\"133.203125\"/>\n     <use xlink:href=\"#DejaVuSans-75\" x=\"230.615234\"/>\n     <use xlink:href=\"#DejaVuSans-6c\" x=\"293.994141\"/>\n     <use xlink:href=\"#DejaVuSans-61\" x=\"321.777344\"/>\n     <use xlink:href=\"#DejaVuSans-74\" x=\"383.056641\"/>\n     <use xlink:href=\"#DejaVuSans-69\" x=\"422.265625\"/>\n     <use xlink:href=\"#DejaVuSans-76\" x=\"450.048828\"/>\n     <use xlink:href=\"#DejaVuSans-65\" x=\"509.228516\"/>\n     <use xlink:href=\"#DejaVuSans-20\" x=\"570.751953\"/>\n     <use xlink:href=\"#DejaVuSans-70\" x=\"602.539062\"/>\n     <use xlink:href=\"#DejaVuSans-72\" x=\"666.015625\"/>\n     <use xlink:href=\"#DejaVuSans-6f\" x=\"704.878906\"/>\n     <use xlink:href=\"#DejaVuSans-62\" x=\"766.060547\"/>\n     <use xlink:href=\"#DejaVuSans-61\" x=\"829.537109\"/>\n     <use xlink:href=\"#DejaVuSans-62\" x=\"890.816406\"/>\n     <use xlink:href=\"#DejaVuSans-69\" x=\"954.292969\"/>\n     <use xlink:href=\"#DejaVuSans-6c\" x=\"982.076172\"/>\n     <use xlink:href=\"#DejaVuSans-69\" x=\"1009.859375\"/>\n     <use xlink:href=\"#DejaVuSans-74\" x=\"1037.642578\"/>\n     <use xlink:href=\"#DejaVuSans-79\" x=\"1076.851562\"/>\n    </g>\n   </g>\n   <g id=\"legend_1\">\n    <g id=\"patch_111\">\n     <path d=\"M 469.480143 188.98975 \nL 672.152643 188.98975 \nQ 674.552643 188.98975 674.552643 186.58975 \nL 674.552643 152.56225 \nQ 674.552643 150.16225 672.152643 150.16225 \nL 469.480143 150.16225 \nQ 467.080143 150.16225 467.080143 152.56225 \nL 467.080143 186.58975 \nQ 467.080143 188.98975 469.480143 188.98975 \nz\n\" style=\"fill: #ffffff; opacity: 0.8; stroke: #cccccc; stroke-linejoin: miter\"/>\n    </g>\n    <g id=\"line2d_88\">\n     <path d=\"M 471.880143 159.880375 \nL 495.880143 159.880375 \n\" style=\"fill: none; stroke: #0071bc; stroke-width: 1.5\"/>\n    </g>\n    <g id=\"text_28\">\n     <!-- top-k threshold (k=2000) -->\n     <g transform=\"translate(505.480143 164.080375) scale(0.12 -0.12)\">\n      <defs>\n       <path id=\"DejaVuSans-2d\" d=\"M 313 2009 \nL 1997 2009 \nL 1997 1497 \nL 313 1497 \nL 313 2009 \nz\n\" transform=\"scale(0.015625)\"/>\n       <path id=\"DejaVuSans-68\" d=\"M 3513 2113 \nL 3513 0 \nL 2938 0 \nL 2938 2094 \nQ 2938 2591 2744 2837 \nQ 2550 3084 2163 3084 \nQ 1697 3084 1428 2787 \nQ 1159 2491 1159 1978 \nL 1159 0 \nL 581 0 \nL 581 4863 \nL 1159 4863 \nL 1159 2956 \nQ 1366 3272 1645 3428 \nQ 1925 3584 2291 3584 \nQ 2894 3584 3203 3211 \nQ 3513 2838 3513 2113 \nz\n\" transform=\"scale(0.015625)\"/>\n       <path id=\"DejaVuSans-3d\" d=\"M 678 2906 \nL 4684 2906 \nL 4684 2381 \nL 678 2381 \nL 678 2906 \nz\nM 678 1631 \nL 4684 1631 \nL 4684 1100 \nL 678 1100 \nL 678 1631 \nz\n\" transform=\"scale(0.015625)\"/>\n      </defs>\n      <use xlink:href=\"#DejaVuSans-74\"/>\n      <use xlink:href=\"#DejaVuSans-6f\" x=\"39.208984\"/>\n      <use xlink:href=\"#DejaVuSans-70\" x=\"100.390625\"/>\n      <use xlink:href=\"#DejaVuSans-2d\" x=\"163.867188\"/>\n      <use xlink:href=\"#DejaVuSans-6b\" x=\"199.951172\"/>\n      <use xlink:href=\"#DejaVuSans-20\" x=\"257.861328\"/>\n      <use xlink:href=\"#DejaVuSans-74\" x=\"289.648438\"/>\n      <use xlink:href=\"#DejaVuSans-68\" x=\"328.857422\"/>\n      <use xlink:href=\"#DejaVuSans-72\" x=\"392.236328\"/>\n      <use xlink:href=\"#DejaVuSans-65\" x=\"431.099609\"/>\n      <use xlink:href=\"#DejaVuSans-73\" x=\"492.623047\"/>\n      <use xlink:href=\"#DejaVuSans-68\" x=\"544.722656\"/>\n      <use xlink:href=\"#DejaVuSans-6f\" x=\"608.101562\"/>\n      <use xlink:href=\"#DejaVuSans-6c\" x=\"669.283203\"/>\n      <use xlink:href=\"#DejaVuSans-64\" x=\"697.066406\"/>\n      <use xlink:href=\"#DejaVuSans-20\" x=\"760.542969\"/>\n      <use xlink:href=\"#DejaVuSans-28\" x=\"792.330078\"/>\n      <use xlink:href=\"#DejaVuSans-6b\" x=\"831.34375\"/>\n      <use xlink:href=\"#DejaVuSans-3d\" x=\"889.253906\"/>\n      <use xlink:href=\"#DejaVuSans-32\" x=\"973.042969\"/>\n      <use xlink:href=\"#DejaVuSans-30\" x=\"1036.666016\"/>\n      <use xlink:href=\"#DejaVuSans-30\" x=\"1100.289062\"/>\n      <use xlink:href=\"#DejaVuSans-30\" x=\"1163.912109\"/>\n      <use xlink:href=\"#DejaVuSans-29\" x=\"1227.535156\"/>\n     </g>\n    </g>\n    <g id=\"line2d_89\">\n     <path d=\"M 471.880143 177.494125 \nL 495.880143 177.494125 \n\" style=\"fill: none; stroke-dasharray: 5.55,2.4; stroke-dashoffset: 0; stroke: #f7931e; stroke-width: 1.5\"/>\n    </g>\n    <g id=\"text_29\">\n     <!-- nucleus threshold (p=0.95) -->\n     <g transform=\"translate(505.480143 181.694125) scale(0.12 -0.12)\">\n      <use xlink:href=\"#DejaVuSans-6e\"/>\n      <use xlink:href=\"#DejaVuSans-75\" x=\"63.378906\"/>\n      <use xlink:href=\"#DejaVuSans-63\" x=\"126.757812\"/>\n      <use xlink:href=\"#DejaVuSans-6c\" x=\"181.738281\"/>\n      <use xlink:href=\"#DejaVuSans-65\" x=\"209.521484\"/>\n      <use xlink:href=\"#DejaVuSans-75\" x=\"271.044922\"/>\n      <use xlink:href=\"#DejaVuSans-73\" x=\"334.423828\"/>\n      <use xlink:href=\"#DejaVuSans-20\" x=\"386.523438\"/>\n      <use xlink:href=\"#DejaVuSans-74\" x=\"418.310547\"/>\n      <use xlink:href=\"#DejaVuSans-68\" x=\"457.519531\"/>\n      <use xlink:href=\"#DejaVuSans-72\" x=\"520.898438\"/>\n      <use xlink:href=\"#DejaVuSans-65\" x=\"559.761719\"/>\n      <use xlink:href=\"#DejaVuSans-73\" x=\"621.285156\"/>\n      <use xlink:href=\"#DejaVuSans-68\" x=\"673.384766\"/>\n      <use xlink:href=\"#DejaVuSans-6f\" x=\"736.763672\"/>\n      <use xlink:href=\"#DejaVuSans-6c\" x=\"797.945312\"/>\n      <use xlink:href=\"#DejaVuSans-64\" x=\"825.728516\"/>\n      <use xlink:href=\"#DejaVuSans-20\" x=\"889.205078\"/>\n      <use xlink:href=\"#DejaVuSans-28\" x=\"920.992188\"/>\n      <use xlink:href=\"#DejaVuSans-70\" x=\"960.005859\"/>\n      <use xlink:href=\"#DejaVuSans-3d\" x=\"1023.482422\"/>\n      <use xlink:href=\"#DejaVuSans-30\" x=\"1107.271484\"/>\n      <use xlink:href=\"#DejaVuSans-2e\" x=\"1170.894531\"/>\n      <use xlink:href=\"#DejaVuSans-39\" x=\"1202.681641\"/>\n      <use xlink:href=\"#DejaVuSans-35\" x=\"1266.304688\"/>\n      <use xlink:href=\"#DejaVuSans-29\" x=\"1329.927734\"/>\n     </g>\n    </g>\n   </g>\n  </g>\n </g>\n <defs>\n  <clipPath id=\"p832d0bfdcb\">\n   <rect x=\"50.93375\" y=\"24.14175\" width=\"281.736898\" height=\"170.848\"/>\n  </clipPath>\n  <clipPath id=\"pb2c4b29990\">\n   <rect x=\"398.815744\" y=\"24.14175\" width=\"281.736898\" height=\"170.848\"/>\n  </clipPath>\n </defs>\n</svg>\n",
            "application/pdf": "[encoded data removed]"
          },
          "metadata": {}
        }
      ],
      "source": [
        "# hide_input\n",
        "\n",
        "#id distribution\n",
        "#alt Probability distribution of next token prediction.\n",
        "#caption Probability distribution of next token prediction (left) and cumulative distribution of descending token probabilities\n",
        "\n",
        "import matplotlib.pyplot as plt\n",
        "import numpy as np\n",
        "\n",
        "fig, axes = plt.subplots(1, 2, figsize=(10, 3.5))\n",
        "\n",
        "axes[0].hist(probs[0], bins=np.logspace(-10, -1, 100), color=\"C0\", edgecolor=\"C0\")\n",
        "axes[0].set_xscale(\"log\")\n",
        "axes[0].set_yscale(\"log\")\n",
        "axes[0].set_title(\"Probability distribution\")\n",
        "axes[0].set_xlabel(\"Probability\")\n",
        "axes[0].set_ylabel(\"Count\")\n",
        "#axes[0].grid(which=\"major\")\n",
        "\n",
        "axes[1].plot(np.cumsum(np.sort(probs[0])[::-1]), color=\"black\")\n",
        "axes[1].set_xlim([0, 10000])\n",
        "axes[1].set_ylim([0.75, 1.01])\n",
        "axes[1].set_title(\"Cumulative probability\")\n",
        "axes[1].set_ylabel(\"Probability\")\n",
        "axes[1].set_xlabel(\"Token (descending probability)\")\n",
        "#axes[1].grid(which=\"major\")\n",
        "axes[1].minorticks_on()\n",
        "#axes[1].grid(which='minor', linewidth='0.5')\n",
        "top_k_label = 'top-k threshold (k=2000)'\n",
        "top_p_label = 'nucleus threshold (p=0.95)'\n",
        "axes[1].vlines(x=2000, ymin=0, ymax=2, color='C0', label=top_k_label)\n",
        "axes[1].hlines(y=0.95, xmin=0, xmax=10000, color='C1', label=top_p_label, linestyle='--')\n",
        "axes[1].legend(loc='lower right')\n",
        "plt.tight_layout()"
      ]
    },
    {
      "cell_type": "code",
      "execution_count": 22,
      "metadata": {
        "id": "F8SYPiw2fE2Q"
      },
      "outputs": [],
      "source": [
        "# hide\n",
        "torch.manual_seed(42);"
      ]
    },
    {
      "cell_type": "code",
      "execution_count": 23,
      "metadata": {
        "id": "UIfHCcqKfE2Q",
        "outputId": "923a01b5-06f1-48f0-e076-6d06f1a11614",
        "colab": {
          "base_uri": "https://localhost:8080/"
        }
      },
      "outputs": [
        {
          "output_type": "stream",
          "name": "stdout",
          "text": [
            "In a shocking finding, scientist discovered a herd of unicorns living in a\n",
            "remote, previously unexplored valley, in the Andes Mountains. Even more\n",
            "surprising to the researchers was the fact that the unicorns spoke perfect\n",
            "English.\n",
            "\n",
            "\n",
            "To get to the mountains, the unicorn hunters began by travelling on horseback\n",
            "with a guide, and eventually reached the summit of the mountain, which was\n",
            "filled with a dense forest. The unicorns also spoke fluent Chinese. The first\n",
            "thing the group heard from the unicorn was \"Ding! duh dzang!\", literally \"papa,\n",
            "there\".\n",
            "\n",
            "\n",
            "The hunters discovered that the unicorns\n"
          ]
        }
      ],
      "source": [
        "output_topk = model.generate(input_ids, max_length=max_length, do_sample=True,\n",
        "                             top_k=50)\n",
        "print(tokenizer.decode(output_topk[0]))"
      ]
    },
    {
      "cell_type": "code",
      "execution_count": 24,
      "metadata": {
        "id": "BRc1cs22fE2R"
      },
      "outputs": [],
      "source": [
        "# hide\n",
        "torch.manual_seed(42);"
      ]
    },
    {
      "cell_type": "code",
      "execution_count": 25,
      "metadata": {
        "id": "u0tQcDyTfE2R",
        "outputId": "5159ff29-6451-43aa-b2af-3c08080a36cf",
        "colab": {
          "base_uri": "https://localhost:8080/"
        }
      },
      "outputs": [
        {
          "output_type": "stream",
          "name": "stdout",
          "text": [
            "In a shocking finding, scientist discovered a herd of unicorns living in a\n",
            "remote, previously unexplored valley, in the Andes Mountains. Even more\n",
            "surprising to the researchers was the fact that the unicorns spoke perfect\n",
            "English.\n",
            "\n",
            "\n",
            "To get to the unicorn herd, the researchers began by travelling about 1,800\n",
            "kilometers through the Andes. Once there, the scientists found a village filled\n",
            "with a herd of more than 300 unicorns, each with its own specific personality.\n",
            "Each unicorn spoke perfect English, which the team described as \"very unlike any\n",
            "other known creature in the world.\"\n",
            "\n",
            "Advertisement\n",
            "\n",
            "\"The first thought we had\n"
          ]
        }
      ],
      "source": [
        "output_topp = model.generate(input_ids, max_length=max_length, do_sample=True,\n",
        "                             top_p=0.90)\n",
        "print(tokenizer.decode(output_topp[0]))"
      ]
    },
    {
      "cell_type": "markdown",
      "metadata": {
        "id": "3zNeovn0fE2R"
      },
      "source": [
        "## Which Decoding Method Is Best?"
      ]
    },
    {
      "cell_type": "markdown",
      "metadata": {
        "id": "E24SsdYzfE2R"
      },
      "source": [
        "## Conclusion"
      ]
    }
  ],
  "metadata": {
    "kernelspec": {
      "display_name": "Python 3",
      "name": "python3"
    },
    "colab": {
      "provenance": [],
      "gpuType": "V28"
    },
    "accelerator": "TPU",
    "widgets": {
      "application/vnd.jupyter.widget-state+json": {
        "2844eedbb23746a380a64e861e0aead8": {
          "model_module": "@jupyter-widgets/controls",
          "model_name": "HBoxModel",
          "model_module_version": "1.5.0",
          "state": {
            "_dom_classes": [],
            "_model_module": "@jupyter-widgets/controls",
            "_model_module_version": "1.5.0",
            "_model_name": "HBoxModel",
            "_view_count": null,
            "_view_module": "@jupyter-widgets/controls",
            "_view_module_version": "1.5.0",
            "_view_name": "HBoxView",
            "box_style": "",
            "children": [
              "IPY_MODEL_e8a3c9defe114b52b9bcd58aa3e49a1e",
              "IPY_MODEL_c390ebab5acb4e0a96771d9c641377b1",
              "IPY_MODEL_f0620f8e49f142f0ae40f6a34db4f838"
            ],
            "layout": "IPY_MODEL_9e1017bd23ed498d99582889ddb438cc"
          }
        },
        "e8a3c9defe114b52b9bcd58aa3e49a1e": {
          "model_module": "@jupyter-widgets/controls",
          "model_name": "HTMLModel",
          "model_module_version": "1.5.0",
          "state": {
            "_dom_classes": [],
            "_model_module": "@jupyter-widgets/controls",
            "_model_module_version": "1.5.0",
            "_model_name": "HTMLModel",
            "_view_count": null,
            "_view_module": "@jupyter-widgets/controls",
            "_view_module_version": "1.5.0",
            "_view_name": "HTMLView",
            "description": "",
            "description_tooltip": null,
            "layout": "IPY_MODEL_27c62304c5b4449fac32c097073a03a0",
            "placeholder": "​",
            "style": "IPY_MODEL_191b1b5213c245a7b54eba9c8d91de4c",
            "value": "Downloading: 100%"
          }
        },
        "c390ebab5acb4e0a96771d9c641377b1": {
          "model_module": "@jupyter-widgets/controls",
          "model_name": "FloatProgressModel",
          "model_module_version": "1.5.0",
          "state": {
            "_dom_classes": [],
            "_model_module": "@jupyter-widgets/controls",
            "_model_module_version": "1.5.0",
            "_model_name": "FloatProgressModel",
            "_view_count": null,
            "_view_module": "@jupyter-widgets/controls",
            "_view_module_version": "1.5.0",
            "_view_name": "ProgressView",
            "bar_style": "success",
            "description": "",
            "description_tooltip": null,
            "layout": "IPY_MODEL_95a17caf225441eaadf9157163541e46",
            "max": 26,
            "min": 0,
            "orientation": "horizontal",
            "style": "IPY_MODEL_f135b5e0964a4ff6a7bfabc0839f9524",
            "value": 26
          }
        },
        "f0620f8e49f142f0ae40f6a34db4f838": {
          "model_module": "@jupyter-widgets/controls",
          "model_name": "HTMLModel",
          "model_module_version": "1.5.0",
          "state": {
            "_dom_classes": [],
            "_model_module": "@jupyter-widgets/controls",
            "_model_module_version": "1.5.0",
            "_model_name": "HTMLModel",
            "_view_count": null,
            "_view_module": "@jupyter-widgets/controls",
            "_view_module_version": "1.5.0",
            "_view_name": "HTMLView",
            "description": "",
            "description_tooltip": null,
            "layout": "IPY_MODEL_cf5df8af7060469596ba8a91cf3bbea4",
            "placeholder": "​",
            "style": "IPY_MODEL_c8032144b70941d49e18526d65636e01",
            "value": " 26.0/26.0 [00:00&lt;00:00, 2.60kB/s]"
          }
        },
        "9e1017bd23ed498d99582889ddb438cc": {
          "model_module": "@jupyter-widgets/base",
          "model_name": "LayoutModel",
          "model_module_version": "1.2.0",
          "state": {
            "_model_module": "@jupyter-widgets/base",
            "_model_module_version": "1.2.0",
            "_model_name": "LayoutModel",
            "_view_count": null,
            "_view_module": "@jupyter-widgets/base",
            "_view_module_version": "1.2.0",
            "_view_name": "LayoutView",
            "align_content": null,
            "align_items": null,
            "align_self": null,
            "border": null,
            "bottom": null,
            "display": null,
            "flex": null,
            "flex_flow": null,
            "grid_area": null,
            "grid_auto_columns": null,
            "grid_auto_flow": null,
            "grid_auto_rows": null,
            "grid_column": null,
            "grid_gap": null,
            "grid_row": null,
            "grid_template_areas": null,
            "grid_template_columns": null,
            "grid_template_rows": null,
            "height": null,
            "justify_content": null,
            "justify_items": null,
            "left": null,
            "margin": null,
            "max_height": null,
            "max_width": null,
            "min_height": null,
            "min_width": null,
            "object_fit": null,
            "object_position": null,
            "order": null,
            "overflow": null,
            "overflow_x": null,
            "overflow_y": null,
            "padding": null,
            "right": null,
            "top": null,
            "visibility": null,
            "width": null
          }
        },
        "27c62304c5b4449fac32c097073a03a0": {
          "model_module": "@jupyter-widgets/base",
          "model_name": "LayoutModel",
          "model_module_version": "1.2.0",
          "state": {
            "_model_module": "@jupyter-widgets/base",
            "_model_module_version": "1.2.0",
            "_model_name": "LayoutModel",
            "_view_count": null,
            "_view_module": "@jupyter-widgets/base",
            "_view_module_version": "1.2.0",
            "_view_name": "LayoutView",
            "align_content": null,
            "align_items": null,
            "align_self": null,
            "border": null,
            "bottom": null,
            "display": null,
            "flex": null,
            "flex_flow": null,
            "grid_area": null,
            "grid_auto_columns": null,
            "grid_auto_flow": null,
            "grid_auto_rows": null,
            "grid_column": null,
            "grid_gap": null,
            "grid_row": null,
            "grid_template_areas": null,
            "grid_template_columns": null,
            "grid_template_rows": null,
            "height": null,
            "justify_content": null,
            "justify_items": null,
            "left": null,
            "margin": null,
            "max_height": null,
            "max_width": null,
            "min_height": null,
            "min_width": null,
            "object_fit": null,
            "object_position": null,
            "order": null,
            "overflow": null,
            "overflow_x": null,
            "overflow_y": null,
            "padding": null,
            "right": null,
            "top": null,
            "visibility": null,
            "width": null
          }
        },
        "191b1b5213c245a7b54eba9c8d91de4c": {
          "model_module": "@jupyter-widgets/controls",
          "model_name": "DescriptionStyleModel",
          "model_module_version": "1.5.0",
          "state": {
            "_model_module": "@jupyter-widgets/controls",
            "_model_module_version": "1.5.0",
            "_model_name": "DescriptionStyleModel",
            "_view_count": null,
            "_view_module": "@jupyter-widgets/base",
            "_view_module_version": "1.2.0",
            "_view_name": "StyleView",
            "description_width": ""
          }
        },
        "95a17caf225441eaadf9157163541e46": {
          "model_module": "@jupyter-widgets/base",
          "model_name": "LayoutModel",
          "model_module_version": "1.2.0",
          "state": {
            "_model_module": "@jupyter-widgets/base",
            "_model_module_version": "1.2.0",
            "_model_name": "LayoutModel",
            "_view_count": null,
            "_view_module": "@jupyter-widgets/base",
            "_view_module_version": "1.2.0",
            "_view_name": "LayoutView",
            "align_content": null,
            "align_items": null,
            "align_self": null,
            "border": null,
            "bottom": null,
            "display": null,
            "flex": null,
            "flex_flow": null,
            "grid_area": null,
            "grid_auto_columns": null,
            "grid_auto_flow": null,
            "grid_auto_rows": null,
            "grid_column": null,
            "grid_gap": null,
            "grid_row": null,
            "grid_template_areas": null,
            "grid_template_columns": null,
            "grid_template_rows": null,
            "height": null,
            "justify_content": null,
            "justify_items": null,
            "left": null,
            "margin": null,
            "max_height": null,
            "max_width": null,
            "min_height": null,
            "min_width": null,
            "object_fit": null,
            "object_position": null,
            "order": null,
            "overflow": null,
            "overflow_x": null,
            "overflow_y": null,
            "padding": null,
            "right": null,
            "top": null,
            "visibility": null,
            "width": null
          }
        },
        "f135b5e0964a4ff6a7bfabc0839f9524": {
          "model_module": "@jupyter-widgets/controls",
          "model_name": "ProgressStyleModel",
          "model_module_version": "1.5.0",
          "state": {
            "_model_module": "@jupyter-widgets/controls",
            "_model_module_version": "1.5.0",
            "_model_name": "ProgressStyleModel",
            "_view_count": null,
            "_view_module": "@jupyter-widgets/base",
            "_view_module_version": "1.2.0",
            "_view_name": "StyleView",
            "bar_color": null,
            "description_width": ""
          }
        },
        "cf5df8af7060469596ba8a91cf3bbea4": {
          "model_module": "@jupyter-widgets/base",
          "model_name": "LayoutModel",
          "model_module_version": "1.2.0",
          "state": {
            "_model_module": "@jupyter-widgets/base",
            "_model_module_version": "1.2.0",
            "_model_name": "LayoutModel",
            "_view_count": null,
            "_view_module": "@jupyter-widgets/base",
            "_view_module_version": "1.2.0",
            "_view_name": "LayoutView",
            "align_content": null,
            "align_items": null,
            "align_self": null,
            "border": null,
            "bottom": null,
            "display": null,
            "flex": null,
            "flex_flow": null,
            "grid_area": null,
            "grid_auto_columns": null,
            "grid_auto_flow": null,
            "grid_auto_rows": null,
            "grid_column": null,
            "grid_gap": null,
            "grid_row": null,
            "grid_template_areas": null,
            "grid_template_columns": null,
            "grid_template_rows": null,
            "height": null,
            "justify_content": null,
            "justify_items": null,
            "left": null,
            "margin": null,
            "max_height": null,
            "max_width": null,
            "min_height": null,
            "min_width": null,
            "object_fit": null,
            "object_position": null,
            "order": null,
            "overflow": null,
            "overflow_x": null,
            "overflow_y": null,
            "padding": null,
            "right": null,
            "top": null,
            "visibility": null,
            "width": null
          }
        },
        "c8032144b70941d49e18526d65636e01": {
          "model_module": "@jupyter-widgets/controls",
          "model_name": "DescriptionStyleModel",
          "model_module_version": "1.5.0",
          "state": {
            "_model_module": "@jupyter-widgets/controls",
            "_model_module_version": "1.5.0",
            "_model_name": "DescriptionStyleModel",
            "_view_count": null,
            "_view_module": "@jupyter-widgets/base",
            "_view_module_version": "1.2.0",
            "_view_name": "StyleView",
            "description_width": ""
          }
        },
        "1c8eec37f22b4258956588081a8169f2": {
          "model_module": "@jupyter-widgets/controls",
          "model_name": "HBoxModel",
          "model_module_version": "1.5.0",
          "state": {
            "_dom_classes": [],
            "_model_module": "@jupyter-widgets/controls",
            "_model_module_version": "1.5.0",
            "_model_name": "HBoxModel",
            "_view_count": null,
            "_view_module": "@jupyter-widgets/controls",
            "_view_module_version": "1.5.0",
            "_view_name": "HBoxView",
            "box_style": "",
            "children": [
              "IPY_MODEL_9d41bd225a4849da9ce935680c0975dc",
              "IPY_MODEL_da8f88b9424140139895c68ae0dabafd",
              "IPY_MODEL_6defeba05f054957b1b6aa2e85f91995"
            ],
            "layout": "IPY_MODEL_06acd722d3744ee6a37610f616c6097b"
          }
        },
        "9d41bd225a4849da9ce935680c0975dc": {
          "model_module": "@jupyter-widgets/controls",
          "model_name": "HTMLModel",
          "model_module_version": "1.5.0",
          "state": {
            "_dom_classes": [],
            "_model_module": "@jupyter-widgets/controls",
            "_model_module_version": "1.5.0",
            "_model_name": "HTMLModel",
            "_view_count": null,
            "_view_module": "@jupyter-widgets/controls",
            "_view_module_version": "1.5.0",
            "_view_name": "HTMLView",
            "description": "",
            "description_tooltip": null,
            "layout": "IPY_MODEL_3b193a0f40344f168fb57a34759b7ab9",
            "placeholder": "​",
            "style": "IPY_MODEL_c3cfaad6407f4ec2b5b5640916ca01e4",
            "value": "Downloading: 100%"
          }
        },
        "da8f88b9424140139895c68ae0dabafd": {
          "model_module": "@jupyter-widgets/controls",
          "model_name": "FloatProgressModel",
          "model_module_version": "1.5.0",
          "state": {
            "_dom_classes": [],
            "_model_module": "@jupyter-widgets/controls",
            "_model_module_version": "1.5.0",
            "_model_name": "FloatProgressModel",
            "_view_count": null,
            "_view_module": "@jupyter-widgets/controls",
            "_view_module_version": "1.5.0",
            "_view_name": "ProgressView",
            "bar_style": "success",
            "description": "",
            "description_tooltip": null,
            "layout": "IPY_MODEL_e02df9a44d5443fb87a01fec4bac408a",
            "max": 689,
            "min": 0,
            "orientation": "horizontal",
            "style": "IPY_MODEL_5a2a04c8b18e45a8885665189b917bf6",
            "value": 689
          }
        },
        "6defeba05f054957b1b6aa2e85f91995": {
          "model_module": "@jupyter-widgets/controls",
          "model_name": "HTMLModel",
          "model_module_version": "1.5.0",
          "state": {
            "_dom_classes": [],
            "_model_module": "@jupyter-widgets/controls",
            "_model_module_version": "1.5.0",
            "_model_name": "HTMLModel",
            "_view_count": null,
            "_view_module": "@jupyter-widgets/controls",
            "_view_module_version": "1.5.0",
            "_view_name": "HTMLView",
            "description": "",
            "description_tooltip": null,
            "layout": "IPY_MODEL_d1ee72b58f484ddd9b9f9f871e7e85f7",
            "placeholder": "​",
            "style": "IPY_MODEL_e05105ee9b5643f1acc10aea30f1c081",
            "value": " 689/689 [00:00&lt;00:00, 66.7kB/s]"
          }
        },
        "06acd722d3744ee6a37610f616c6097b": {
          "model_module": "@jupyter-widgets/base",
          "model_name": "LayoutModel",
          "model_module_version": "1.2.0",
          "state": {
            "_model_module": "@jupyter-widgets/base",
            "_model_module_version": "1.2.0",
            "_model_name": "LayoutModel",
            "_view_count": null,
            "_view_module": "@jupyter-widgets/base",
            "_view_module_version": "1.2.0",
            "_view_name": "LayoutView",
            "align_content": null,
            "align_items": null,
            "align_self": null,
            "border": null,
            "bottom": null,
            "display": null,
            "flex": null,
            "flex_flow": null,
            "grid_area": null,
            "grid_auto_columns": null,
            "grid_auto_flow": null,
            "grid_auto_rows": null,
            "grid_column": null,
            "grid_gap": null,
            "grid_row": null,
            "grid_template_areas": null,
            "grid_template_columns": null,
            "grid_template_rows": null,
            "height": null,
            "justify_content": null,
            "justify_items": null,
            "left": null,
            "margin": null,
            "max_height": null,
            "max_width": null,
            "min_height": null,
            "min_width": null,
            "object_fit": null,
            "object_position": null,
            "order": null,
            "overflow": null,
            "overflow_x": null,
            "overflow_y": null,
            "padding": null,
            "right": null,
            "top": null,
            "visibility": null,
            "width": null
          }
        },
        "3b193a0f40344f168fb57a34759b7ab9": {
          "model_module": "@jupyter-widgets/base",
          "model_name": "LayoutModel",
          "model_module_version": "1.2.0",
          "state": {
            "_model_module": "@jupyter-widgets/base",
            "_model_module_version": "1.2.0",
            "_model_name": "LayoutModel",
            "_view_count": null,
            "_view_module": "@jupyter-widgets/base",
            "_view_module_version": "1.2.0",
            "_view_name": "LayoutView",
            "align_content": null,
            "align_items": null,
            "align_self": null,
            "border": null,
            "bottom": null,
            "display": null,
            "flex": null,
            "flex_flow": null,
            "grid_area": null,
            "grid_auto_columns": null,
            "grid_auto_flow": null,
            "grid_auto_rows": null,
            "grid_column": null,
            "grid_gap": null,
            "grid_row": null,
            "grid_template_areas": null,
            "grid_template_columns": null,
            "grid_template_rows": null,
            "height": null,
            "justify_content": null,
            "justify_items": null,
            "left": null,
            "margin": null,
            "max_height": null,
            "max_width": null,
            "min_height": null,
            "min_width": null,
            "object_fit": null,
            "object_position": null,
            "order": null,
            "overflow": null,
            "overflow_x": null,
            "overflow_y": null,
            "padding": null,
            "right": null,
            "top": null,
            "visibility": null,
            "width": null
          }
        },
        "c3cfaad6407f4ec2b5b5640916ca01e4": {
          "model_module": "@jupyter-widgets/controls",
          "model_name": "DescriptionStyleModel",
          "model_module_version": "1.5.0",
          "state": {
            "_model_module": "@jupyter-widgets/controls",
            "_model_module_version": "1.5.0",
            "_model_name": "DescriptionStyleModel",
            "_view_count": null,
            "_view_module": "@jupyter-widgets/base",
            "_view_module_version": "1.2.0",
            "_view_name": "StyleView",
            "description_width": ""
          }
        },
        "e02df9a44d5443fb87a01fec4bac408a": {
          "model_module": "@jupyter-widgets/base",
          "model_name": "LayoutModel",
          "model_module_version": "1.2.0",
          "state": {
            "_model_module": "@jupyter-widgets/base",
            "_model_module_version": "1.2.0",
            "_model_name": "LayoutModel",
            "_view_count": null,
            "_view_module": "@jupyter-widgets/base",
            "_view_module_version": "1.2.0",
            "_view_name": "LayoutView",
            "align_content": null,
            "align_items": null,
            "align_self": null,
            "border": null,
            "bottom": null,
            "display": null,
            "flex": null,
            "flex_flow": null,
            "grid_area": null,
            "grid_auto_columns": null,
            "grid_auto_flow": null,
            "grid_auto_rows": null,
            "grid_column": null,
            "grid_gap": null,
            "grid_row": null,
            "grid_template_areas": null,
            "grid_template_columns": null,
            "grid_template_rows": null,
            "height": null,
            "justify_content": null,
            "justify_items": null,
            "left": null,
            "margin": null,
            "max_height": null,
            "max_width": null,
            "min_height": null,
            "min_width": null,
            "object_fit": null,
            "object_position": null,
            "order": null,
            "overflow": null,
            "overflow_x": null,
            "overflow_y": null,
            "padding": null,
            "right": null,
            "top": null,
            "visibility": null,
            "width": null
          }
        },
        "5a2a04c8b18e45a8885665189b917bf6": {
          "model_module": "@jupyter-widgets/controls",
          "model_name": "ProgressStyleModel",
          "model_module_version": "1.5.0",
          "state": {
            "_model_module": "@jupyter-widgets/controls",
            "_model_module_version": "1.5.0",
            "_model_name": "ProgressStyleModel",
            "_view_count": null,
            "_view_module": "@jupyter-widgets/base",
            "_view_module_version": "1.2.0",
            "_view_name": "StyleView",
            "bar_color": null,
            "description_width": ""
          }
        },
        "d1ee72b58f484ddd9b9f9f871e7e85f7": {
          "model_module": "@jupyter-widgets/base",
          "model_name": "LayoutModel",
          "model_module_version": "1.2.0",
          "state": {
            "_model_module": "@jupyter-widgets/base",
            "_model_module_version": "1.2.0",
            "_model_name": "LayoutModel",
            "_view_count": null,
            "_view_module": "@jupyter-widgets/base",
            "_view_module_version": "1.2.0",
            "_view_name": "LayoutView",
            "align_content": null,
            "align_items": null,
            "align_self": null,
            "border": null,
            "bottom": null,
            "display": null,
            "flex": null,
            "flex_flow": null,
            "grid_area": null,
            "grid_auto_columns": null,
            "grid_auto_flow": null,
            "grid_auto_rows": null,
            "grid_column": null,
            "grid_gap": null,
            "grid_row": null,
            "grid_template_areas": null,
            "grid_template_columns": null,
            "grid_template_rows": null,
            "height": null,
            "justify_content": null,
            "justify_items": null,
            "left": null,
            "margin": null,
            "max_height": null,
            "max_width": null,
            "min_height": null,
            "min_width": null,
            "object_fit": null,
            "object_position": null,
            "order": null,
            "overflow": null,
            "overflow_x": null,
            "overflow_y": null,
            "padding": null,
            "right": null,
            "top": null,
            "visibility": null,
            "width": null
          }
        },
        "e05105ee9b5643f1acc10aea30f1c081": {
          "model_module": "@jupyter-widgets/controls",
          "model_name": "DescriptionStyleModel",
          "model_module_version": "1.5.0",
          "state": {
            "_model_module": "@jupyter-widgets/controls",
            "_model_module_version": "1.5.0",
            "_model_name": "DescriptionStyleModel",
            "_view_count": null,
            "_view_module": "@jupyter-widgets/base",
            "_view_module_version": "1.2.0",
            "_view_name": "StyleView",
            "description_width": ""
          }
        },
        "c086767cadb24c6faa6204470613a2e4": {
          "model_module": "@jupyter-widgets/controls",
          "model_name": "HBoxModel",
          "model_module_version": "1.5.0",
          "state": {
            "_dom_classes": [],
            "_model_module": "@jupyter-widgets/controls",
            "_model_module_version": "1.5.0",
            "_model_name": "HBoxModel",
            "_view_count": null,
            "_view_module": "@jupyter-widgets/controls",
            "_view_module_version": "1.5.0",
            "_view_name": "HBoxView",
            "box_style": "",
            "children": [
              "IPY_MODEL_647c24fd7948475e8d96e869d847ad50",
              "IPY_MODEL_b8a0a4f5692b409ea8ff78e864feabf0",
              "IPY_MODEL_70781df3702445c090c745e27cdd109c"
            ],
            "layout": "IPY_MODEL_0e48fb7225024e568245dba57844d705"
          }
        },
        "647c24fd7948475e8d96e869d847ad50": {
          "model_module": "@jupyter-widgets/controls",
          "model_name": "HTMLModel",
          "model_module_version": "1.5.0",
          "state": {
            "_dom_classes": [],
            "_model_module": "@jupyter-widgets/controls",
            "_model_module_version": "1.5.0",
            "_model_name": "HTMLModel",
            "_view_count": null,
            "_view_module": "@jupyter-widgets/controls",
            "_view_module_version": "1.5.0",
            "_view_name": "HTMLView",
            "description": "",
            "description_tooltip": null,
            "layout": "IPY_MODEL_c9fa3d631d7949668c7decab52fd2221",
            "placeholder": "​",
            "style": "IPY_MODEL_e4bbfaa9d2c34ca48a60b8c394d3a9ea",
            "value": "Downloading: 100%"
          }
        },
        "b8a0a4f5692b409ea8ff78e864feabf0": {
          "model_module": "@jupyter-widgets/controls",
          "model_name": "FloatProgressModel",
          "model_module_version": "1.5.0",
          "state": {
            "_dom_classes": [],
            "_model_module": "@jupyter-widgets/controls",
            "_model_module_version": "1.5.0",
            "_model_name": "FloatProgressModel",
            "_view_count": null,
            "_view_module": "@jupyter-widgets/controls",
            "_view_module_version": "1.5.0",
            "_view_name": "ProgressView",
            "bar_style": "success",
            "description": "",
            "description_tooltip": null,
            "layout": "IPY_MODEL_ae371edfd0274967b342980c85841f1e",
            "max": 1042301,
            "min": 0,
            "orientation": "horizontal",
            "style": "IPY_MODEL_5b48dd6f970748dcb4fdc0afb693c020",
            "value": 1042301
          }
        },
        "70781df3702445c090c745e27cdd109c": {
          "model_module": "@jupyter-widgets/controls",
          "model_name": "HTMLModel",
          "model_module_version": "1.5.0",
          "state": {
            "_dom_classes": [],
            "_model_module": "@jupyter-widgets/controls",
            "_model_module_version": "1.5.0",
            "_model_name": "HTMLModel",
            "_view_count": null,
            "_view_module": "@jupyter-widgets/controls",
            "_view_module_version": "1.5.0",
            "_view_name": "HTMLView",
            "description": "",
            "description_tooltip": null,
            "layout": "IPY_MODEL_2cfa2948e0814a47b4c6afcae18d62bc",
            "placeholder": "​",
            "style": "IPY_MODEL_fe84d78952674bb0ab97ba8eb0524a56",
            "value": " 0.99M/0.99M [00:00&lt;00:00, 10.7MB/s]"
          }
        },
        "0e48fb7225024e568245dba57844d705": {
          "model_module": "@jupyter-widgets/base",
          "model_name": "LayoutModel",
          "model_module_version": "1.2.0",
          "state": {
            "_model_module": "@jupyter-widgets/base",
            "_model_module_version": "1.2.0",
            "_model_name": "LayoutModel",
            "_view_count": null,
            "_view_module": "@jupyter-widgets/base",
            "_view_module_version": "1.2.0",
            "_view_name": "LayoutView",
            "align_content": null,
            "align_items": null,
            "align_self": null,
            "border": null,
            "bottom": null,
            "display": null,
            "flex": null,
            "flex_flow": null,
            "grid_area": null,
            "grid_auto_columns": null,
            "grid_auto_flow": null,
            "grid_auto_rows": null,
            "grid_column": null,
            "grid_gap": null,
            "grid_row": null,
            "grid_template_areas": null,
            "grid_template_columns": null,
            "grid_template_rows": null,
            "height": null,
            "justify_content": null,
            "justify_items": null,
            "left": null,
            "margin": null,
            "max_height": null,
            "max_width": null,
            "min_height": null,
            "min_width": null,
            "object_fit": null,
            "object_position": null,
            "order": null,
            "overflow": null,
            "overflow_x": null,
            "overflow_y": null,
            "padding": null,
            "right": null,
            "top": null,
            "visibility": null,
            "width": null
          }
        },
        "c9fa3d631d7949668c7decab52fd2221": {
          "model_module": "@jupyter-widgets/base",
          "model_name": "LayoutModel",
          "model_module_version": "1.2.0",
          "state": {
            "_model_module": "@jupyter-widgets/base",
            "_model_module_version": "1.2.0",
            "_model_name": "LayoutModel",
            "_view_count": null,
            "_view_module": "@jupyter-widgets/base",
            "_view_module_version": "1.2.0",
            "_view_name": "LayoutView",
            "align_content": null,
            "align_items": null,
            "align_self": null,
            "border": null,
            "bottom": null,
            "display": null,
            "flex": null,
            "flex_flow": null,
            "grid_area": null,
            "grid_auto_columns": null,
            "grid_auto_flow": null,
            "grid_auto_rows": null,
            "grid_column": null,
            "grid_gap": null,
            "grid_row": null,
            "grid_template_areas": null,
            "grid_template_columns": null,
            "grid_template_rows": null,
            "height": null,
            "justify_content": null,
            "justify_items": null,
            "left": null,
            "margin": null,
            "max_height": null,
            "max_width": null,
            "min_height": null,
            "min_width": null,
            "object_fit": null,
            "object_position": null,
            "order": null,
            "overflow": null,
            "overflow_x": null,
            "overflow_y": null,
            "padding": null,
            "right": null,
            "top": null,
            "visibility": null,
            "width": null
          }
        },
        "e4bbfaa9d2c34ca48a60b8c394d3a9ea": {
          "model_module": "@jupyter-widgets/controls",
          "model_name": "DescriptionStyleModel",
          "model_module_version": "1.5.0",
          "state": {
            "_model_module": "@jupyter-widgets/controls",
            "_model_module_version": "1.5.0",
            "_model_name": "DescriptionStyleModel",
            "_view_count": null,
            "_view_module": "@jupyter-widgets/base",
            "_view_module_version": "1.2.0",
            "_view_name": "StyleView",
            "description_width": ""
          }
        },
        "ae371edfd0274967b342980c85841f1e": {
          "model_module": "@jupyter-widgets/base",
          "model_name": "LayoutModel",
          "model_module_version": "1.2.0",
          "state": {
            "_model_module": "@jupyter-widgets/base",
            "_model_module_version": "1.2.0",
            "_model_name": "LayoutModel",
            "_view_count": null,
            "_view_module": "@jupyter-widgets/base",
            "_view_module_version": "1.2.0",
            "_view_name": "LayoutView",
            "align_content": null,
            "align_items": null,
            "align_self": null,
            "border": null,
            "bottom": null,
            "display": null,
            "flex": null,
            "flex_flow": null,
            "grid_area": null,
            "grid_auto_columns": null,
            "grid_auto_flow": null,
            "grid_auto_rows": null,
            "grid_column": null,
            "grid_gap": null,
            "grid_row": null,
            "grid_template_areas": null,
            "grid_template_columns": null,
            "grid_template_rows": null,
            "height": null,
            "justify_content": null,
            "justify_items": null,
            "left": null,
            "margin": null,
            "max_height": null,
            "max_width": null,
            "min_height": null,
            "min_width": null,
            "object_fit": null,
            "object_position": null,
            "order": null,
            "overflow": null,
            "overflow_x": null,
            "overflow_y": null,
            "padding": null,
            "right": null,
            "top": null,
            "visibility": null,
            "width": null
          }
        },
        "5b48dd6f970748dcb4fdc0afb693c020": {
          "model_module": "@jupyter-widgets/controls",
          "model_name": "ProgressStyleModel",
          "model_module_version": "1.5.0",
          "state": {
            "_model_module": "@jupyter-widgets/controls",
            "_model_module_version": "1.5.0",
            "_model_name": "ProgressStyleModel",
            "_view_count": null,
            "_view_module": "@jupyter-widgets/base",
            "_view_module_version": "1.2.0",
            "_view_name": "StyleView",
            "bar_color": null,
            "description_width": ""
          }
        },
        "2cfa2948e0814a47b4c6afcae18d62bc": {
          "model_module": "@jupyter-widgets/base",
          "model_name": "LayoutModel",
          "model_module_version": "1.2.0",
          "state": {
            "_model_module": "@jupyter-widgets/base",
            "_model_module_version": "1.2.0",
            "_model_name": "LayoutModel",
            "_view_count": null,
            "_view_module": "@jupyter-widgets/base",
            "_view_module_version": "1.2.0",
            "_view_name": "LayoutView",
            "align_content": null,
            "align_items": null,
            "align_self": null,
            "border": null,
            "bottom": null,
            "display": null,
            "flex": null,
            "flex_flow": null,
            "grid_area": null,
            "grid_auto_columns": null,
            "grid_auto_flow": null,
            "grid_auto_rows": null,
            "grid_column": null,
            "grid_gap": null,
            "grid_row": null,
            "grid_template_areas": null,
            "grid_template_columns": null,
            "grid_template_rows": null,
            "height": null,
            "justify_content": null,
            "justify_items": null,
            "left": null,
            "margin": null,
            "max_height": null,
            "max_width": null,
            "min_height": null,
            "min_width": null,
            "object_fit": null,
            "object_position": null,
            "order": null,
            "overflow": null,
            "overflow_x": null,
            "overflow_y": null,
            "padding": null,
            "right": null,
            "top": null,
            "visibility": null,
            "width": null
          }
        },
        "fe84d78952674bb0ab97ba8eb0524a56": {
          "model_module": "@jupyter-widgets/controls",
          "model_name": "DescriptionStyleModel",
          "model_module_version": "1.5.0",
          "state": {
            "_model_module": "@jupyter-widgets/controls",
            "_model_module_version": "1.5.0",
            "_model_name": "DescriptionStyleModel",
            "_view_count": null,
            "_view_module": "@jupyter-widgets/base",
            "_view_module_version": "1.2.0",
            "_view_name": "StyleView",
            "description_width": ""
          }
        },
        "89c2fe80755e4057b0d7359c20c15679": {
          "model_module": "@jupyter-widgets/controls",
          "model_name": "HBoxModel",
          "model_module_version": "1.5.0",
          "state": {
            "_dom_classes": [],
            "_model_module": "@jupyter-widgets/controls",
            "_model_module_version": "1.5.0",
            "_model_name": "HBoxModel",
            "_view_count": null,
            "_view_module": "@jupyter-widgets/controls",
            "_view_module_version": "1.5.0",
            "_view_name": "HBoxView",
            "box_style": "",
            "children": [
              "IPY_MODEL_4620ec52148a4851a23c26910b3abdd1",
              "IPY_MODEL_c0f84e0e1803494188ff558148ea8625",
              "IPY_MODEL_76d83319408242bc8d1a730005d04a64"
            ],
            "layout": "IPY_MODEL_a5f2da64f3db4f4ca988de1aafe7c0be"
          }
        },
        "4620ec52148a4851a23c26910b3abdd1": {
          "model_module": "@jupyter-widgets/controls",
          "model_name": "HTMLModel",
          "model_module_version": "1.5.0",
          "state": {
            "_dom_classes": [],
            "_model_module": "@jupyter-widgets/controls",
            "_model_module_version": "1.5.0",
            "_model_name": "HTMLModel",
            "_view_count": null,
            "_view_module": "@jupyter-widgets/controls",
            "_view_module_version": "1.5.0",
            "_view_name": "HTMLView",
            "description": "",
            "description_tooltip": null,
            "layout": "IPY_MODEL_1eda480592544d0bbc147b8de49345b4",
            "placeholder": "​",
            "style": "IPY_MODEL_35d3905bfa2c4011af006d72b855e836",
            "value": "Downloading: 100%"
          }
        },
        "c0f84e0e1803494188ff558148ea8625": {
          "model_module": "@jupyter-widgets/controls",
          "model_name": "FloatProgressModel",
          "model_module_version": "1.5.0",
          "state": {
            "_dom_classes": [],
            "_model_module": "@jupyter-widgets/controls",
            "_model_module_version": "1.5.0",
            "_model_name": "FloatProgressModel",
            "_view_count": null,
            "_view_module": "@jupyter-widgets/controls",
            "_view_module_version": "1.5.0",
            "_view_name": "ProgressView",
            "bar_style": "success",
            "description": "",
            "description_tooltip": null,
            "layout": "IPY_MODEL_5f9c744346bd4c4db2b06304bbc8f216",
            "max": 456318,
            "min": 0,
            "orientation": "horizontal",
            "style": "IPY_MODEL_b0893929401647e9988dd12b9c25b762",
            "value": 456318
          }
        },
        "76d83319408242bc8d1a730005d04a64": {
          "model_module": "@jupyter-widgets/controls",
          "model_name": "HTMLModel",
          "model_module_version": "1.5.0",
          "state": {
            "_dom_classes": [],
            "_model_module": "@jupyter-widgets/controls",
            "_model_module_version": "1.5.0",
            "_model_name": "HTMLModel",
            "_view_count": null,
            "_view_module": "@jupyter-widgets/controls",
            "_view_module_version": "1.5.0",
            "_view_name": "HTMLView",
            "description": "",
            "description_tooltip": null,
            "layout": "IPY_MODEL_5ff349db37274b05b0faa753ef16b848",
            "placeholder": "​",
            "style": "IPY_MODEL_34487fb35a9943cbae2f92cadb90f8eb",
            "value": " 446k/446k [00:00&lt;00:00, 8.65MB/s]"
          }
        },
        "a5f2da64f3db4f4ca988de1aafe7c0be": {
          "model_module": "@jupyter-widgets/base",
          "model_name": "LayoutModel",
          "model_module_version": "1.2.0",
          "state": {
            "_model_module": "@jupyter-widgets/base",
            "_model_module_version": "1.2.0",
            "_model_name": "LayoutModel",
            "_view_count": null,
            "_view_module": "@jupyter-widgets/base",
            "_view_module_version": "1.2.0",
            "_view_name": "LayoutView",
            "align_content": null,
            "align_items": null,
            "align_self": null,
            "border": null,
            "bottom": null,
            "display": null,
            "flex": null,
            "flex_flow": null,
            "grid_area": null,
            "grid_auto_columns": null,
            "grid_auto_flow": null,
            "grid_auto_rows": null,
            "grid_column": null,
            "grid_gap": null,
            "grid_row": null,
            "grid_template_areas": null,
            "grid_template_columns": null,
            "grid_template_rows": null,
            "height": null,
            "justify_content": null,
            "justify_items": null,
            "left": null,
            "margin": null,
            "max_height": null,
            "max_width": null,
            "min_height": null,
            "min_width": null,
            "object_fit": null,
            "object_position": null,
            "order": null,
            "overflow": null,
            "overflow_x": null,
            "overflow_y": null,
            "padding": null,
            "right": null,
            "top": null,
            "visibility": null,
            "width": null
          }
        },
        "1eda480592544d0bbc147b8de49345b4": {
          "model_module": "@jupyter-widgets/base",
          "model_name": "LayoutModel",
          "model_module_version": "1.2.0",
          "state": {
            "_model_module": "@jupyter-widgets/base",
            "_model_module_version": "1.2.0",
            "_model_name": "LayoutModel",
            "_view_count": null,
            "_view_module": "@jupyter-widgets/base",
            "_view_module_version": "1.2.0",
            "_view_name": "LayoutView",
            "align_content": null,
            "align_items": null,
            "align_self": null,
            "border": null,
            "bottom": null,
            "display": null,
            "flex": null,
            "flex_flow": null,
            "grid_area": null,
            "grid_auto_columns": null,
            "grid_auto_flow": null,
            "grid_auto_rows": null,
            "grid_column": null,
            "grid_gap": null,
            "grid_row": null,
            "grid_template_areas": null,
            "grid_template_columns": null,
            "grid_template_rows": null,
            "height": null,
            "justify_content": null,
            "justify_items": null,
            "left": null,
            "margin": null,
            "max_height": null,
            "max_width": null,
            "min_height": null,
            "min_width": null,
            "object_fit": null,
            "object_position": null,
            "order": null,
            "overflow": null,
            "overflow_x": null,
            "overflow_y": null,
            "padding": null,
            "right": null,
            "top": null,
            "visibility": null,
            "width": null
          }
        },
        "35d3905bfa2c4011af006d72b855e836": {
          "model_module": "@jupyter-widgets/controls",
          "model_name": "DescriptionStyleModel",
          "model_module_version": "1.5.0",
          "state": {
            "_model_module": "@jupyter-widgets/controls",
            "_model_module_version": "1.5.0",
            "_model_name": "DescriptionStyleModel",
            "_view_count": null,
            "_view_module": "@jupyter-widgets/base",
            "_view_module_version": "1.2.0",
            "_view_name": "StyleView",
            "description_width": ""
          }
        },
        "5f9c744346bd4c4db2b06304bbc8f216": {
          "model_module": "@jupyter-widgets/base",
          "model_name": "LayoutModel",
          "model_module_version": "1.2.0",
          "state": {
            "_model_module": "@jupyter-widgets/base",
            "_model_module_version": "1.2.0",
            "_model_name": "LayoutModel",
            "_view_count": null,
            "_view_module": "@jupyter-widgets/base",
            "_view_module_version": "1.2.0",
            "_view_name": "LayoutView",
            "align_content": null,
            "align_items": null,
            "align_self": null,
            "border": null,
            "bottom": null,
            "display": null,
            "flex": null,
            "flex_flow": null,
            "grid_area": null,
            "grid_auto_columns": null,
            "grid_auto_flow": null,
            "grid_auto_rows": null,
            "grid_column": null,
            "grid_gap": null,
            "grid_row": null,
            "grid_template_areas": null,
            "grid_template_columns": null,
            "grid_template_rows": null,
            "height": null,
            "justify_content": null,
            "justify_items": null,
            "left": null,
            "margin": null,
            "max_height": null,
            "max_width": null,
            "min_height": null,
            "min_width": null,
            "object_fit": null,
            "object_position": null,
            "order": null,
            "overflow": null,
            "overflow_x": null,
            "overflow_y": null,
            "padding": null,
            "right": null,
            "top": null,
            "visibility": null,
            "width": null
          }
        },
        "b0893929401647e9988dd12b9c25b762": {
          "model_module": "@jupyter-widgets/controls",
          "model_name": "ProgressStyleModel",
          "model_module_version": "1.5.0",
          "state": {
            "_model_module": "@jupyter-widgets/controls",
            "_model_module_version": "1.5.0",
            "_model_name": "ProgressStyleModel",
            "_view_count": null,
            "_view_module": "@jupyter-widgets/base",
            "_view_module_version": "1.2.0",
            "_view_name": "StyleView",
            "bar_color": null,
            "description_width": ""
          }
        },
        "5ff349db37274b05b0faa753ef16b848": {
          "model_module": "@jupyter-widgets/base",
          "model_name": "LayoutModel",
          "model_module_version": "1.2.0",
          "state": {
            "_model_module": "@jupyter-widgets/base",
            "_model_module_version": "1.2.0",
            "_model_name": "LayoutModel",
            "_view_count": null,
            "_view_module": "@jupyter-widgets/base",
            "_view_module_version": "1.2.0",
            "_view_name": "LayoutView",
            "align_content": null,
            "align_items": null,
            "align_self": null,
            "border": null,
            "bottom": null,
            "display": null,
            "flex": null,
            "flex_flow": null,
            "grid_area": null,
            "grid_auto_columns": null,
            "grid_auto_flow": null,
            "grid_auto_rows": null,
            "grid_column": null,
            "grid_gap": null,
            "grid_row": null,
            "grid_template_areas": null,
            "grid_template_columns": null,
            "grid_template_rows": null,
            "height": null,
            "justify_content": null,
            "justify_items": null,
            "left": null,
            "margin": null,
            "max_height": null,
            "max_width": null,
            "min_height": null,
            "min_width": null,
            "object_fit": null,
            "object_position": null,
            "order": null,
            "overflow": null,
            "overflow_x": null,
            "overflow_y": null,
            "padding": null,
            "right": null,
            "top": null,
            "visibility": null,
            "width": null
          }
        },
        "34487fb35a9943cbae2f92cadb90f8eb": {
          "model_module": "@jupyter-widgets/controls",
          "model_name": "DescriptionStyleModel",
          "model_module_version": "1.5.0",
          "state": {
            "_model_module": "@jupyter-widgets/controls",
            "_model_module_version": "1.5.0",
            "_model_name": "DescriptionStyleModel",
            "_view_count": null,
            "_view_module": "@jupyter-widgets/base",
            "_view_module_version": "1.2.0",
            "_view_name": "StyleView",
            "description_width": ""
          }
        },
        "4e18ac5687624deda955aeb096005472": {
          "model_module": "@jupyter-widgets/controls",
          "model_name": "HBoxModel",
          "model_module_version": "1.5.0",
          "state": {
            "_dom_classes": [],
            "_model_module": "@jupyter-widgets/controls",
            "_model_module_version": "1.5.0",
            "_model_name": "HBoxModel",
            "_view_count": null,
            "_view_module": "@jupyter-widgets/controls",
            "_view_module_version": "1.5.0",
            "_view_name": "HBoxView",
            "box_style": "",
            "children": [
              "IPY_MODEL_452ba540b08c486a91d9a986de420c7c",
              "IPY_MODEL_f84d988bd76a44de978b9848721bdb7b",
              "IPY_MODEL_b611d038323344faab09a050b255ff7d"
            ],
            "layout": "IPY_MODEL_6e4a15542e5b47e5957b14a2cbb0086e"
          }
        },
        "452ba540b08c486a91d9a986de420c7c": {
          "model_module": "@jupyter-widgets/controls",
          "model_name": "HTMLModel",
          "model_module_version": "1.5.0",
          "state": {
            "_dom_classes": [],
            "_model_module": "@jupyter-widgets/controls",
            "_model_module_version": "1.5.0",
            "_model_name": "HTMLModel",
            "_view_count": null,
            "_view_module": "@jupyter-widgets/controls",
            "_view_module_version": "1.5.0",
            "_view_name": "HTMLView",
            "description": "",
            "description_tooltip": null,
            "layout": "IPY_MODEL_639b89c82bba4437b191b2c6b96c20ee",
            "placeholder": "​",
            "style": "IPY_MODEL_6234777a16254ed7ae0d79d7a94ecc9a",
            "value": "Downloading: 100%"
          }
        },
        "f84d988bd76a44de978b9848721bdb7b": {
          "model_module": "@jupyter-widgets/controls",
          "model_name": "FloatProgressModel",
          "model_module_version": "1.5.0",
          "state": {
            "_dom_classes": [],
            "_model_module": "@jupyter-widgets/controls",
            "_model_module_version": "1.5.0",
            "_model_name": "FloatProgressModel",
            "_view_count": null,
            "_view_module": "@jupyter-widgets/controls",
            "_view_module_version": "1.5.0",
            "_view_name": "ProgressView",
            "bar_style": "success",
            "description": "",
            "description_tooltip": null,
            "layout": "IPY_MODEL_dbb215012cf746e59d4afe30c1316979",
            "max": 1355256,
            "min": 0,
            "orientation": "horizontal",
            "style": "IPY_MODEL_a9ce7cd17af74ea39635052f7ae7b7df",
            "value": 1355256
          }
        },
        "b611d038323344faab09a050b255ff7d": {
          "model_module": "@jupyter-widgets/controls",
          "model_name": "HTMLModel",
          "model_module_version": "1.5.0",
          "state": {
            "_dom_classes": [],
            "_model_module": "@jupyter-widgets/controls",
            "_model_module_version": "1.5.0",
            "_model_name": "HTMLModel",
            "_view_count": null,
            "_view_module": "@jupyter-widgets/controls",
            "_view_module_version": "1.5.0",
            "_view_name": "HTMLView",
            "description": "",
            "description_tooltip": null,
            "layout": "IPY_MODEL_41f630d160ea4e689ce668c77ca53a0c",
            "placeholder": "​",
            "style": "IPY_MODEL_111095c7a3224196b15c25451f15c18c",
            "value": " 1.29M/1.29M [00:00&lt;00:00, 19.9MB/s]"
          }
        },
        "6e4a15542e5b47e5957b14a2cbb0086e": {
          "model_module": "@jupyter-widgets/base",
          "model_name": "LayoutModel",
          "model_module_version": "1.2.0",
          "state": {
            "_model_module": "@jupyter-widgets/base",
            "_model_module_version": "1.2.0",
            "_model_name": "LayoutModel",
            "_view_count": null,
            "_view_module": "@jupyter-widgets/base",
            "_view_module_version": "1.2.0",
            "_view_name": "LayoutView",
            "align_content": null,
            "align_items": null,
            "align_self": null,
            "border": null,
            "bottom": null,
            "display": null,
            "flex": null,
            "flex_flow": null,
            "grid_area": null,
            "grid_auto_columns": null,
            "grid_auto_flow": null,
            "grid_auto_rows": null,
            "grid_column": null,
            "grid_gap": null,
            "grid_row": null,
            "grid_template_areas": null,
            "grid_template_columns": null,
            "grid_template_rows": null,
            "height": null,
            "justify_content": null,
            "justify_items": null,
            "left": null,
            "margin": null,
            "max_height": null,
            "max_width": null,
            "min_height": null,
            "min_width": null,
            "object_fit": null,
            "object_position": null,
            "order": null,
            "overflow": null,
            "overflow_x": null,
            "overflow_y": null,
            "padding": null,
            "right": null,
            "top": null,
            "visibility": null,
            "width": null
          }
        },
        "639b89c82bba4437b191b2c6b96c20ee": {
          "model_module": "@jupyter-widgets/base",
          "model_name": "LayoutModel",
          "model_module_version": "1.2.0",
          "state": {
            "_model_module": "@jupyter-widgets/base",
            "_model_module_version": "1.2.0",
            "_model_name": "LayoutModel",
            "_view_count": null,
            "_view_module": "@jupyter-widgets/base",
            "_view_module_version": "1.2.0",
            "_view_name": "LayoutView",
            "align_content": null,
            "align_items": null,
            "align_self": null,
            "border": null,
            "bottom": null,
            "display": null,
            "flex": null,
            "flex_flow": null,
            "grid_area": null,
            "grid_auto_columns": null,
            "grid_auto_flow": null,
            "grid_auto_rows": null,
            "grid_column": null,
            "grid_gap": null,
            "grid_row": null,
            "grid_template_areas": null,
            "grid_template_columns": null,
            "grid_template_rows": null,
            "height": null,
            "justify_content": null,
            "justify_items": null,
            "left": null,
            "margin": null,
            "max_height": null,
            "max_width": null,
            "min_height": null,
            "min_width": null,
            "object_fit": null,
            "object_position": null,
            "order": null,
            "overflow": null,
            "overflow_x": null,
            "overflow_y": null,
            "padding": null,
            "right": null,
            "top": null,
            "visibility": null,
            "width": null
          }
        },
        "6234777a16254ed7ae0d79d7a94ecc9a": {
          "model_module": "@jupyter-widgets/controls",
          "model_name": "DescriptionStyleModel",
          "model_module_version": "1.5.0",
          "state": {
            "_model_module": "@jupyter-widgets/controls",
            "_model_module_version": "1.5.0",
            "_model_name": "DescriptionStyleModel",
            "_view_count": null,
            "_view_module": "@jupyter-widgets/base",
            "_view_module_version": "1.2.0",
            "_view_name": "StyleView",
            "description_width": ""
          }
        },
        "dbb215012cf746e59d4afe30c1316979": {
          "model_module": "@jupyter-widgets/base",
          "model_name": "LayoutModel",
          "model_module_version": "1.2.0",
          "state": {
            "_model_module": "@jupyter-widgets/base",
            "_model_module_version": "1.2.0",
            "_model_name": "LayoutModel",
            "_view_count": null,
            "_view_module": "@jupyter-widgets/base",
            "_view_module_version": "1.2.0",
            "_view_name": "LayoutView",
            "align_content": null,
            "align_items": null,
            "align_self": null,
            "border": null,
            "bottom": null,
            "display": null,
            "flex": null,
            "flex_flow": null,
            "grid_area": null,
            "grid_auto_columns": null,
            "grid_auto_flow": null,
            "grid_auto_rows": null,
            "grid_column": null,
            "grid_gap": null,
            "grid_row": null,
            "grid_template_areas": null,
            "grid_template_columns": null,
            "grid_template_rows": null,
            "height": null,
            "justify_content": null,
            "justify_items": null,
            "left": null,
            "margin": null,
            "max_height": null,
            "max_width": null,
            "min_height": null,
            "min_width": null,
            "object_fit": null,
            "object_position": null,
            "order": null,
            "overflow": null,
            "overflow_x": null,
            "overflow_y": null,
            "padding": null,
            "right": null,
            "top": null,
            "visibility": null,
            "width": null
          }
        },
        "a9ce7cd17af74ea39635052f7ae7b7df": {
          "model_module": "@jupyter-widgets/controls",
          "model_name": "ProgressStyleModel",
          "model_module_version": "1.5.0",
          "state": {
            "_model_module": "@jupyter-widgets/controls",
            "_model_module_version": "1.5.0",
            "_model_name": "ProgressStyleModel",
            "_view_count": null,
            "_view_module": "@jupyter-widgets/base",
            "_view_module_version": "1.2.0",
            "_view_name": "StyleView",
            "bar_color": null,
            "description_width": ""
          }
        },
        "41f630d160ea4e689ce668c77ca53a0c": {
          "model_module": "@jupyter-widgets/base",
          "model_name": "LayoutModel",
          "model_module_version": "1.2.0",
          "state": {
            "_model_module": "@jupyter-widgets/base",
            "_model_module_version": "1.2.0",
            "_model_name": "LayoutModel",
            "_view_count": null,
            "_view_module": "@jupyter-widgets/base",
            "_view_module_version": "1.2.0",
            "_view_name": "LayoutView",
            "align_content": null,
            "align_items": null,
            "align_self": null,
            "border": null,
            "bottom": null,
            "display": null,
            "flex": null,
            "flex_flow": null,
            "grid_area": null,
            "grid_auto_columns": null,
            "grid_auto_flow": null,
            "grid_auto_rows": null,
            "grid_column": null,
            "grid_gap": null,
            "grid_row": null,
            "grid_template_areas": null,
            "grid_template_columns": null,
            "grid_template_rows": null,
            "height": null,
            "justify_content": null,
            "justify_items": null,
            "left": null,
            "margin": null,
            "max_height": null,
            "max_width": null,
            "min_height": null,
            "min_width": null,
            "object_fit": null,
            "object_position": null,
            "order": null,
            "overflow": null,
            "overflow_x": null,
            "overflow_y": null,
            "padding": null,
            "right": null,
            "top": null,
            "visibility": null,
            "width": null
          }
        },
        "111095c7a3224196b15c25451f15c18c": {
          "model_module": "@jupyter-widgets/controls",
          "model_name": "DescriptionStyleModel",
          "model_module_version": "1.5.0",
          "state": {
            "_model_module": "@jupyter-widgets/controls",
            "_model_module_version": "1.5.0",
            "_model_name": "DescriptionStyleModel",
            "_view_count": null,
            "_view_module": "@jupyter-widgets/base",
            "_view_module_version": "1.2.0",
            "_view_name": "StyleView",
            "description_width": ""
          }
        },
        "1e6acf15cebc42f188408972e672c69e": {
          "model_module": "@jupyter-widgets/controls",
          "model_name": "HBoxModel",
          "model_module_version": "1.5.0",
          "state": {
            "_dom_classes": [],
            "_model_module": "@jupyter-widgets/controls",
            "_model_module_version": "1.5.0",
            "_model_name": "HBoxModel",
            "_view_count": null,
            "_view_module": "@jupyter-widgets/controls",
            "_view_module_version": "1.5.0",
            "_view_name": "HBoxView",
            "box_style": "",
            "children": [
              "IPY_MODEL_f0ea7eabc0374be59baf1ab1bb1afe70",
              "IPY_MODEL_7b15245878d743e7b035e6fda86f464c",
              "IPY_MODEL_4dc8d396ba3d4af6acf9d3bfb8264d96"
            ],
            "layout": "IPY_MODEL_9a349d18d5b04439a543dd5a72f3592b"
          }
        },
        "f0ea7eabc0374be59baf1ab1bb1afe70": {
          "model_module": "@jupyter-widgets/controls",
          "model_name": "HTMLModel",
          "model_module_version": "1.5.0",
          "state": {
            "_dom_classes": [],
            "_model_module": "@jupyter-widgets/controls",
            "_model_module_version": "1.5.0",
            "_model_name": "HTMLModel",
            "_view_count": null,
            "_view_module": "@jupyter-widgets/controls",
            "_view_module_version": "1.5.0",
            "_view_name": "HTMLView",
            "description": "",
            "description_tooltip": null,
            "layout": "IPY_MODEL_6c2a8f54b72740e18155b12c2551bb30",
            "placeholder": "​",
            "style": "IPY_MODEL_3bb1dbab6d8a4e43846d5bed21f81e96",
            "value": "Downloading: 100%"
          }
        },
        "7b15245878d743e7b035e6fda86f464c": {
          "model_module": "@jupyter-widgets/controls",
          "model_name": "FloatProgressModel",
          "model_module_version": "1.5.0",
          "state": {
            "_dom_classes": [],
            "_model_module": "@jupyter-widgets/controls",
            "_model_module_version": "1.5.0",
            "_model_name": "FloatProgressModel",
            "_view_count": null,
            "_view_module": "@jupyter-widgets/controls",
            "_view_module_version": "1.5.0",
            "_view_name": "ProgressView",
            "bar_style": "success",
            "description": "",
            "description_tooltip": null,
            "layout": "IPY_MODEL_b6c2d9a503a84b5796b5da54361b4500",
            "max": 6431878936,
            "min": 0,
            "orientation": "horizontal",
            "style": "IPY_MODEL_4020b4514dd84ec1a856291ad2f6a62b",
            "value": 6431878936
          }
        },
        "4dc8d396ba3d4af6acf9d3bfb8264d96": {
          "model_module": "@jupyter-widgets/controls",
          "model_name": "HTMLModel",
          "model_module_version": "1.5.0",
          "state": {
            "_dom_classes": [],
            "_model_module": "@jupyter-widgets/controls",
            "_model_module_version": "1.5.0",
            "_model_name": "HTMLModel",
            "_view_count": null,
            "_view_module": "@jupyter-widgets/controls",
            "_view_module_version": "1.5.0",
            "_view_name": "HTMLView",
            "description": "",
            "description_tooltip": null,
            "layout": "IPY_MODEL_ce3eaca4e86a4883aeec5df4ccb43b5b",
            "placeholder": "​",
            "style": "IPY_MODEL_bad7d4be16c8437d83b21d790ff3c420",
            "value": " 5.99G/5.99G [02:06&lt;00:00, 38.7MB/s]"
          }
        },
        "9a349d18d5b04439a543dd5a72f3592b": {
          "model_module": "@jupyter-widgets/base",
          "model_name": "LayoutModel",
          "model_module_version": "1.2.0",
          "state": {
            "_model_module": "@jupyter-widgets/base",
            "_model_module_version": "1.2.0",
            "_model_name": "LayoutModel",
            "_view_count": null,
            "_view_module": "@jupyter-widgets/base",
            "_view_module_version": "1.2.0",
            "_view_name": "LayoutView",
            "align_content": null,
            "align_items": null,
            "align_self": null,
            "border": null,
            "bottom": null,
            "display": null,
            "flex": null,
            "flex_flow": null,
            "grid_area": null,
            "grid_auto_columns": null,
            "grid_auto_flow": null,
            "grid_auto_rows": null,
            "grid_column": null,
            "grid_gap": null,
            "grid_row": null,
            "grid_template_areas": null,
            "grid_template_columns": null,
            "grid_template_rows": null,
            "height": null,
            "justify_content": null,
            "justify_items": null,
            "left": null,
            "margin": null,
            "max_height": null,
            "max_width": null,
            "min_height": null,
            "min_width": null,
            "object_fit": null,
            "object_position": null,
            "order": null,
            "overflow": null,
            "overflow_x": null,
            "overflow_y": null,
            "padding": null,
            "right": null,
            "top": null,
            "visibility": null,
            "width": null
          }
        },
        "6c2a8f54b72740e18155b12c2551bb30": {
          "model_module": "@jupyter-widgets/base",
          "model_name": "LayoutModel",
          "model_module_version": "1.2.0",
          "state": {
            "_model_module": "@jupyter-widgets/base",
            "_model_module_version": "1.2.0",
            "_model_name": "LayoutModel",
            "_view_count": null,
            "_view_module": "@jupyter-widgets/base",
            "_view_module_version": "1.2.0",
            "_view_name": "LayoutView",
            "align_content": null,
            "align_items": null,
            "align_self": null,
            "border": null,
            "bottom": null,
            "display": null,
            "flex": null,
            "flex_flow": null,
            "grid_area": null,
            "grid_auto_columns": null,
            "grid_auto_flow": null,
            "grid_auto_rows": null,
            "grid_column": null,
            "grid_gap": null,
            "grid_row": null,
            "grid_template_areas": null,
            "grid_template_columns": null,
            "grid_template_rows": null,
            "height": null,
            "justify_content": null,
            "justify_items": null,
            "left": null,
            "margin": null,
            "max_height": null,
            "max_width": null,
            "min_height": null,
            "min_width": null,
            "object_fit": null,
            "object_position": null,
            "order": null,
            "overflow": null,
            "overflow_x": null,
            "overflow_y": null,
            "padding": null,
            "right": null,
            "top": null,
            "visibility": null,
            "width": null
          }
        },
        "3bb1dbab6d8a4e43846d5bed21f81e96": {
          "model_module": "@jupyter-widgets/controls",
          "model_name": "DescriptionStyleModel",
          "model_module_version": "1.5.0",
          "state": {
            "_model_module": "@jupyter-widgets/controls",
            "_model_module_version": "1.5.0",
            "_model_name": "DescriptionStyleModel",
            "_view_count": null,
            "_view_module": "@jupyter-widgets/base",
            "_view_module_version": "1.2.0",
            "_view_name": "StyleView",
            "description_width": ""
          }
        },
        "b6c2d9a503a84b5796b5da54361b4500": {
          "model_module": "@jupyter-widgets/base",
          "model_name": "LayoutModel",
          "model_module_version": "1.2.0",
          "state": {
            "_model_module": "@jupyter-widgets/base",
            "_model_module_version": "1.2.0",
            "_model_name": "LayoutModel",
            "_view_count": null,
            "_view_module": "@jupyter-widgets/base",
            "_view_module_version": "1.2.0",
            "_view_name": "LayoutView",
            "align_content": null,
            "align_items": null,
            "align_self": null,
            "border": null,
            "bottom": null,
            "display": null,
            "flex": null,
            "flex_flow": null,
            "grid_area": null,
            "grid_auto_columns": null,
            "grid_auto_flow": null,
            "grid_auto_rows": null,
            "grid_column": null,
            "grid_gap": null,
            "grid_row": null,
            "grid_template_areas": null,
            "grid_template_columns": null,
            "grid_template_rows": null,
            "height": null,
            "justify_content": null,
            "justify_items": null,
            "left": null,
            "margin": null,
            "max_height": null,
            "max_width": null,
            "min_height": null,
            "min_width": null,
            "object_fit": null,
            "object_position": null,
            "order": null,
            "overflow": null,
            "overflow_x": null,
            "overflow_y": null,
            "padding": null,
            "right": null,
            "top": null,
            "visibility": null,
            "width": null
          }
        },
        "4020b4514dd84ec1a856291ad2f6a62b": {
          "model_module": "@jupyter-widgets/controls",
          "model_name": "ProgressStyleModel",
          "model_module_version": "1.5.0",
          "state": {
            "_model_module": "@jupyter-widgets/controls",
            "_model_module_version": "1.5.0",
            "_model_name": "ProgressStyleModel",
            "_view_count": null,
            "_view_module": "@jupyter-widgets/base",
            "_view_module_version": "1.2.0",
            "_view_name": "StyleView",
            "bar_color": null,
            "description_width": ""
          }
        },
        "ce3eaca4e86a4883aeec5df4ccb43b5b": {
          "model_module": "@jupyter-widgets/base",
          "model_name": "LayoutModel",
          "model_module_version": "1.2.0",
          "state": {
            "_model_module": "@jupyter-widgets/base",
            "_model_module_version": "1.2.0",
            "_model_name": "LayoutModel",
            "_view_count": null,
            "_view_module": "@jupyter-widgets/base",
            "_view_module_version": "1.2.0",
            "_view_name": "LayoutView",
            "align_content": null,
            "align_items": null,
            "align_self": null,
            "border": null,
            "bottom": null,
            "display": null,
            "flex": null,
            "flex_flow": null,
            "grid_area": null,
            "grid_auto_columns": null,
            "grid_auto_flow": null,
            "grid_auto_rows": null,
            "grid_column": null,
            "grid_gap": null,
            "grid_row": null,
            "grid_template_areas": null,
            "grid_template_columns": null,
            "grid_template_rows": null,
            "height": null,
            "justify_content": null,
            "justify_items": null,
            "left": null,
            "margin": null,
            "max_height": null,
            "max_width": null,
            "min_height": null,
            "min_width": null,
            "object_fit": null,
            "object_position": null,
            "order": null,
            "overflow": null,
            "overflow_x": null,
            "overflow_y": null,
            "padding": null,
            "right": null,
            "top": null,
            "visibility": null,
            "width": null
          }
        },
        "bad7d4be16c8437d83b21d790ff3c420": {
          "model_module": "@jupyter-widgets/controls",
          "model_name": "DescriptionStyleModel",
          "model_module_version": "1.5.0",
          "state": {
            "_model_module": "@jupyter-widgets/controls",
            "_model_module_version": "1.5.0",
            "_model_name": "DescriptionStyleModel",
            "_view_count": null,
            "_view_module": "@jupyter-widgets/base",
            "_view_module_version": "1.2.0",
            "_view_name": "StyleView",
            "description_width": ""
          }
        }
      }
    }
  },
  "nbformat": 4,
  "nbformat_minor": 0
}